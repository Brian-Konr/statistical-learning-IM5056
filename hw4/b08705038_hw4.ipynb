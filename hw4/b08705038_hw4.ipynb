{
 "cells": [
  {
   "cell_type": "markdown",
   "metadata": {},
   "source": [
    "## 統計學習與深度學習 HW4\n",
    "##### B08705038 資管四 郭子麟"
   ]
  },
  {
   "cell_type": "markdown",
   "metadata": {},
   "source": [
    "請將IPYNB檔與IPYNB Export之HTML檔上傳至COOL作業區。回答作業時建議使用 \"三明治\" 答題法。也就是說，先說明要做什麼，然後列出程式碼與結果，最後說明這些結果的意義。作業自己做。嚴禁抄襲。不接受紙本繳交，不接受遲交。請以英文或中文作答。\n",
    "\n",
    "#### Multilayer Perceptrons for Regression\n",
    "本次作業的主角是 Multilayer perceptrons (MLP)。我們將以MLP建構迴歸模型，探討各項相關議題。\n",
    "\n",
    "\n",
    "#### Dataset: Million Songs Dataset\n",
    "本次作業將使用\"Million Songs Dataset\"作為訓練與測試資料。請使用`pickle.load()`載入*msd_full.pickle*。這個資料集已經切割好了訓練與測試資料，並存放在一個Dictionary的結構。這個Dictionary有四個元素，x_train, y_train, x_test, y_test，分別對應到訓練特徵、訓練標記(Label)、測試特徵、測試標記。 標記變數 (label variable; i.e., $y$) 是歌曲發行年度。特徵為歌曲的聲音特性。迴歸任務為預測歌曲年分。\n",
    "\n",
    "#### Prediction Performance and Loss Function\n",
    "模型訓練應主要使用Sum of Squared Error (SSE)建構Loss Function，另外我們也會練習使用其他種類的Loss Function。為了讓圖表易於理解，不論Loss Function為何，報告預測能力應使用Root Mean Squared Error (RMSE)。使用SSE或RMSE建構Loss Function在本質上沒有差別。但SSE計算成本稍低，而RMSE較有直觀意義。\n",
    "\n",
    "\n",
    "#### Subtraining, Validation, and Test Datasets\n",
    "*msd_full.pickle* 檔案中的訓練資料已經隨機排序過。你應該使用訓練資料最後10%的資料做為Validation Set。其餘的前90%做為Subtraining Set。使用Subtraining Set來訓練資料，並以Validation Set作為參數調教與Early Stopping的依據。Test RMSE應使用測試資料計算得之。\n",
    "\n",
    "所有特徵應該標準化(均數為零，變異數為一)。標準化應該以訓練資料(注意不是Test Set or Subtraining Set)的統計量為之。標記變數(i.e., $y$)應將均數平移至0 (依照訓練資料的統計量)。標記變數的變異數不要調整。\n",
    "\n",
    "\n",
    "#### Minibatch, Epoch, and Early Stopping\n",
    "如果沒有特別說明，模型訓練時應以大小為1,000個資料點的Minibatch為之。模型使用一個Minibatch的資料更新參數之後稱為經歷了一個Batch。當所有Subtraining資料已經用來更新過模型參數，稱為經過了一個Epoch。\n",
    "\n",
    "模型訓練應使用Early Stopping決定最佳的模型。模型訓練時每100個Batch計算一次Training and Validation RMSE。如果Validation為歷史最低，則記下當下的模型參數與當時已進行的Batch數量，稱為best_step_count。如由best_step_count起算已經經過了5,000個Batch而沒有更好的Validation RMSE，則停止模型訓練，並以best_step_count時的模型參數做為最後的模型訓練結果。如果模型訓練最多執行100個epoch。如果模型已經執行了100個epoch而沒有Early Stop，則應使用歷史最佳的Validation RMSE所對應到的模型參數計算Test RMSE。\n",
    "\n",
    "\n",
    "#### Implementation Restriction\n",
    "使用Pytorch建構MLP模型。Ordinary Least Square (OLS)模型訓練沒有限制使用何種套件。"
   ]
  },
  {
   "cell_type": "markdown",
   "metadata": {},
   "source": [
    "### 資料載入\n",
    "使用下面的程式碼載入資料:"
   ]
  },
  {
   "cell_type": "code",
   "execution_count": 3,
   "metadata": {},
   "outputs": [
    {
     "name": "stdout",
     "output_type": "stream",
     "text": [
      "X_train shape =  (463715, 90)\n",
      "X_subtrain shape =  (417344, 90)\n",
      "X_valid shape =  (46371, 90)\n",
      "Y_subtrain shape =  (417344,)\n",
      "Y_valid shape =  (46371,)\n",
      "X_test shape =  (51630, 90)\n"
     ]
    }
   ],
   "source": [
    "# load packages\n",
    "%matplotlib inline\n",
    "import pickle\n",
    "from sklearn import preprocessing\n",
    "\n",
    "# Load data\n",
    "with open('data/msd_full.pickle', 'rb') as fh1:\n",
    "    msd_data = pickle.load(fh1)\n",
    "\n",
    "doscaling = 1\n",
    "if (doscaling == 1):\n",
    "    xscaler = preprocessing.StandardScaler().fit(msd_data['X_train'])\n",
    "    # standardize feature values\n",
    "    X_train = xscaler.transform(msd_data['X_train'])\n",
    "    X_test = xscaler.transform(msd_data['X_test'])\n",
    "else:\n",
    "    X_train = msd_data['X_train']\n",
    "    X_test = msd_data['X_test']\n",
    "\n",
    "Y_train = msd_data['Y_train']\n",
    "Y_test = msd_data['Y_test'].astype('float32')\n",
    "X_test = X_test.astype('float32')\n",
    "\n",
    "y_mean = Y_train.mean()\n",
    "Y_train_keep = Y_train.copy()\n",
    "Y_test_keep = Y_test.copy()\n",
    "Y_train = Y_train - y_mean\n",
    "Y_test = Y_test - y_mean\n",
    "\n",
    "\n",
    "# validation is the last 10% of training, subtraining is the first 90% of training\n",
    "nvalid = int(X_train.shape[0] * 0.1)\n",
    "nsubtrain = X_train.shape[0] - nvalid\n",
    "\n",
    "X_subtrain = X_train[0:nsubtrain, :].astype('float32')\n",
    "X_valid = X_train[nsubtrain:, :].astype('float32')\n",
    "Y_subtrain = Y_train[0:nsubtrain].astype('float32')\n",
    "Y_valid = Y_train[nsubtrain:].astype('float32')\n",
    "\n",
    "Y_subtrain_keep = Y_train_keep[0:nsubtrain].astype('float32')\n",
    "Y_valid_keep = Y_train_keep[nsubtrain:].astype('float32')\n",
    "\n",
    "print(\"X_train shape = \", X_train.shape)\n",
    "print(\"X_subtrain shape = \", X_subtrain.shape)\n",
    "print(\"X_valid shape = \", X_valid.shape)\n",
    "print(\"Y_subtrain shape = \", Y_subtrain.shape)\n",
    "print(\"Y_valid shape = \", Y_valid.shape)\n",
    "print(\"X_test shape = \", X_test.shape)"
   ]
  },
  {
   "cell_type": "markdown",
   "metadata": {},
   "source": [
    "### 回答下面問題"
   ]
  },
  {
   "cell_type": "markdown",
   "metadata": {},
   "source": [
    "#### Q1 (5%)\n",
    "使用Training資料訓練一個Ordinary Least Square模型，並進行預測。列出此模型的RMSE與前五個特徵的參數。OLS模型應包含常數項，且不應有任何Regularization。"
   ]
  },
  {
   "cell_type": "code",
   "execution_count": 6,
   "metadata": {},
   "outputs": [
    {
     "name": "stdout",
     "output_type": "stream",
     "text": [
      "RMSE =  9.519575\n",
      "First 5 features' weights =  [ 5.2934227  -2.8868341  -1.5276396   0.06306481 -0.33957952]\n"
     ]
    }
   ],
   "source": [
    "# use ols model to fit the data and list first 5 features' weights and the RMSE. There should be no regularization.\n",
    "import numpy as np\n",
    "from sklearn import linear_model\n",
    "from sklearn.metrics import mean_squared_error\n",
    "\n",
    "ols = linear_model.LinearRegression()\n",
    "ols.fit(X_subtrain, Y_subtrain)\n",
    "Y_pred = ols.predict(X_valid)\n",
    "print(\"RMSE = \", np.sqrt(mean_squared_error(Y_valid, Y_pred)))\n",
    "print(\"First 5 features' weights = \", ols.coef_[0:5])"
   ]
  },
  {
   "cell_type": "markdown",
   "metadata": {},
   "source": [
    "#### Q2 MLP with Four Hidden Layers (15%)\n",
    "建構一個有四層Hidden Layer的MLP。此模型由輸入層開始，90個Input Features通過線性層轉換為H個Hidden Nodes，並通過ReLu Activation Function，此為第一層Hidden Layer。\n",
    "接著通過下一個線性層與ReLu Activation Function，此為第二層。接著下一個線性層與ReLu Activation Function，此為第三層。\n",
    "然後下一個線性層與ReLu Activation Function，此為第四層。最後通過一個線性層輸出。\n",
    "所有Hidden Layer的寬度都為H。\n",
    "\n",
    "令H= 45, 使用Stochastic Gradient Descent更新參數，設Learning Rate = 0.00001，無Weight Decay與Momentum。畫出模型訓練過程中的Training與Validation RMSE，列出Test RMSE。 並討論訓練過程中Training與Validation RMSE的圖形意義。\n"
   ]
  },
  {
   "cell_type": "markdown",
   "metadata": {},
   "source": [
    "##### Construct Dataset and DataLoader"
   ]
  },
  {
   "cell_type": "markdown",
   "metadata": {},
   "source": [
    "##### Construct a MLP Model Class"
   ]
  },
  {
   "cell_type": "code",
   "execution_count": 51,
   "metadata": {},
   "outputs": [],
   "source": [
    "import copy\n",
    "import matplotlib.pyplot as plt\n",
    "import torch\n",
    "from torch.utils import data\n",
    "import numpy as np\n",
    "\n",
    "class MSDataset(data.Dataset):\n",
    "    def __init__(self, X, Y):\n",
    "        self.X = X\n",
    "        self.Y = Y\n",
    "\n",
    "    def __len__(self):\n",
    "        return len(self.Y)\n",
    "\n",
    "    def __getitem__(self, index):\n",
    "        return self.X[index], self.Y[index]\n",
    "\n",
    "class MyMLP():\n",
    "    def __init__(self, X_subtrain, Y_subtrain, X_valid, Y_valid, H = 45, lr = 0.00001, optimizer_type = 0, loss_type = 0, wd = 0, mom = 0, use_dropout = False, dropout_rate = 0.5, loss_z = 0.5):\n",
    "        \"\"\"\n",
    "        #### Parameters\n",
    "        - X_subtrain: training data\n",
    "        - Y_subtrain: training label\n",
    "        - X_valid: validation data\n",
    "        - Y_valid: validation label\n",
    "        - H: the number of hidden units for each layer. Default is 45.\n",
    "        - lr: learning rate. Default: 0.00001\n",
    "        - wd: weight decay. Default: 0\n",
    "        - mom: momentum. Default: 0\n",
    "        - loss_type: the type of loss function. 0: SSE, 1: L2 + L1, 2: L2 customized. Default: 0\n",
    "        - optimizer_type: the type of optimizer. 0: SGD, 1: Adam. Default: 0\n",
    "        - use_dropout: whether to use dropout. Default: False\n",
    "        - dropout_rate: the rate of dropout. 0.5 by default\n",
    "        - loss_z: the parameter for L2 + L1 loss function. 0.5 by default\n",
    "        \"\"\"\n",
    "        self.train_dataset = MSDataset(X_subtrain, Y_subtrain)\n",
    "        self.valid_dataset = MSDataset(X_valid, Y_valid)\n",
    "        self.train_loader = data.DataLoader(self.train_dataset, batch_size=1000, shuffle=True)\n",
    "        self.valid_loader = data.DataLoader(self.valid_dataset, batch_size=1000, shuffle=False)\n",
    "        self.H = H\n",
    "        self.lr = lr\n",
    "        self.wd = wd\n",
    "        self.mom = mom\n",
    "        self.loss_type = loss_type\n",
    "        self.optimizer_type = optimizer_type\n",
    "        self.use_dropout = use_dropout\n",
    "        self.dropout_rate = dropout_rate\n",
    "        self.loss_z = loss_z\n",
    "        self.device = torch.device(\"cuda:0\" if torch.cuda.is_available() else \"cpu\")\n",
    "        self.model = self.__get_model_sequential()\n",
    "        self.loss_function = self.__get_loss_function()\n",
    "        self.optimizer = self.__get_optimizer()\n",
    "\n",
    "    def __get_model_sequential(self):\n",
    "        if self.use_dropout:\n",
    "            model = torch.nn.Sequential(\n",
    "                torch.nn.Linear(90, self.H),\n",
    "                torch.nn.ReLU(),\n",
    "                torch.nn.Dropout(p = self.dropout_rate),\n",
    "                torch.nn.Linear(self.H, self.H),\n",
    "                torch.nn.ReLU(),\n",
    "                torch.nn.Dropout(p = self.dropout_rate),\n",
    "                torch.nn.Linear(self.H, self.H),\n",
    "                torch.nn.ReLU(),\n",
    "                torch.nn.Dropout(p = self.dropout_rate),\n",
    "                torch.nn.Linear(self.H, self.H),\n",
    "                torch.nn.ReLU(),\n",
    "                torch.nn.Dropout(p = self.dropout_rate),\n",
    "                torch.nn.Linear(self.H, 1)\n",
    "            )\n",
    "        else:\n",
    "            model = torch.nn.Sequential(\n",
    "                torch.nn.Linear(90, self.H),\n",
    "                torch.nn.ReLU(),\n",
    "                torch.nn.Linear(self.H, self.H),\n",
    "                torch.nn.ReLU(),\n",
    "                torch.nn.Linear(self.H, self.H),\n",
    "                torch.nn.ReLU(),\n",
    "                torch.nn.Linear(self.H, self.H),\n",
    "                torch.nn.ReLU(),\n",
    "                torch.nn.Linear(self.H, 1)\n",
    "            )\n",
    "        model.float().to(self.device)\n",
    "        return model\n",
    "    def __get_loss_function(self):\n",
    "        if self.loss_type == 0: # SSE\n",
    "            loss_function = torch.nn.MSELoss(reduction='sum')\n",
    "        elif self.loss_type == 1: # L2 + L1\n",
    "            loss_function = self.__l2_l1_loss\n",
    "        else: # L2 customized\n",
    "            loss_function = self.__customized_l2_loss\n",
    "        return loss_function\n",
    "    def fit(self, max_epoch = 100, verbose = True, patience_batch_num = 5000, model_path = 'model.ckpt'):\n",
    "        \"\"\"\n",
    "        For every 100 batches, print the training loss and validation loss.\\n\n",
    "        It will return two lists: training loss and validation loss.\n",
    "        #### Parameters\n",
    "        - max_epoch: the maximum number of epochs. Default: 100\n",
    "        - verbose: whether to print the training information. Default: True\n",
    "        - patience_batch_num: the number of batches to wait before early stopping. Default: 5000\n",
    "        \"\"\"\n",
    "        cur_step = 0\n",
    "        cur_epoch = 0\n",
    "        patience = 0\n",
    "        best_valid_loss = np.inf\n",
    "        train_loss_list = []\n",
    "        valid_loss_list = []\n",
    "        while cur_epoch < max_epoch:\n",
    "            for _, (batch_X, batch_Y) in enumerate(self.train_loader):\n",
    "                self.model.train() # switch to train mode\n",
    "                self.optimizer.zero_grad()\n",
    "                batch_X = batch_X.to(self.device)\n",
    "                batch_Y = batch_Y.reshape((-1, 1)).to(self.device)\n",
    "                batch_Y_pred = self.model(batch_X)\n",
    "                loss = self.loss_function(batch_Y_pred, batch_Y)\n",
    "                loss.backward()\n",
    "                self.optimizer.step()\n",
    "                cur_step += 1\n",
    "                if cur_step % 100 == 0:\n",
    "                    # train loss should use RMSE for the training set\n",
    "                    train_loss = 0\n",
    "                    train_size = 0\n",
    "                    self.model.eval()\n",
    "                    for _, (batch_X, batch_Y) in enumerate(self.train_loader):\n",
    "                        batch_X = batch_X.to(self.device)\n",
    "                        batch_Y = batch_Y.reshape((-1, 1)).to(self.device)\n",
    "                        batch_Y_pred = self.model(batch_X)\n",
    "                        train_loss += torch.nn.MSELoss(reduction='sum')(batch_Y_pred, batch_Y).item()\n",
    "                        train_size += batch_X.shape[0]\n",
    "                    rmse_train_loss = np.sqrt(train_loss / train_size)\n",
    "                    train_loss_list.append(rmse_train_loss)\n",
    "                    valid_loss = 0\n",
    "                    valid_rmse_loss = 0\n",
    "                    valid_size = 0\n",
    "                    for _, (batch_X, batch_Y) in enumerate(self.valid_loader):\n",
    "                        valid_size += batch_X.shape[0]\n",
    "                        batch_X = batch_X.to(self.device)\n",
    "                        batch_Y = batch_Y.reshape((-1, 1)).to(self.device)\n",
    "                        batch_Y_pred = self.model(batch_X)\n",
    "                        loss = self.loss_function(batch_Y_pred, batch_Y)\n",
    "                        valid_loss += loss.item()\n",
    "                        valid_rmse_loss += torch.nn.MSELoss(reduction='sum')(batch_Y_pred, batch_Y).item()\n",
    "                    valid_rmse_loss = np.sqrt(valid_rmse_loss / valid_size)\n",
    "                    valid_loss_list.append(valid_rmse_loss)\n",
    "                    if valid_loss < best_valid_loss:\n",
    "                        best_valid_loss = valid_loss\n",
    "                        best_model = copy.deepcopy(self.model)\n",
    "                        patience = 0\n",
    "                    else:\n",
    "                        patience += 1\n",
    "                    if verbose:\n",
    "                        print(\"Epoch: {}, Step: {}, Train Loss: {}, Valid Loss: {}\".format(cur_epoch, cur_step, train_loss_list[-1], valid_loss_list[-1]))\n",
    "                    if patience >= patience_batch_num:\n",
    "                        self.model = best_model\n",
    "                        print(\"Early stopping at epoch {}, step {}\".format(cur_epoch, cur_step))\n",
    "                        torch.save(self.model, model_path)\n",
    "                        return train_loss_list, valid_loss_list\n",
    "            cur_epoch += 1\n",
    "        self.model = best_model\n",
    "        torch.save(self.model, model_path)\n",
    "        return train_loss_list, valid_loss_list\n",
    "    def __get_optimizer(self):\n",
    "        if self.optimizer_type == 0: # SGD\n",
    "            optimizer = torch.optim.SGD(self.model.parameters(), lr=self.lr, weight_decay=self.wd, momentum=self.mom)\n",
    "        else: # Adam\n",
    "            optimizer = torch.optim.Adam(self.model.parameters(), lr=self.lr, weight_decay=self.wd)\n",
    "        return optimizer\n",
    "    def __l2_l1_loss(self, Y_pred, Y):\n",
    "        return self.loss_z * torch.nn.MSELoss(reduction='sum')(Y_pred, Y) + (1 - self.loss_z) * torch.nn.L1Loss()(Y_pred, Y)\n",
    "    def __customized_l2_loss(self, Y_pred, Y):\n",
    "        return self.loss_z * torch.nn.MSELoss(reduction='sum')(Y_pred, Y) + (1 - self.loss_z) * self.__q_loss(Y_pred, Y)\n",
    "    def __q_loss(self, Y_pred, Y, q = 0.5):\n",
    "        if Y_pred > Y:\n",
    "            return q * (Y_pred - Y)\n",
    "        elif Y_pred < Y:\n",
    "            return (1 - q) * (Y - Y_pred)\n",
    "        else:\n",
    "            return 0"
   ]
  },
  {
   "cell_type": "code",
   "execution_count": 56,
   "metadata": {},
   "outputs": [],
   "source": [
    "def calculate_test_rmse(model, device, X_test, Y_test):\n",
    "    test_dataset = MSDataset(X_test, Y_test)\n",
    "    test_loader = data.DataLoader(test_dataset, batch_size=1000, shuffle=False)\n",
    "    model.eval()\n",
    "    test_loss = 0\n",
    "    test_size = 0\n",
    "    for _, (batch_X, batch_Y) in enumerate(test_loader):\n",
    "        batch_X = batch_X.to(device)\n",
    "        batch_Y = batch_Y.reshape((-1, 1)).to(device)\n",
    "        batch_Y_pred = model(batch_X)\n",
    "        test_loss += torch.nn.MSELoss(reduction='sum')(batch_Y_pred, batch_Y).item()\n",
    "        test_size += batch_X.shape[0]\n",
    "    test_rmse_loss = np.sqrt(test_loss / test_size)\n",
    "    return test_rmse_loss"
   ]
  },
  {
   "cell_type": "markdown",
   "metadata": {},
   "source": [
    "##### Construct a MLP Model and Train"
   ]
  },
  {
   "cell_type": "code",
   "execution_count": 53,
   "metadata": {},
   "outputs": [
    {
     "name": "stdout",
     "output_type": "stream",
     "text": [
      "Epoch: 0, Step: 100, Train Loss: 10.634806085843973, Valid Loss: 10.609656744566204\n",
      "Epoch: 0, Step: 200, Train Loss: 9.090645590777221, Valid Loss: 9.0104417124174\n",
      "Epoch: 0, Step: 300, Train Loss: 9.008724315673865, Valid Loss: 8.964793240422235\n",
      "Epoch: 0, Step: 400, Train Loss: 8.85230780792544, Valid Loss: 8.804481024175608\n"
     ]
    }
   ],
   "source": [
    "q2_mlp = MyMLP(\n",
    "    X_subtrain=X_subtrain,\n",
    "    Y_subtrain=Y_subtrain,\n",
    "    X_valid=X_valid,\n",
    "    Y_valid=Y_valid,\n",
    "    H=45,\n",
    "    lr=0.00001,\n",
    "    wd=0,\n",
    "    mom=0,\n",
    "    loss_type=0,\n",
    "    optimizer_type=0,\n",
    "    use_dropout=False\n",
    ")\n",
    "train_loss_list, valid_loss_list = q2_mlp.fit(max_epoch=1, verbose=True, patience_batch_num=5000, model_path='q2_mlp.ckpt')"
   ]
  },
  {
   "cell_type": "code",
   "execution_count": 58,
   "metadata": {},
   "outputs": [
    {
     "name": "stdout",
     "output_type": "stream",
     "text": [
      "Test RMSE Loss: 8.934501721928912\n"
     ]
    }
   ],
   "source": [
    "best_model = torch.load('q2_mlp.ckpt')\n",
    "device = torch.device('cuda' if torch.cuda.is_available() else 'cpu')\n",
    "test_rmse_loss = calculate_test_rmse(best_model, device, X_test, Y_test)\n",
    "print(\"Test RMSE Loss: {}\".format(test_rmse_loss))"
   ]
  },
  {
   "cell_type": "code",
   "execution_count": 39,
   "metadata": {},
   "outputs": [
    {
     "data": {
      "image/png": "[encoded data removed]",
      "text/plain": [
       "<Figure size 720x576 with 1 Axes>"
      ]
     },
     "metadata": {
      "needs_background": "light"
     },
     "output_type": "display_data"
    }
   ],
   "source": [
    "# draw the training loss and validation loss\n",
    "# make figure larger\n",
    "plt.figure(figsize=(10, 8))\n",
    "def draw_loss(train_loss_list, valid_loss_list):\n",
    "        \"\"\"\n",
    "        Draw the training loss and validation loss.\n",
    "        \"\"\"\n",
    "        plt.plot(train_loss_list, label = \"train loss\")\n",
    "        plt.plot(valid_loss_list, label = \"valid loss\")\n",
    "        plt.xlabel(\"batch (in 100)\")\n",
    "        plt.ylabel(\"loss\")\n",
    "        plt.legend()\n",
    "        plt.show()\n",
    "draw_loss(train_loss_list, valid_loss_list)"
   ]
  },
  {
   "cell_type": "markdown",
   "metadata": {},
   "source": [
    "從上圖可以看出，在訓練過程中，Training RMSE 與 Validation RMSE 在前幾千個 Batch 都在下降。  \n",
    "但後來 Validation RMSE 開始上升，而 Training RMSE 仍在下降，這代表模型開始 Overfitting。"
   ]
  },
  {
   "cell_type": "code",
   "execution_count": 46,
   "metadata": {},
   "outputs": [
    {
     "ename": "AttributeError",
     "evalue": "'MyMLP' object has no attribute 'batch_size'",
     "output_type": "error",
     "traceback": [
      "\u001b[1;31m---------------------------------------------------------------------------\u001b[0m",
      "\u001b[1;31mAttributeError\u001b[0m                            Traceback (most recent call last)",
      "\u001b[1;32mc:\\Users\\user\\Documents\\GitHub\\statistical-learning-IM5056\\hw4\\b08705038_hw4.ipynb Cell 16\u001b[0m in \u001b[0;36m<cell line: 6>\u001b[1;34m()\u001b[0m\n\u001b[0;32m      <a href='vscode-notebook-cell:/c%3A/Users/user/Documents/GitHub/statistical-learning-IM5056/hw4/b08705038_hw4.ipynb#X40sZmlsZQ%3D%3D?line=2'>3</a>\u001b[0m q2_mlp\u001b[39m.\u001b[39mmodel\u001b[39m.\u001b[39meval()\n\u001b[0;32m      <a href='vscode-notebook-cell:/c%3A/Users/user/Documents/GitHub/statistical-learning-IM5056/hw4/b08705038_hw4.ipynb#X40sZmlsZQ%3D%3D?line=4'>5</a>\u001b[0m \u001b[39m# predict the test set\u001b[39;00m\n\u001b[1;32m----> <a href='vscode-notebook-cell:/c%3A/Users/user/Documents/GitHub/statistical-learning-IM5056/hw4/b08705038_hw4.ipynb#X40sZmlsZQ%3D%3D?line=5'>6</a>\u001b[0m Y_pred \u001b[39m=\u001b[39m q2_mlp\u001b[39m.\u001b[39;49mpredict(X_test, Y_test)\n\u001b[0;32m      <a href='vscode-notebook-cell:/c%3A/Users/user/Documents/GitHub/statistical-learning-IM5056/hw4/b08705038_hw4.ipynb#X40sZmlsZQ%3D%3D?line=6'>7</a>\u001b[0m Y_pred\n",
      "\u001b[1;32mc:\\Users\\user\\Documents\\GitHub\\statistical-learning-IM5056\\hw4\\b08705038_hw4.ipynb Cell 16\u001b[0m in \u001b[0;36mMyMLP.predict\u001b[1;34m(self, X_test, Y_test)\u001b[0m\n\u001b[0;32m    <a href='vscode-notebook-cell:/c%3A/Users/user/Documents/GitHub/statistical-learning-IM5056/hw4/b08705038_hw4.ipynb#X40sZmlsZQ%3D%3D?line=162'>163</a>\u001b[0m \u001b[39m\"\"\"\u001b[39;00m\n\u001b[0;32m    <a href='vscode-notebook-cell:/c%3A/Users/user/Documents/GitHub/statistical-learning-IM5056/hw4/b08705038_hw4.ipynb#X40sZmlsZQ%3D%3D?line=163'>164</a>\u001b[0m \u001b[39mPredict the output of X.\u001b[39;00m\n\u001b[0;32m    <a href='vscode-notebook-cell:/c%3A/Users/user/Documents/GitHub/statistical-learning-IM5056/hw4/b08705038_hw4.ipynb#X40sZmlsZQ%3D%3D?line=164'>165</a>\u001b[0m \u001b[39m\"\"\"\u001b[39;00m\n\u001b[0;32m    <a href='vscode-notebook-cell:/c%3A/Users/user/Documents/GitHub/statistical-learning-IM5056/hw4/b08705038_hw4.ipynb#X40sZmlsZQ%3D%3D?line=165'>166</a>\u001b[0m test_dataset \u001b[39m=\u001b[39m MSDataset(X_test, Y_test)\n\u001b[1;32m--> <a href='vscode-notebook-cell:/c%3A/Users/user/Documents/GitHub/statistical-learning-IM5056/hw4/b08705038_hw4.ipynb#X40sZmlsZQ%3D%3D?line=166'>167</a>\u001b[0m test_loader \u001b[39m=\u001b[39m data\u001b[39m.\u001b[39mDataLoader(test_dataset, batch_size \u001b[39m=\u001b[39m \u001b[39mself\u001b[39;49m\u001b[39m.\u001b[39;49mbatch_size, shuffle \u001b[39m=\u001b[39m \u001b[39mFalse\u001b[39;00m)\n\u001b[0;32m    <a href='vscode-notebook-cell:/c%3A/Users/user/Documents/GitHub/statistical-learning-IM5056/hw4/b08705038_hw4.ipynb#X40sZmlsZQ%3D%3D?line=167'>168</a>\u001b[0m \u001b[39mself\u001b[39m\u001b[39m.\u001b[39mmodel\u001b[39m.\u001b[39meval()\n\u001b[0;32m    <a href='vscode-notebook-cell:/c%3A/Users/user/Documents/GitHub/statistical-learning-IM5056/hw4/b08705038_hw4.ipynb#X40sZmlsZQ%3D%3D?line=168'>169</a>\u001b[0m Y_pred \u001b[39m=\u001b[39m []\n",
      "\u001b[1;31mAttributeError\u001b[0m: 'MyMLP' object has no attribute 'batch_size'"
     ]
    }
   ],
   "source": [
    "# load the best model\n",
    "q2_mlp.model = torch.load('q2_mlp.ckpt')\n",
    "q2_mlp.model.eval()\n",
    "\n",
    "# predict the test set\n",
    "Y_pred = q2_mlp.predict(X_test, Y_test)\n",
    "Y_pred"
   ]
  },
  {
   "cell_type": "markdown",
   "metadata": {},
   "source": [
    "#### Q3 (10%)\n",
    "重複上題步驟，使用H = 90與180。無須畫訓練過程的RMSE。列出這兩個Test RMSE。討論H = 45, 90, 180的Test RMSE。\n"
   ]
  },
  {
   "cell_type": "code",
   "execution_count": null,
   "metadata": {},
   "outputs": [],
   "source": [
    "mlp_90 = MyMLP(\n",
    "    X_subtrain=X_subtrain,\n",
    "    Y_subtrain=Y_subtrain,\n",
    "    X_valid=X_valid,\n",
    "    Y_valid=Y_valid,\n",
    "    H=90,\n",
    "    lr=0.00001,\n",
    "    wd=0,\n",
    "    mom=0,\n",
    "    loss_type=0,\n",
    "    optimizer_type=0,\n",
    "    use_dropout=False\n",
    ")\n",
    "train_loss_list, valid_loss_list = mlp_90.fit(\n",
    "    max_epoch=100, \n",
    "    verbose=True, \n",
    "    patience_batch_num=5000, \n",
    "    model_path='q3_mlp_90.ckpt'\n",
    ")"
   ]
  },
  {
   "cell_type": "code",
   "execution_count": null,
   "metadata": {},
   "outputs": [],
   "source": [
    "# print test RMSE loss for MLP with 90 hidden units\n",
    "mlp_90.model = torch.load('q3_mlp_90.ckpt')\n",
    "mlp_90.model.eval()\n",
    "\n",
    "Y_pred = mlp_90.predict(X_test)\n"
   ]
  },
  {
   "cell_type": "markdown",
   "metadata": {},
   "source": [
    "#### Q4 (15%)\n",
    "使用Q2的模型設定，考慮 H = 45, 90, 180與Weight Decay = 0.1, 0.2, 0.4的所有組合。模型估計後做表整理Test RMSE。討論H的選擇應為多少較合理?\n"
   ]
  },
  {
   "cell_type": "markdown",
   "metadata": {},
   "source": [
    "#### Q5 MLP with Dropout (15%)\n",
    "建構一個有Dropout的四層Hidden Layer的MLP。此模型由輸入層開始，第一層由90個Input Features通過線性層轉換為H個Hidden Nodes，通過ReLu Activation Function，之後對Hidden Unit Dropout，機率為0.5。後面各Hidden Lyaer均在ReLu後有Dropout，機率皆為0.5。最後通過一個線性層輸出。所有Hidden Layer的寬度都為H。\n",
    "\n",
    "令H= 90, 使用Adaptive Moment Estimation (Adam)更新參數，設Learning Rate = 0.001，無Weight Decay與Momentum，其他參數使用預設值。畫出模型訓練過程中的Training與Validation RMSE，列出Test RMSE。 並討論訓練過程中Training與Validation RMSE的圖形意義。\n"
   ]
  },
  {
   "cell_type": "markdown",
   "metadata": {},
   "source": [
    "#### Q6 Explore Number of Hidden Units (10%)\n",
    "使用上題的模型，考慮H = 20, 180, 360。 討論H = 20, 45, 180, 360的Test RMSE。"
   ]
  },
  {
   "cell_type": "markdown",
   "metadata": {},
   "source": [
    "\n",
    "#### Q7 L2 + L1 Loss (15%)\n",
    "我們前面的小題皆是使用SSE，也就是L2 Loss。一個改善模型訓練的方式是使用多種類似的Loss，以線性組合的方式建構Loss Function。請使用Q5中的MLP with Dropout模型 (H = 90)，並以L2 + L1 Loss訓練模型。這個Loss的定義如下:\n",
    "\n",
    "$$\n",
    "loss(\\mathbf{y}, \\hat{\\mathbf{y}}) = z \\sum_{i=1}^n (y_i - \\hat{y}_i)^2 + (1 - z) \\sum_{i = 1}^n | y_i - \\hat{y}_i |,\n",
    "$$\n",
    "其中z為實數且$0 <=z <= 1$。\n",
    "\n",
    "使用z = 0.5。並以Adam訓練模型。畫出Training and Validation RMSE，並報告Test RMSE。注意這裡繪圖時應使用RMSE而不是這個特殊的Loss。\n",
    "\n",
    "另外，使用z = 0.0, 0.1, 0.9, 1.0訓練模型(不須提供訓練過程的Loss圖形)，統整各個z值下的Test RMSE並討論。\n"
   ]
  },
  {
   "cell_type": "markdown",
   "metadata": {},
   "source": [
    "\n",
    "#### Q8 L2 + Customerized Loss (15%)\n",
    "考慮另一個比較特別的Loss Function\n",
    "\n",
    "$$\n",
    "qloss(\\mathbf{y}, \\hat{\\mathbf{y}}) = \\sum_{i=1}^n \\{ q (y_i - \\hat{y}_i)_+ + (1 - q) (\\hat{y}_i - y_i)_+ \\},\n",
    "$$\n",
    "其中q為參數且$0<=q<=1$，而$(y_i - \\hat{y}_i)_+$是取正值的意思。也就是說如果$(y_i - \\hat{y}_i) > 0$，則$(y_i - \\hat{y}_i)_+ = y_i - \\hat{y}_i$，否則$(y_i - \\hat{y}_i)_+ = 0$。\n",
    "\n",
    "令模型的Loss為$z \\sum_{i=1}^n (y_i - \\hat{y}_i)^2 + (1 - z) \\sum_{i=1}^n \\{ 0.5 (y_i - \\hat{y}_i)_+ + 0.5 (\\hat{y}_i - y_i)_+ \\} $。請使用Q5中的MLP with Dropout模型(H = 90)，令z = 0。並以Adam訓練模型。畫出Training and Validation RMSE，並報告Test RMSE。注意這裡繪圖時應使用RMSE而不是這個特殊的Loss。\n",
    "\n",
    "另外，使用z = 0.1, 0.5, 0.9, 1.0訓練模型(不須提供訓練過程的Loss圖形)，統整各個z值下的Test RMSE並討論。\n"
   ]
  },
  {
   "cell_type": "markdown",
   "metadata": {},
   "source": []
  }
 ],
 "metadata": {
  "kernelspec": {
   "display_name": "Python 3.9.12 ('python39')",
   "language": "python",
   "name": "python3"
  },
  "language_info": {
   "codemirror_mode": {
    "name": "ipython",
    "version": 3
   },
   "file_extension": ".py",
   "mimetype": "text/x-python",
   "name": "python",
   "nbconvert_exporter": "python",
   "pygments_lexer": "ipython3",
   "version": "3.9.12"
  },
  "vscode": {
   "interpreter": {
    "hash": "f1f0ca08df83ebe1228368c35aef2dd5bdef6efbf7330e5bb8a931893862d7fc"
   }
  }
 },
 "nbformat": 4,
 "nbformat_minor": 4
}
