{
 "cells": [
  {
   "cell_type": "markdown",
   "metadata": {},
   "source": [
    "## 統計學習與深度學習 HW4\n",
    "##### B08705038 資管四 郭子麟"
   ]
  },
  {
   "cell_type": "markdown",
   "metadata": {},
   "source": [
    "請將IPYNB檔與IPYNB Export之HTML檔上傳至COOL作業區。回答作業時建議使用 \"三明治\" 答題法。也就是說，先說明要做什麼，然後列出程式碼與結果，最後說明這些結果的意義。作業自己做。嚴禁抄襲。不接受紙本繳交，不接受遲交。請以英文或中文作答。\n",
    "\n",
    "#### Multilayer Perceptrons for Regression\n",
    "本次作業的主角是 Multilayer perceptrons (MLP)。我們將以MLP建構迴歸模型，探討各項相關議題。\n",
    "\n",
    "\n",
    "#### Dataset: Million Songs Dataset\n",
    "本次作業將使用\"Million Songs Dataset\"作為訓練與測試資料。請使用`pickle.load()`載入*msd_full.pickle*。這個資料集已經切割好了訓練與測試資料，並存放在一個Dictionary的結構。這個Dictionary有四個元素，x_train, y_train, x_test, y_test，分別對應到訓練特徵、訓練標記(Label)、測試特徵、測試標記。 標記變數 (label variable; i.e., $y$) 是歌曲發行年度。特徵為歌曲的聲音特性。迴歸任務為預測歌曲年分。\n",
    "\n",
    "#### Prediction Performance and Loss Function\n",
    "模型訓練應主要使用Sum of Squared Error (SSE)建構Loss Function，另外我們也會練習使用其他種類的Loss Function。為了讓圖表易於理解，不論Loss Function為何，報告預測能力應使用Root Mean Squared Error (RMSE)。使用SSE或RMSE建構Loss Function在本質上沒有差別。但SSE計算成本稍低，而RMSE較有直觀意義。\n",
    "\n",
    "\n",
    "#### Subtraining, Validation, and Test Datasets\n",
    "*msd_full.pickle* 檔案中的訓練資料已經隨機排序過。你應該使用訓練資料最後10%的資料做為Validation Set。其餘的前90%做為Subtraining Set。使用Subtraining Set來訓練資料，並以Validation Set作為參數調教與Early Stopping的依據。Test RMSE應使用測試資料計算得之。\n",
    "\n",
    "所有特徵應該標準化(均數為零，變異數為一)。標準化應該以訓練資料(注意不是Test Set or Subtraining Set)的統計量為之。標記變數(i.e., $y$)應將均數平移至0 (依照訓練資料的統計量)。標記變數的變異數不要調整。\n",
    "\n",
    "\n",
    "#### Minibatch, Epoch, and Early Stopping\n",
    "如果沒有特別說明，模型訓練時應以大小為1,000個資料點的Minibatch為之。模型使用一個Minibatch的資料更新參數之後稱為經歷了一個Batch。當所有Subtraining資料已經用來更新過模型參數，稱為經過了一個Epoch。\n",
    "\n",
    "模型訓練應使用Early Stopping決定最佳的模型。模型訓練時每100個Batch計算一次Training and Validation RMSE。如果Validation為歷史最低，則記下當下的模型參數與當時已進行的Batch數量，稱為best_step_count。如由best_step_count起算已經經過了5,000個Batch而沒有更好的Validation RMSE，則停止模型訓練，並以best_step_count時的模型參數做為最後的模型訓練結果。如果模型訓練最多執行100個epoch。如果模型已經執行了100個epoch而沒有Early Stop，則應使用歷史最佳的Validation RMSE所對應到的模型參數計算Test RMSE。\n",
    "\n",
    "\n",
    "#### Implementation Restriction\n",
    "使用Pytorch建構MLP模型。Ordinary Least Square (OLS)模型訓練沒有限制使用何種套件。"
   ]
  },
  {
   "cell_type": "markdown",
   "metadata": {},
   "source": [
    "### 資料載入\n",
    "使用下面的程式碼載入資料:"
   ]
  },
  {
   "cell_type": "code",
   "execution_count": 3,
   "metadata": {},
   "outputs": [
    {
     "name": "stdout",
     "output_type": "stream",
     "text": [
      "X_train shape =  (463715, 90)\n",
      "X_subtrain shape =  (417344, 90)\n",
      "X_valid shape =  (46371, 90)\n",
      "Y_subtrain shape =  (417344,)\n",
      "Y_valid shape =  (46371,)\n",
      "X_test shape =  (51630, 90)\n"
     ]
    }
   ],
   "source": [
    "# load packages\n",
    "%matplotlib inline\n",
    "import pickle\n",
    "from sklearn import preprocessing\n",
    "\n",
    "# Load data\n",
    "with open('data/msd_full.pickle', 'rb') as fh1:\n",
    "    msd_data = pickle.load(fh1)\n",
    "\n",
    "doscaling = 1\n",
    "if (doscaling == 1):\n",
    "    xscaler = preprocessing.StandardScaler().fit(msd_data['X_train'])\n",
    "    # standardize feature values\n",
    "    X_train = xscaler.transform(msd_data['X_train'])\n",
    "    X_test = xscaler.transform(msd_data['X_test'])\n",
    "else:\n",
    "    X_train = msd_data['X_train']\n",
    "    X_test = msd_data['X_test']\n",
    "\n",
    "Y_train = msd_data['Y_train']\n",
    "Y_test = msd_data['Y_test'].astype('float32')\n",
    "X_test = X_test.astype('float32')\n",
    "\n",
    "y_mean = Y_train.mean()\n",
    "Y_train_keep = Y_train.copy()\n",
    "Y_test_keep = Y_test.copy()\n",
    "Y_train = Y_train - y_mean\n",
    "Y_test = Y_test - y_mean\n",
    "\n",
    "\n",
    "# validation is the last 10% of training, subtraining is the first 90% of training\n",
    "nvalid = int(X_train.shape[0] * 0.1)\n",
    "nsubtrain = X_train.shape[0] - nvalid\n",
    "\n",
    "X_subtrain = X_train[0:nsubtrain, :].astype('float32')\n",
    "X_valid = X_train[nsubtrain:, :].astype('float32')\n",
    "Y_subtrain = Y_train[0:nsubtrain].astype('float32')\n",
    "Y_valid = Y_train[nsubtrain:].astype('float32')\n",
    "\n",
    "Y_subtrain_keep = Y_train_keep[0:nsubtrain].astype('float32')\n",
    "Y_valid_keep = Y_train_keep[nsubtrain:].astype('float32')\n",
    "\n",
    "print(\"X_train shape = \", X_train.shape)\n",
    "print(\"X_subtrain shape = \", X_subtrain.shape)\n",
    "print(\"X_valid shape = \", X_valid.shape)\n",
    "print(\"Y_subtrain shape = \", Y_subtrain.shape)\n",
    "print(\"Y_valid shape = \", Y_valid.shape)\n",
    "print(\"X_test shape = \", X_test.shape)"
   ]
  },
  {
   "cell_type": "markdown",
   "metadata": {},
   "source": [
    "### 回答下面問題"
   ]
  },
  {
   "cell_type": "markdown",
   "metadata": {},
   "source": [
    "#### Q1 (5%)\n",
    "使用Training資料訓練一個Ordinary Least Square模型，並進行預測。列出此模型的RMSE與前五個特徵的參數。OLS模型應包含常數項，且不應有任何Regularization。"
   ]
  },
  {
   "cell_type": "code",
   "execution_count": 6,
   "metadata": {},
   "outputs": [
    {
     "name": "stdout",
     "output_type": "stream",
     "text": [
      "RMSE =  9.519575\n",
      "First 5 features' weights =  [ 5.2934227  -2.8868341  -1.5276396   0.06306481 -0.33957952]\n"
     ]
    }
   ],
   "source": [
    "# use ols model to fit the data and list first 5 features' weights and the RMSE. There should be no regularization.\n",
    "import numpy as np\n",
    "from sklearn import linear_model\n",
    "from sklearn.metrics import mean_squared_error\n",
    "\n",
    "ols = linear_model.LinearRegression()\n",
    "ols.fit(X_subtrain, Y_subtrain)\n",
    "Y_pred = ols.predict(X_valid)\n",
    "print(\"RMSE = \", np.sqrt(mean_squared_error(Y_valid, Y_pred)))\n",
    "print(\"First 5 features' weights = \", ols.coef_[0:5])"
   ]
  },
  {
   "cell_type": "markdown",
   "metadata": {},
   "source": [
    "#### Q2 MLP with Four Hidden Layers (15%)\n",
    "建構一個有四層Hidden Layer的MLP。此模型由輸入層開始，90個Input Features通過線性層轉換為H個Hidden Nodes，並通過ReLu Activation Function，此為第一層Hidden Layer。\n",
    "接著通過下一個線性層與ReLu Activation Function，此為第二層。接著下一個線性層與ReLu Activation Function，此為第三層。\n",
    "然後下一個線性層與ReLu Activation Function，此為第四層。最後通過一個線性層輸出。\n",
    "所有Hidden Layer的寬度都為H。\n",
    "\n",
    "令H= 45, 使用Stochastic Gradient Descent更新參數，設Learning Rate = 0.00001，無Weight Decay與Momentum。畫出模型訓練過程中的Training與Validation RMSE，列出Test RMSE。 並討論訓練過程中Training與Validation RMSE的圖形意義。\n"
   ]
  },
  {
   "cell_type": "markdown",
   "metadata": {},
   "source": [
    "##### Construct Dataset and DataLoader"
   ]
  },
  {
   "cell_type": "markdown",
   "metadata": {},
   "source": [
    "##### Construct a MLP Model Class"
   ]
  },
  {
   "cell_type": "code",
   "execution_count": 82,
   "metadata": {},
   "outputs": [],
   "source": [
    "import copy\n",
    "import matplotlib.pyplot as plt\n",
    "import torch\n",
    "from torch.utils import data\n",
    "import numpy as np\n",
    "\n",
    "class L2L1Loss(torch.nn.Module):\n",
    "    def __init__(self, loss_z):\n",
    "        super(L2L1Loss, self).__init__()\n",
    "        self.loss_z = loss_z\n",
    "    def forward(self, Y_pred, Y):\n",
    "        return self.loss_z * torch.nn.MSELoss(reduction='sum')(Y_pred, Y) + (1 - self.loss_z) * torch.nn.L1Loss(reduction='sum')(Y_pred, Y)\n",
    "\n",
    "class CustomizedL2Loss(torch.nn.Module):\n",
    "    def __init__(self, loss_z):\n",
    "        super(CustomizedL2Loss, self).__init__()\n",
    "        self.loss_z = loss_z\n",
    "    def forward(self, Y_pred, Y):\n",
    "        return self.loss_z * torch.nn.MSELoss(reduction='sum')(Y_pred, Y) + (1 - self.loss_z) * abs(torch.nn.L1Loss(reduction='sum')(Y_pred, Y))\n",
    "\n",
    "class MSDataset(data.Dataset):\n",
    "    def __init__(self, X, Y):\n",
    "        self.X = X\n",
    "        self.Y = Y\n",
    "\n",
    "    def __len__(self):\n",
    "        return len(self.Y)\n",
    "\n",
    "    def __getitem__(self, index):\n",
    "        return self.X[index], self.Y[index]\n",
    "\n",
    "class MyMLP():\n",
    "    def __init__(self, X_subtrain, Y_subtrain, X_valid, Y_valid, H = 45, lr = 0.00001, optimizer_type = 0, loss_type = 0, wd = 0, mom = 0, use_dropout = False, dropout_rate = 0.5, loss_z = 0.5):\n",
    "        \"\"\"\n",
    "        #### Parameters\n",
    "        - X_subtrain: training data\n",
    "        - Y_subtrain: training label\n",
    "        - X_valid: validation data\n",
    "        - Y_valid: validation label\n",
    "        - H: the number of hidden units for each layer. Default is 45.\n",
    "        - lr: learning rate. Default: 0.00001\n",
    "        - wd: weight decay. Default: 0\n",
    "        - mom: momentum. Default: 0\n",
    "        - loss_type: the type of loss function. 0: SSE, 1: L2 + L1, 2: L2 customized. Default: 0\n",
    "        - optimizer_type: the type of optimizer. 0: SGD, 1: Adam. Default: 0\n",
    "        - use_dropout: whether to use dropout. Default: False\n",
    "        - dropout_rate: the rate of dropout. 0.5 by default\n",
    "        - loss_z: the parameter for L2 + L1 loss function. 0.5 by default\n",
    "        \"\"\"\n",
    "        self.train_dataset = MSDataset(X_subtrain, Y_subtrain)\n",
    "        self.valid_dataset = MSDataset(X_valid, Y_valid)\n",
    "        self.train_loader = data.DataLoader(self.train_dataset, batch_size=1000, shuffle=True)\n",
    "        self.valid_loader = data.DataLoader(self.valid_dataset, batch_size=1000, shuffle=False)\n",
    "        self.H = H\n",
    "        self.lr = lr\n",
    "        self.wd = wd\n",
    "        self.mom = mom\n",
    "        self.loss_type = loss_type\n",
    "        self.optimizer_type = optimizer_type\n",
    "        self.use_dropout = use_dropout\n",
    "        self.dropout_rate = dropout_rate\n",
    "        self.loss_z = loss_z\n",
    "        self.device = torch.device(\"cuda:0\" if torch.cuda.is_available() else \"cpu\")\n",
    "        self.model = self.__get_model_sequential()\n",
    "        self.loss_function = self.__get_loss_function()\n",
    "        self.optimizer = self.__get_optimizer()\n",
    "\n",
    "    def __get_model_sequential(self):\n",
    "        if self.use_dropout:\n",
    "            model = torch.nn.Sequential(\n",
    "                torch.nn.Linear(90, self.H),\n",
    "                torch.nn.ReLU(),\n",
    "                torch.nn.Dropout(p = self.dropout_rate),\n",
    "                torch.nn.Linear(self.H, self.H),\n",
    "                torch.nn.ReLU(),\n",
    "                torch.nn.Dropout(p = self.dropout_rate),\n",
    "                torch.nn.Linear(self.H, self.H),\n",
    "                torch.nn.ReLU(),\n",
    "                torch.nn.Dropout(p = self.dropout_rate),\n",
    "                torch.nn.Linear(self.H, self.H),\n",
    "                torch.nn.ReLU(),\n",
    "                torch.nn.Dropout(p = self.dropout_rate),\n",
    "                torch.nn.Linear(self.H, 1)\n",
    "            )\n",
    "        else:\n",
    "            model = torch.nn.Sequential(\n",
    "                torch.nn.Linear(90, self.H),\n",
    "                torch.nn.ReLU(),\n",
    "                torch.nn.Linear(self.H, self.H),\n",
    "                torch.nn.ReLU(),\n",
    "                torch.nn.Linear(self.H, self.H),\n",
    "                torch.nn.ReLU(),\n",
    "                torch.nn.Linear(self.H, self.H),\n",
    "                torch.nn.ReLU(),\n",
    "                torch.nn.Linear(self.H, 1)\n",
    "            )\n",
    "        model.float().to(self.device)\n",
    "        return model\n",
    "    def __get_loss_function(self):\n",
    "        if self.loss_type == 0: # SSE\n",
    "            loss_function = torch.nn.MSELoss(reduction='sum')\n",
    "        elif self.loss_type == 1: # L2 + L1\n",
    "            loss_function = L2L1Loss(self.loss_z)\n",
    "        else: # L2 customized\n",
    "            loss_function = CustomizedL2Loss(self.loss_z)\n",
    "        return loss_function\n",
    "    def fit(self, max_epoch = 100, verbose = True, patience_batch_num = 5000, model_path = 'model.ckpt'):\n",
    "        \"\"\"\n",
    "        For every 100 batches, print the training loss and validation loss.\\n\n",
    "        It will return two lists: training loss and validation loss.\n",
    "        #### Parameters\n",
    "        - max_epoch: the maximum number of epochs. Default: 100\n",
    "        - verbose: whether to print the training information. Default: True\n",
    "        - patience_batch_num: the number of batches to wait before early stopping. Default: 5000\n",
    "        \"\"\"\n",
    "        cur_step = 0\n",
    "        cur_epoch = 0\n",
    "        patience = 0\n",
    "        best_valid_loss = np.inf\n",
    "        train_loss_list = []\n",
    "        valid_loss_list = []\n",
    "        while cur_epoch < max_epoch:\n",
    "            for _, (batch_X, batch_Y) in enumerate(self.train_loader):\n",
    "                self.model.train() # switch to train mode\n",
    "                self.optimizer.zero_grad()\n",
    "                batch_X = batch_X.to(self.device)\n",
    "                batch_Y = batch_Y.reshape((-1, 1)).to(self.device)\n",
    "                batch_Y_pred = self.model(batch_X)\n",
    "                loss = self.loss_function(batch_Y_pred, batch_Y)\n",
    "                loss.backward()\n",
    "                self.optimizer.step()\n",
    "                cur_step += 1\n",
    "                if cur_step % 100 == 0:\n",
    "                    # train loss should use RMSE for the training set\n",
    "                    train_loss = 0\n",
    "                    train_size = 0\n",
    "                    self.model.eval()\n",
    "                    for _, (batch_X, batch_Y) in enumerate(self.train_loader):\n",
    "                        batch_X = batch_X.to(self.device)\n",
    "                        batch_Y = batch_Y.reshape((-1, 1)).to(self.device)\n",
    "                        batch_Y_pred = self.model(batch_X)\n",
    "                        train_loss += torch.nn.MSELoss(reduction='sum')(batch_Y_pred, batch_Y).item()\n",
    "                        train_size += batch_X.shape[0]\n",
    "                    rmse_train_loss = np.sqrt(train_loss / train_size)\n",
    "                    train_loss_list.append(rmse_train_loss)\n",
    "                    valid_loss = 0\n",
    "                    valid_rmse_loss = 0\n",
    "                    valid_size = 0\n",
    "                    for _, (batch_X, batch_Y) in enumerate(self.valid_loader):\n",
    "                        valid_size += batch_X.shape[0]\n",
    "                        batch_X = batch_X.to(self.device)\n",
    "                        batch_Y = batch_Y.reshape((-1, 1)).to(self.device)\n",
    "                        batch_Y_pred = self.model(batch_X)\n",
    "                        loss = self.loss_function(batch_Y_pred, batch_Y)\n",
    "                        valid_loss += loss.item()\n",
    "                        valid_rmse_loss += torch.nn.MSELoss(reduction='sum')(batch_Y_pred, batch_Y).item()\n",
    "                    valid_rmse_loss = np.sqrt(valid_rmse_loss / valid_size)\n",
    "                    valid_loss_list.append(valid_rmse_loss)\n",
    "                    if valid_loss < best_valid_loss:\n",
    "                        best_valid_loss = valid_loss\n",
    "                        best_model = copy.deepcopy(self.model)\n",
    "                        patience = 0\n",
    "                    else:\n",
    "                        patience += 1\n",
    "                    if verbose:\n",
    "                        print(\"Epoch: {}, Step: {}, Train Loss: {}, Valid Loss: {}\".format(cur_epoch, cur_step, train_loss_list[-1], valid_loss_list[-1]))\n",
    "                    if patience >= patience_batch_num:\n",
    "                        self.model = best_model\n",
    "                        print(\"Early stopping at epoch {}, step {}\".format(cur_epoch, cur_step))\n",
    "                        torch.save(self.model, model_path)\n",
    "                        return train_loss_list, valid_loss_list\n",
    "            cur_epoch += 1\n",
    "        self.model = best_model\n",
    "        torch.save(self.model, model_path)\n",
    "        return train_loss_list, valid_loss_list\n",
    "    def __get_optimizer(self):\n",
    "        if self.optimizer_type == 0: # SGD\n",
    "            optimizer = torch.optim.SGD(self.model.parameters(), lr=self.lr, weight_decay=self.wd, momentum=self.mom)\n",
    "        else: # Adam\n",
    "            optimizer = torch.optim.Adam(self.model.parameters(), lr=self.lr, weight_decay=self.wd)\n",
    "        return optimizer"
   ]
  },
  {
   "cell_type": "code",
   "execution_count": 59,
   "metadata": {},
   "outputs": [],
   "source": [
    "def calculate_test_rmse(model, X_test, Y_test):\n",
    "    test_dataset = MSDataset(X_test, Y_test)\n",
    "    test_loader = data.DataLoader(test_dataset, batch_size=1000, shuffle=False)\n",
    "    model.eval()\n",
    "    device = torch.device(\"cuda:0\" if torch.cuda.is_available() else \"cpu\")\n",
    "    test_loss = 0\n",
    "    test_size = 0\n",
    "    for _, (batch_X, batch_Y) in enumerate(test_loader):\n",
    "        batch_X = batch_X.to(device)\n",
    "        batch_Y = batch_Y.reshape((-1, 1)).to(device)\n",
    "        batch_Y_pred = model(batch_X)\n",
    "        test_loss += torch.nn.MSELoss(reduction='sum')(batch_Y_pred, batch_Y).item()\n",
    "        test_size += batch_X.shape[0]\n",
    "    test_rmse_loss = np.sqrt(test_loss / test_size)\n",
    "    return test_rmse_loss"
   ]
  },
  {
   "cell_type": "markdown",
   "metadata": {},
   "source": [
    "##### Construct a MLP Model and Train"
   ]
  },
  {
   "cell_type": "code",
   "execution_count": 53,
   "metadata": {},
   "outputs": [
    {
     "name": "stdout",
     "output_type": "stream",
     "text": [
      "Epoch: 0, Step: 100, Train Loss: 10.634806085843973, Valid Loss: 10.609656744566204\n",
      "Epoch: 0, Step: 200, Train Loss: 9.090645590777221, Valid Loss: 9.0104417124174\n",
      "Epoch: 0, Step: 300, Train Loss: 9.008724315673865, Valid Loss: 8.964793240422235\n",
      "Epoch: 0, Step: 400, Train Loss: 8.85230780792544, Valid Loss: 8.804481024175608\n"
     ]
    }
   ],
   "source": [
    "q2_mlp = MyMLP(\n",
    "    X_subtrain=X_subtrain,\n",
    "    Y_subtrain=Y_subtrain,\n",
    "    X_valid=X_valid,\n",
    "    Y_valid=Y_valid,\n",
    "    H=45,\n",
    "    lr=0.00001,\n",
    "    wd=0,\n",
    "    mom=0,\n",
    "    loss_type=0,\n",
    "    optimizer_type=0,\n",
    "    use_dropout=False\n",
    ")\n",
    "train_loss_list, valid_loss_list = q2_mlp.fit(max_epoch=100, verbose=True, patience_batch_num=5000, model_path='q2_mlp.ckpt')"
   ]
  },
  {
   "cell_type": "code",
   "execution_count": 62,
   "metadata": {},
   "outputs": [
    {
     "name": "stdout",
     "output_type": "stream",
     "text": [
      "Test RMSE Loss: 8.934501721928912\n"
     ]
    }
   ],
   "source": [
    "best_model_q2 = torch.load('q2_mlp.ckpt')\n",
    "test_rmse_loss = calculate_test_rmse(best_model_q2, X_test, Y_test)\n",
    "print(\"Test RMSE Loss: {}\".format(test_rmse_loss))"
   ]
  },
  {
   "cell_type": "code",
   "execution_count": 39,
   "metadata": {},
   "outputs": [
    {
     "data": {
      "image/png": "[encoded data removed]",
      "text/plain": [
       "<Figure size 720x576 with 1 Axes>"
      ]
     },
     "metadata": {
      "needs_background": "light"
     },
     "output_type": "display_data"
    }
   ],
   "source": [
    "# draw the training loss and validation loss\n",
    "# make figure larger\n",
    "plt.figure(figsize=(10, 8))\n",
    "def draw_loss(train_loss_list, valid_loss_list):\n",
    "        \"\"\"\n",
    "        Draw the training loss and validation loss.\n",
    "        \"\"\"\n",
    "        plt.plot(train_loss_list, label = \"train loss\")\n",
    "        plt.plot(valid_loss_list, label = \"valid loss\")\n",
    "        plt.xlabel(\"batch (in 100)\")\n",
    "        plt.ylabel(\"loss\")\n",
    "        plt.legend()\n",
    "        plt.show()\n",
    "draw_loss(train_loss_list, valid_loss_list)"
   ]
  },
  {
   "cell_type": "markdown",
   "metadata": {},
   "source": [
    "從上圖可以看出，在訓練過程中，Training RMSE 與 Validation RMSE 在前幾千個 Batch 都在下降。  \n",
    "但後來 Validation RMSE 開始上升，而 Training RMSE 仍在下降，這代表模型開始 Overfitting。"
   ]
  },
  {
   "cell_type": "markdown",
   "metadata": {},
   "source": [
    "#### Q3 (10%)\n",
    "重複上題步驟，使用H = 90與180。無須畫訓練過程的RMSE。列出這兩個Test RMSE。討論H = 45, 90, 180的Test RMSE。\n"
   ]
  },
  {
   "cell_type": "code",
   "execution_count": 63,
   "metadata": {},
   "outputs": [
    {
     "name": "stdout",
     "output_type": "stream",
     "text": [
      "Epoch: 0, Step: 100, Train Loss: 9.942243679162095, Valid Loss: 9.898914593406602\n",
      "Epoch: 0, Step: 200, Train Loss: 9.07490035989813, Valid Loss: 9.013738549663888\n",
      "Epoch: 0, Step: 300, Train Loss: 9.030378943292307, Valid Loss: 9.000228638316583\n",
      "Epoch: 0, Step: 400, Train Loss: 8.851100078801414, Valid Loss: 8.815910807268018\n"
     ]
    }
   ],
   "source": [
    "mlp_90 = MyMLP(\n",
    "    X_subtrain=X_subtrain,\n",
    "    Y_subtrain=Y_subtrain,\n",
    "    X_valid=X_valid,\n",
    "    Y_valid=Y_valid,\n",
    "    H=90,\n",
    "    lr=0.00001,\n",
    "    wd=0,\n",
    "    mom=0,\n",
    "    loss_type=0,\n",
    "    optimizer_type=0,\n",
    "    use_dropout=False\n",
    ")\n",
    "train_loss_list, valid_loss_list = mlp_90.fit(\n",
    "    max_epoch=100, \n",
    "    verbose=True, \n",
    "    patience_batch_num=5000, \n",
    "    model_path='q3_mlp_90.ckpt'\n",
    ")"
   ]
  },
  {
   "cell_type": "code",
   "execution_count": 64,
   "metadata": {},
   "outputs": [
    {
     "name": "stdout",
     "output_type": "stream",
     "text": [
      "Test RMSE Loss for 90 hidden units: 8.965207331652502\n"
     ]
    }
   ],
   "source": [
    "q3_mlp_90_best_model = torch.load('q3_mlp_90.ckpt')\n",
    "test_rmse_loss = calculate_test_rmse(q3_mlp_90_best_model, X_test, Y_test)\n",
    "print(f\"Test RMSE Loss for 90 hidden units: {test_rmse_loss}\")"
   ]
  },
  {
   "cell_type": "code",
   "execution_count": 65,
   "metadata": {},
   "outputs": [
    {
     "name": "stdout",
     "output_type": "stream",
     "text": [
      "Epoch: 0, Step: 100, Train Loss: 9.347551184891104, Valid Loss: 9.289103468933975\n",
      "Epoch: 0, Step: 200, Train Loss: 9.120534683241981, Valid Loss: 9.06655679164779\n",
      "Epoch: 0, Step: 300, Train Loss: 8.871531430202332, Valid Loss: 8.832074798568065\n",
      "Epoch: 0, Step: 400, Train Loss: 8.795377837172458, Valid Loss: 8.763463263068273\n"
     ]
    }
   ],
   "source": [
    "mlp_180 = MyMLP(\n",
    "    X_subtrain=X_subtrain,\n",
    "    Y_subtrain=Y_subtrain,\n",
    "    X_valid=X_valid,\n",
    "    Y_valid=Y_valid,\n",
    "    H=180,\n",
    "    lr=0.00001,\n",
    "    wd=0,\n",
    "    mom=0,\n",
    "    loss_type=0,\n",
    "    optimizer_type=0,\n",
    "    use_dropout=False\n",
    ")\n",
    "train_loss_list, valid_loss_list = mlp_180.fit(\n",
    "    max_epoch=100, \n",
    "    verbose=True, \n",
    "    patience_batch_num=5000, \n",
    "    model_path='q3_mlp_180.ckpt'\n",
    ")"
   ]
  },
  {
   "cell_type": "code",
   "execution_count": 66,
   "metadata": {},
   "outputs": [
    {
     "name": "stdout",
     "output_type": "stream",
     "text": [
      "Test RMSE Loss for 90 hidden units: 8.918703611390761\n"
     ]
    }
   ],
   "source": [
    "q3_mlp_180_best_model = torch.load('q3_mlp_180.ckpt')\n",
    "test_rmse_loss = calculate_test_rmse(q3_mlp_180_best_model, X_test, Y_test)\n",
    "print(f\"Test RMSE Loss for 90 hidden units: {test_rmse_loss}\")"
   ]
  },
  {
   "cell_type": "markdown",
   "metadata": {},
   "source": [
    "##### Discussion on Test RMSE with different H (H = 45, 90, 180)\n",
    "由上可知，不同的 H 其所對應的 Test RMSE 如下：\n",
    "* H = 45: 8.934501721928912\n",
    "* H = 90: 8.965207331652502\n",
    "* H = 180: 8.918703611390761\n",
    "\n",
    "TODO: 討論 H = 45, 90, 180 的 Test RMSE"
   ]
  },
  {
   "cell_type": "markdown",
   "metadata": {},
   "source": [
    "#### Q4 (15%)\n",
    "使用Q2的模型設定，考慮 H = 45, 90, 180與Weight Decay = 0.1, 0.2, 0.4的所有組合。模型估計後做表整理Test RMSE。討論H的選擇應為多少較合理?\n"
   ]
  },
  {
   "cell_type": "code",
   "execution_count": 67,
   "metadata": {},
   "outputs": [
    {
     "name": "stdout",
     "output_type": "stream",
     "text": [
      "Start training for h = 45, wd = 0.1\n",
      "Epoch: 0, Step: 100, Train Loss: 10.930431449407061, Valid Loss: 10.9099851735056\n",
      "Epoch: 0, Step: 200, Train Loss: 9.141422272972408, Valid Loss: 9.08553041443884\n",
      "Epoch: 0, Step: 300, Train Loss: 9.004023512712688, Valid Loss: 8.948015010682507\n",
      "Epoch: 0, Step: 400, Train Loss: 8.922735264565725, Valid Loss: 8.884536967721909\n",
      "Test RMSE Loss for h = 45, wd = 0.1: 9.00447210292681\n",
      "Start training for h = 45, wd = 0.2\n",
      "Epoch: 0, Step: 100, Train Loss: 10.920831943987416, Valid Loss: 10.900190666284129\n",
      "Epoch: 0, Step: 200, Train Loss: 9.12202265601901, Valid Loss: 9.063663096143207\n",
      "Epoch: 0, Step: 300, Train Loss: 8.950089641942933, Valid Loss: 8.90282652941915\n",
      "Epoch: 0, Step: 400, Train Loss: 8.859644852449481, Valid Loss: 8.81328917364331\n",
      "Test RMSE Loss for h = 45, wd = 0.2: 8.975167864269817\n",
      "Start training for h = 45, wd = 0.4\n",
      "Epoch: 0, Step: 100, Train Loss: 10.208052003718674, Valid Loss: 10.159294820764018\n",
      "Epoch: 0, Step: 200, Train Loss: 9.1035269155963, Valid Loss: 9.045880161009844\n",
      "Epoch: 0, Step: 300, Train Loss: 8.95084386216956, Valid Loss: 8.91260322258186\n",
      "Epoch: 0, Step: 400, Train Loss: 8.863220903512694, Valid Loss: 8.828096511045416\n",
      "Test RMSE Loss for h = 45, wd = 0.4: 8.974452515635917\n",
      "Start training for h = 90, wd = 0.1\n",
      "Epoch: 0, Step: 100, Train Loss: 9.561822902659054, Valid Loss: 9.515574669165488\n",
      "Epoch: 0, Step: 200, Train Loss: 9.05508590776236, Valid Loss: 9.00541114784514\n",
      "Epoch: 0, Step: 300, Train Loss: 8.934332796124824, Valid Loss: 8.881626135271516\n",
      "Epoch: 0, Step: 400, Train Loss: 8.866693660641191, Valid Loss: 8.834428397231157\n",
      "Test RMSE Loss for h = 90, wd = 0.1: 8.98245573936765\n",
      "Start training for h = 90, wd = 0.2\n",
      "Epoch: 0, Step: 100, Train Loss: 10.399633066457882, Valid Loss: 10.375379113553503\n",
      "Epoch: 0, Step: 200, Train Loss: 9.062571628019345, Valid Loss: 9.00580993504712\n",
      "Epoch: 0, Step: 300, Train Loss: 8.946870666662504, Valid Loss: 8.900643774012364\n",
      "Epoch: 0, Step: 400, Train Loss: 8.83071277183427, Valid Loss: 8.78429756215319\n",
      "Test RMSE Loss for h = 90, wd = 0.2: 8.976531557121625\n",
      "Start training for h = 90, wd = 0.4\n",
      "Epoch: 0, Step: 100, Train Loss: 9.69666899435388, Valid Loss: 9.65383540412913\n",
      "Epoch: 0, Step: 200, Train Loss: 9.283004970826935, Valid Loss: 9.231756373738795\n",
      "Epoch: 0, Step: 300, Train Loss: 8.884436141530207, Valid Loss: 8.832595881662472\n",
      "Epoch: 0, Step: 400, Train Loss: 8.93211786569632, Valid Loss: 8.885545203302367\n",
      "Test RMSE Loss for h = 90, wd = 0.4: 8.967432816355704\n",
      "Start training for h = 180, wd = 0.1\n",
      "Epoch: 0, Step: 100, Train Loss: 9.343428952741172, Valid Loss: 9.284220343476886\n",
      "Epoch: 0, Step: 200, Train Loss: 9.10345577869714, Valid Loss: 9.055720608712264\n",
      "Epoch: 0, Step: 300, Train Loss: 8.871788014140172, Valid Loss: 8.84605473906318\n",
      "Epoch: 0, Step: 400, Train Loss: 8.780903971333782, Valid Loss: 8.75087453596749\n",
      "Test RMSE Loss for h = 180, wd = 0.1: 8.906945591713846\n",
      "Start training for h = 180, wd = 0.2\n",
      "Epoch: 0, Step: 100, Train Loss: 9.68546918775792, Valid Loss: 9.648023618560648\n",
      "Epoch: 0, Step: 200, Train Loss: 9.231793953998647, Valid Loss: 9.168305777996606\n",
      "Epoch: 0, Step: 300, Train Loss: 8.962013245267638, Valid Loss: 8.91015643991645\n",
      "Epoch: 0, Step: 400, Train Loss: 8.77886552257801, Valid Loss: 8.742336144713912\n",
      "Test RMSE Loss for h = 180, wd = 0.2: 8.906601526493883\n",
      "Start training for h = 180, wd = 0.4\n",
      "Epoch: 0, Step: 100, Train Loss: 9.279632659214181, Valid Loss: 9.22617312245952\n",
      "Epoch: 0, Step: 200, Train Loss: 8.946785014928814, Valid Loss: 8.90168247639306\n",
      "Epoch: 0, Step: 300, Train Loss: 8.893903991259897, Valid Loss: 8.845177028097913\n",
      "Epoch: 0, Step: 400, Train Loss: 9.149465096327685, Valid Loss: 9.121603383896618\n",
      "Test RMSE Loss for h = 180, wd = 0.4: 8.992599759871478\n"
     ]
    }
   ],
   "source": [
    "h_list = [45, 90, 180]\n",
    "wd_list = [0.1, 0.2, 0.4]\n",
    "rmse_dict = []\n",
    "for h in h_list:\n",
    "    for wd in wd_list:\n",
    "        print(f\"Start training for h = {h}, wd = {wd}\")\n",
    "        mlp = MyMLP(\n",
    "            X_subtrain=X_subtrain,\n",
    "            Y_subtrain=Y_subtrain,\n",
    "            X_valid=X_valid,\n",
    "            Y_valid=Y_valid,\n",
    "            H=h,\n",
    "            lr=0.00001,\n",
    "            wd=wd,\n",
    "            mom=0,\n",
    "            loss_type=0,\n",
    "            optimizer_type=0,\n",
    "            use_dropout=False\n",
    "        )\n",
    "        mlp.fit(\n",
    "            max_epoch=100,\n",
    "            verbose=True,\n",
    "            patience_batch_num=5000,\n",
    "            model_path=f'q4_mlp_h_{h}_wd_{wd}.ckpt'\n",
    "        )\n",
    "        best_model = torch.load(f'q4_mlp_h_{h}_wd_{wd}.ckpt')\n",
    "        test_rmse_loss = calculate_test_rmse(best_model, X_test, Y_test)\n",
    "        rmse_record = {\n",
    "            'h': h,\n",
    "            'wd': wd,\n",
    "            'test_rmse_loss': test_rmse_loss\n",
    "        }\n",
    "        rmse_dict.append(rmse_record)\n",
    "        print(f\"Test RMSE Loss for h = {h}, wd = {wd}: {test_rmse_loss}\")"
   ]
  },
  {
   "cell_type": "code",
   "execution_count": 68,
   "metadata": {},
   "outputs": [
    {
     "data": {
      "text/html": [
       "<div>\n",
       "<style scoped>\n",
       "    .dataframe tbody tr th:only-of-type {\n",
       "        vertical-align: middle;\n",
       "    }\n",
       "\n",
       "    .dataframe tbody tr th {\n",
       "        vertical-align: top;\n",
       "    }\n",
       "\n",
       "    .dataframe thead th {\n",
       "        text-align: right;\n",
       "    }\n",
       "</style>\n",
       "<table border=\"1\" class=\"dataframe\">\n",
       "  <thead>\n",
       "    <tr style=\"text-align: right;\">\n",
       "      <th></th>\n",
       "      <th>h</th>\n",
       "      <th>wd</th>\n",
       "      <th>test_rmse_loss</th>\n",
       "    </tr>\n",
       "  </thead>\n",
       "  <tbody>\n",
       "    <tr>\n",
       "      <th>0</th>\n",
       "      <td>45</td>\n",
       "      <td>0.1</td>\n",
       "      <td>9.004472</td>\n",
       "    </tr>\n",
       "    <tr>\n",
       "      <th>1</th>\n",
       "      <td>45</td>\n",
       "      <td>0.2</td>\n",
       "      <td>8.975168</td>\n",
       "    </tr>\n",
       "    <tr>\n",
       "      <th>2</th>\n",
       "      <td>45</td>\n",
       "      <td>0.4</td>\n",
       "      <td>8.974453</td>\n",
       "    </tr>\n",
       "    <tr>\n",
       "      <th>3</th>\n",
       "      <td>90</td>\n",
       "      <td>0.1</td>\n",
       "      <td>8.982456</td>\n",
       "    </tr>\n",
       "    <tr>\n",
       "      <th>4</th>\n",
       "      <td>90</td>\n",
       "      <td>0.2</td>\n",
       "      <td>8.976532</td>\n",
       "    </tr>\n",
       "    <tr>\n",
       "      <th>5</th>\n",
       "      <td>90</td>\n",
       "      <td>0.4</td>\n",
       "      <td>8.967433</td>\n",
       "    </tr>\n",
       "    <tr>\n",
       "      <th>6</th>\n",
       "      <td>180</td>\n",
       "      <td>0.1</td>\n",
       "      <td>8.906946</td>\n",
       "    </tr>\n",
       "    <tr>\n",
       "      <th>7</th>\n",
       "      <td>180</td>\n",
       "      <td>0.2</td>\n",
       "      <td>8.906602</td>\n",
       "    </tr>\n",
       "    <tr>\n",
       "      <th>8</th>\n",
       "      <td>180</td>\n",
       "      <td>0.4</td>\n",
       "      <td>8.992600</td>\n",
       "    </tr>\n",
       "  </tbody>\n",
       "</table>\n",
       "</div>"
      ],
      "text/plain": [
       "     h   wd  test_rmse_loss\n",
       "0   45  0.1        9.004472\n",
       "1   45  0.2        8.975168\n",
       "2   45  0.4        8.974453\n",
       "3   90  0.1        8.982456\n",
       "4   90  0.2        8.976532\n",
       "5   90  0.4        8.967433\n",
       "6  180  0.1        8.906946\n",
       "7  180  0.2        8.906602\n",
       "8  180  0.4        8.992600"
      ]
     },
     "execution_count": 68,
     "metadata": {},
     "output_type": "execute_result"
    }
   ],
   "source": [
    "# display the result in a table\n",
    "import pandas as pd\n",
    "pd.DataFrame(rmse_dict)"
   ]
  },
  {
   "cell_type": "code",
   "execution_count": 70,
   "metadata": {},
   "outputs": [
    {
     "name": "stdout",
     "output_type": "stream",
     "text": [
      "Best h: 180\n",
      "Best wd: 0.2\n",
      "Best test rmse loss: 8.906601526493883\n"
     ]
    }
   ],
   "source": [
    "# print the best h and wd with lowest test rmse loss\n",
    "best_rmse_record = min(rmse_dict, key=lambda x: x['test_rmse_loss'])\n",
    "print(f\"Best h: {best_rmse_record['h']}\")\n",
    "print(f\"Best wd: {best_rmse_record['wd']}\")\n",
    "print(f\"Best test rmse loss: {best_rmse_record['test_rmse_loss']}\")"
   ]
  },
  {
   "cell_type": "markdown",
   "metadata": {},
   "source": [
    "TODO: 由上可知，我們應該選擇 H = 180, weight decay = 0.2 的組合，因為其 Test RMSE 最小。"
   ]
  },
  {
   "cell_type": "markdown",
   "metadata": {},
   "source": [
    "#### Q5 MLP with Dropout (15%)\n",
    "建構一個有Dropout的四層Hidden Layer的MLP。此模型由輸入層開始，第一層由90個Input Features通過線性層轉換為H個Hidden Nodes，通過ReLu Activation Function，之後對Hidden Unit Dropout，機率為0.5。後面各Hidden Lyaer均在ReLu後有Dropout，機率皆為0.5。最後通過一個線性層輸出。所有Hidden Layer的寬度都為H。\n",
    "\n",
    "令H= 90, 使用Adaptive Moment Estimation (Adam)更新參數，設Learning Rate = 0.001，無Weight Decay與Momentum，其他參數使用預設值。畫出模型訓練過程中的Training與Validation RMSE，列出Test RMSE。 並討論訓練過程中Training與Validation RMSE的圖形意義。\n"
   ]
  },
  {
   "cell_type": "code",
   "execution_count": 74,
   "metadata": {},
   "outputs": [
    {
     "name": "stdout",
     "output_type": "stream",
     "text": [
      "Epoch: 0, Step: 100, Train Loss: 9.510308430825985, Valid Loss: 9.459299897978426\n",
      "Epoch: 0, Step: 200, Train Loss: 9.177031504046555, Valid Loss: 9.121370736795955\n",
      "Epoch: 0, Step: 300, Train Loss: 9.088467290362518, Valid Loss: 9.02943558562455\n",
      "Epoch: 0, Step: 400, Train Loss: 9.001804181564113, Valid Loss: 8.945562922186774\n"
     ]
    },
    {
     "data": {
      "image/png": "[encoded data removed]",
      "text/plain": [
       "<Figure size 720x576 with 1 Axes>"
      ]
     },
     "metadata": {
      "needs_background": "light"
     },
     "output_type": "display_data"
    }
   ],
   "source": [
    "q5_mlp = MyMLP(\n",
    "    X_subtrain=X_subtrain,\n",
    "    Y_subtrain=Y_subtrain,\n",
    "    X_valid=X_valid,\n",
    "    Y_valid=Y_valid,\n",
    "    H=90,\n",
    "    lr=0.001,\n",
    "    wd=0,\n",
    "    mom=0,\n",
    "    loss_type=0,\n",
    "    optimizer_type=1,\n",
    "    use_dropout=True,\n",
    "    dropout_rate=0.5\n",
    ")\n",
    "train_loss_list, valid_loss_list = q5_mlp.fit(\n",
    "    max_epoch=100,\n",
    "    verbose=True,\n",
    "    patience_batch_num=5000,\n",
    "    model_path='q5_mlp.ckpt'\n",
    ")\n",
    "\n",
    "# draw the training loss and validation loss\n",
    "# make figure larger\n",
    "plt.figure(figsize=(10, 8))\n",
    "draw_loss(train_loss_list, valid_loss_list)"
   ]
  },
  {
   "cell_type": "markdown",
   "metadata": {},
   "source": [
    "TODO: 補上面 train, test RMSE 的圖與討論"
   ]
  },
  {
   "cell_type": "markdown",
   "metadata": {},
   "source": [
    "#### Q6 Explore Number of Hidden Units (10%)\n",
    "使用上題的模型，考慮H = 20, 180, 360。 討論H = 20, 45, 180, 360的Test RMSE。"
   ]
  },
  {
   "cell_type": "code",
   "execution_count": 75,
   "metadata": {},
   "outputs": [
    {
     "name": "stdout",
     "output_type": "stream",
     "text": [
      "Start training for h = 20\n",
      "Epoch: 0, Step: 100, Train Loss: 9.484375924691175, Valid Loss: 9.429079711561469\n",
      "Epoch: 0, Step: 200, Train Loss: 9.155605453209207, Valid Loss: 9.09415657672566\n",
      "Epoch: 0, Step: 300, Train Loss: 9.078109546708385, Valid Loss: 9.018124275033228\n",
      "Epoch: 0, Step: 400, Train Loss: 8.998479935410609, Valid Loss: 8.937228508075073\n",
      "Test RMSE Loss for h = 20: 9.035854605526144\n",
      "Start training for h = 45\n",
      "Epoch: 0, Step: 100, Train Loss: 9.514501564757039, Valid Loss: 9.472043268416481\n",
      "Epoch: 0, Step: 200, Train Loss: 9.149582268263702, Valid Loss: 9.089289996173514\n",
      "Epoch: 0, Step: 300, Train Loss: 9.03695488443466, Valid Loss: 8.971138808789759\n",
      "Epoch: 0, Step: 400, Train Loss: 9.00693640778153, Valid Loss: 8.950389844098476\n",
      "Test RMSE Loss for h = 45: 9.039665902622092\n",
      "Start training for h = 180\n",
      "Epoch: 0, Step: 100, Train Loss: 9.492107819317397, Valid Loss: 9.449523158096376\n",
      "Epoch: 0, Step: 200, Train Loss: 9.166615586832224, Valid Loss: 9.11094016129262\n",
      "Epoch: 0, Step: 300, Train Loss: 9.072884459722768, Valid Loss: 9.019299680659397\n",
      "Epoch: 0, Step: 400, Train Loss: 9.016307957721427, Valid Loss: 8.96051337664177\n",
      "Test RMSE Loss for h = 180: 9.07097727927287\n",
      "Start training for h = 360\n",
      "Epoch: 0, Step: 100, Train Loss: 9.593493077237143, Valid Loss: 9.552937832793068\n",
      "Epoch: 0, Step: 200, Train Loss: 9.162346647063774, Valid Loss: 9.10278367759906\n",
      "Epoch: 0, Step: 300, Train Loss: 9.091996886015096, Valid Loss: 9.031858295211173\n",
      "Epoch: 0, Step: 400, Train Loss: 9.033585254169184, Valid Loss: 8.977043368977526\n",
      "Test RMSE Loss for h = 360: 9.074801229729141\n",
      "Test RMSE Loss for h = 20: 9.035854605526144\n",
      "Test RMSE Loss for h = 45: 9.039665902622092\n",
      "Test RMSE Loss for h = 180: 9.07097727927287\n",
      "Test RMSE Loss for h = 360: 9.074801229729141\n"
     ]
    }
   ],
   "source": [
    "q6_h_list = [20, 45, 180, 360]\n",
    "test_rmse_list = []\n",
    "for h in q6_h_list:\n",
    "    print(f\"Start training for h = {h}\")\n",
    "    mlp = MyMLP(\n",
    "        X_subtrain=X_subtrain,\n",
    "        Y_subtrain=Y_subtrain,\n",
    "        X_valid=X_valid,\n",
    "        Y_valid=Y_valid,\n",
    "        H=90,\n",
    "        lr=0.001,\n",
    "        wd=0,\n",
    "        mom=0,\n",
    "        loss_type=0,\n",
    "        optimizer_type=1,\n",
    "        use_dropout=True,\n",
    "        dropout_rate=0.5\n",
    "    )\n",
    "    mlp.fit(\n",
    "        max_epoch=100,\n",
    "        verbose=True,\n",
    "        patience_batch_num=5000,\n",
    "        model_path=f'q6_mlp_h_{h}.ckpt'\n",
    "    )\n",
    "    best_model = torch.load(f'q6_mlp_h_{h}.ckpt')\n",
    "    test_rmse_loss = calculate_test_rmse(best_model, X_test, Y_test)\n",
    "    test_rmse_list.append(test_rmse_loss)\n",
    "    print(f\"Test RMSE Loss for h = {h}: {test_rmse_loss}\")"
   ]
  },
  {
   "cell_type": "code",
   "execution_count": 76,
   "metadata": {},
   "outputs": [
    {
     "name": "stdout",
     "output_type": "stream",
     "text": [
      "Test RMSE Loss for h = 20: 9.035854605526144\n",
      "Test RMSE Loss for h = 45: 9.039665902622092\n",
      "Test RMSE Loss for h = 180: 9.07097727927287\n",
      "Test RMSE Loss for h = 360: 9.074801229729141\n"
     ]
    }
   ],
   "source": [
    "# print rmse according to different h\n",
    "for h, rmse in zip(q6_h_list, test_rmse_list):\n",
    "    print(f\"Test RMSE Loss for h = {h}: {rmse}\")"
   ]
  },
  {
   "cell_type": "markdown",
   "metadata": {},
   "source": [
    "TODO: 討論上面不同 H 的 Test RMSE"
   ]
  },
  {
   "cell_type": "markdown",
   "metadata": {},
   "source": [
    "\n",
    "#### Q7 L2 + L1 Loss (15%)\n",
    "我們前面的小題皆是使用SSE，也就是L2 Loss。一個改善模型訓練的方式是使用多種類似的Loss，以線性組合的方式建構Loss Function。請使用Q5中的MLP with Dropout模型 (H = 90)，並以L2 + L1 Loss訓練模型。這個Loss的定義如下:\n",
    "\n",
    "$$\n",
    "loss(\\mathbf{y}, \\hat{\\mathbf{y}}) = z \\sum_{i=1}^n (y_i - \\hat{y}_i)^2 + (1 - z) \\sum_{i = 1}^n | y_i - \\hat{y}_i |,\n",
    "$$\n",
    "其中z為實數且$0 <=z <= 1$。\n",
    "\n",
    "使用z = 0.5。並以Adam訓練模型。畫出Training and Validation RMSE，並報告Test RMSE。注意這裡繪圖時應使用RMSE而不是這個特殊的Loss。\n",
    "\n",
    "另外，使用z = 0.0, 0.1, 0.9, 1.0訓練模型(不須提供訓練過程的Loss圖形)，統整各個z值下的Test RMSE並討論。\n"
   ]
  },
  {
   "cell_type": "code",
   "execution_count": 79,
   "metadata": {},
   "outputs": [
    {
     "name": "stdout",
     "output_type": "stream",
     "text": [
      "Epoch: 0, Step: 100, Train Loss: 9.485596531204655, Valid Loss: 9.44304035182519\n",
      "Epoch: 0, Step: 200, Train Loss: 9.146570909863813, Valid Loss: 9.085387834149921\n",
      "Epoch: 0, Step: 300, Train Loss: 9.084291114232704, Valid Loss: 9.031876559558357\n",
      "Epoch: 0, Step: 400, Train Loss: 8.993031464142478, Valid Loss: 8.936372371804653\n"
     ]
    },
    {
     "data": {
      "image/png": "[encoded data removed]",
      "text/plain": [
       "<Figure size 720x576 with 1 Axes>"
      ]
     },
     "metadata": {
      "needs_background": "light"
     },
     "output_type": "display_data"
    }
   ],
   "source": [
    "q7_mlp = MyMLP(\n",
    "        X_subtrain=X_subtrain,\n",
    "        Y_subtrain=Y_subtrain,\n",
    "        X_valid=X_valid,\n",
    "        Y_valid=Y_valid,\n",
    "        H=90,\n",
    "        lr=0.001,\n",
    "        wd=0,\n",
    "        mom=0,\n",
    "        loss_type=1,\n",
    "        optimizer_type=1,\n",
    "        use_dropout=True,\n",
    "        dropout_rate=0.5,\n",
    "        loss_z=0.5\n",
    "    )\n",
    "train_loss_list, valid_loss_list = q7_mlp.fit(\n",
    "    max_epoch=100,\n",
    "    verbose=True,\n",
    "    patience_batch_num=5000,\n",
    "    model_path='q7_mlp.ckpt'\n",
    ")\n",
    "\n",
    "# draw the training loss and validation loss\n",
    "# make figure larger\n",
    "plt.figure(figsize=(10, 8))\n",
    "draw_loss(train_loss_list, valid_loss_list)"
   ]
  },
  {
   "cell_type": "code",
   "execution_count": 77,
   "metadata": {},
   "outputs": [
    {
     "name": "stdout",
     "output_type": "stream",
     "text": [
      "Epoch: 0, Step: 100, Train Loss: 10.555643091566708, Valid Loss: 10.528791908975442\n",
      "Epoch: 0, Step: 200, Train Loss: 9.848395787823549, Valid Loss: 9.81529521444039\n",
      "Epoch: 0, Step: 300, Train Loss: 9.448803725291176, Valid Loss: 9.409947813949028\n",
      "Epoch: 0, Step: 400, Train Loss: 9.335413687000898, Valid Loss: 9.289090961072647\n",
      "Test RMSE Loss for z = 0.0: 9.304864811036\n",
      "Epoch: 0, Step: 100, Train Loss: 9.67542116094656, Valid Loss: 9.641225013915806\n",
      "Epoch: 0, Step: 200, Train Loss: 9.19917595691697, Valid Loss: 9.15334477694456\n",
      "Epoch: 0, Step: 300, Train Loss: 9.05370868579659, Valid Loss: 8.998593144341926\n",
      "Epoch: 0, Step: 400, Train Loss: 8.99839468234832, Valid Loss: 8.94234118425066\n",
      "Test RMSE Loss for z = 0.1: 9.031149041109654\n",
      "Epoch: 0, Step: 100, Train Loss: 9.463102805220398, Valid Loss: 9.418726684518967\n",
      "Epoch: 0, Step: 200, Train Loss: 9.16453237857522, Valid Loss: 9.109038103660389\n",
      "Epoch: 0, Step: 300, Train Loss: 9.044659100038773, Valid Loss: 8.978137180392698\n",
      "Epoch: 0, Step: 400, Train Loss: 8.981162763329115, Valid Loss: 8.921530584193675\n",
      "Test RMSE Loss for z = 0.9: 9.028635748680438\n",
      "Epoch: 0, Step: 100, Train Loss: 9.494031123428593, Valid Loss: 9.451576533138283\n",
      "Epoch: 0, Step: 200, Train Loss: 9.193787616693006, Valid Loss: 9.138969003308992\n",
      "Epoch: 0, Step: 300, Train Loss: 9.081349656896021, Valid Loss: 9.026076209869771\n",
      "Epoch: 0, Step: 400, Train Loss: 9.045309856875306, Valid Loss: 8.998972191875682\n",
      "Test RMSE Loss for z = 1.0: 9.078422479264411\n"
     ]
    }
   ],
   "source": [
    "q7_z_list = [0.0, 0.1, 0.9, 1.0]\n",
    "test_rmse_list = []\n",
    "for z in q7_z_list:\n",
    "    print(f\"Start training for z = {z}\")\n",
    "    mlp = MyMLP(\n",
    "        X_subtrain=X_subtrain,\n",
    "        Y_subtrain=Y_subtrain,\n",
    "        X_valid=X_valid,\n",
    "        Y_valid=Y_valid,\n",
    "        H=90,\n",
    "        lr=0.001,\n",
    "        wd=0,\n",
    "        mom=0,\n",
    "        loss_type=1,\n",
    "        optimizer_type=1,\n",
    "        use_dropout=True,\n",
    "        dropout_rate=0.5,\n",
    "        loss_z=z\n",
    "    )\n",
    "    mlp.fit(\n",
    "        max_epoch=100,\n",
    "        verbose=True,\n",
    "        patience_batch_num=5000,\n",
    "        model_path=f'q7_mlp_z_{z}.ckpt'\n",
    "    )\n",
    "    best_model = torch.load(f'q7_mlp_z_{z}.ckpt')\n",
    "    test_rmse_loss = calculate_test_rmse(best_model, X_test, Y_test)\n",
    "    test_rmse_list.append(test_rmse_loss)\n",
    "    print(f\"Test RMSE Loss for z = {z}: {test_rmse_loss}\")"
   ]
  },
  {
   "cell_type": "code",
   "execution_count": 78,
   "metadata": {},
   "outputs": [
    {
     "name": "stdout",
     "output_type": "stream",
     "text": [
      "Test RMSE Loss for z = 0.0: 9.304864811036\n",
      "Test RMSE Loss for z = 0.1: 9.031149041109654\n",
      "Test RMSE Loss for z = 0.9: 9.028635748680438\n",
      "Test RMSE Loss for z = 1.0: 9.078422479264411\n"
     ]
    }
   ],
   "source": [
    "# print rmse according to different z\n",
    "for z, rmse in zip(q7_z_list, test_rmse_list):\n",
    "    print(f\"Test RMSE Loss for z = {z}: {rmse}\")"
   ]
  },
  {
   "cell_type": "markdown",
   "metadata": {},
   "source": [
    "\n",
    "#### Q8 L2 + Customerized Loss (15%)\n",
    "考慮另一個比較特別的Loss Function\n",
    "\n",
    "$$\n",
    "qloss(\\mathbf{y}, \\hat{\\mathbf{y}}) = \\sum_{i=1}^n \\{ q (y_i - \\hat{y}_i)_+ + (1 - q) (\\hat{y}_i - y_i)_+ \\},\n",
    "$$\n",
    "其中q為參數且$0<=q<=1$，而$(y_i - \\hat{y}_i)_+$是取正值的意思。也就是說如果$(y_i - \\hat{y}_i) > 0$，則$(y_i - \\hat{y}_i)_+ = y_i - \\hat{y}_i$，否則$(y_i - \\hat{y}_i)_+ = 0$。\n",
    "\n",
    "令模型的Loss為$z \\sum_{i=1}^n (y_i - \\hat{y}_i)^2 + (1 - z) \\sum_{i=1}^n \\{ 0.5 (y_i - \\hat{y}_i)_+ + 0.5 (\\hat{y}_i - y_i)_+ \\} $。請使用Q5中的MLP with Dropout模型(H = 90)，令z = 0。並以Adam訓練模型。畫出Training and Validation RMSE，並報告Test RMSE。注意這裡繪圖時應使用RMSE而不是這個特殊的Loss。\n",
    "\n",
    "另外，使用z = 0.1, 0.5, 0.9, 1.0訓練模型(不須提供訓練過程的Loss圖形)，統整各個z值下的Test RMSE並討論。\n"
   ]
  },
  {
   "cell_type": "code",
   "execution_count": 83,
   "metadata": {},
   "outputs": [
    {
     "name": "stdout",
     "output_type": "stream",
     "text": [
      "Epoch: 0, Step: 100, Train Loss: 10.562972664091713, Valid Loss: 10.534833498357248\n",
      "Epoch: 0, Step: 200, Train Loss: 9.623035138814426, Valid Loss: 9.588142672012797\n",
      "Epoch: 0, Step: 300, Train Loss: 9.479755123342352, Valid Loss: 9.441606543451137\n",
      "Epoch: 0, Step: 400, Train Loss: 9.351502649231898, Valid Loss: 9.308279602406207\n"
     ]
    },
    {
     "data": {
      "image/png": "[encoded data removed]",
      "text/plain": [
       "<Figure size 720x576 with 1 Axes>"
      ]
     },
     "metadata": {
      "needs_background": "light"
     },
     "output_type": "display_data"
    }
   ],
   "source": [
    "q8_mlp = MyMLP(\n",
    "        X_subtrain=X_subtrain,\n",
    "        Y_subtrain=Y_subtrain,\n",
    "        X_valid=X_valid,\n",
    "        Y_valid=Y_valid,\n",
    "        H=90,\n",
    "        lr=0.001,\n",
    "        wd=0,\n",
    "        mom=0,\n",
    "        loss_type=2,\n",
    "        optimizer_type=1,\n",
    "        use_dropout=True,\n",
    "        dropout_rate=0.5,\n",
    "        loss_z=0\n",
    "    )\n",
    "train_loss_list, valid_loss_list = q8_mlp.fit(\n",
    "    max_epoch=100,\n",
    "    verbose=True,\n",
    "    patience_batch_num=5000,\n",
    "    model_path='q8_mlp.ckpt'\n",
    ")\n",
    "\n",
    "# draw the training loss and validation loss\n",
    "# make figure larger\n",
    "plt.figure(figsize=(10, 8))\n",
    "draw_loss(train_loss_list, valid_loss_list)"
   ]
  },
  {
   "cell_type": "markdown",
   "metadata": {},
   "source": [
    "TODO: 補上面 train, test RMSE 的圖與討論"
   ]
  },
  {
   "cell_type": "code",
   "execution_count": 85,
   "metadata": {},
   "outputs": [
    {
     "name": "stdout",
     "output_type": "stream",
     "text": [
      "Start training for z = 0.1\n",
      "Epoch: 0, Step: 100, Train Loss: 9.838030240735081, Valid Loss: 9.803581214459284\n",
      "Epoch: 0, Step: 200, Train Loss: 9.24847797302357, Valid Loss: 9.199524404856154\n",
      "Epoch: 0, Step: 300, Train Loss: 9.065374575363192, Valid Loss: 9.001825743495962\n",
      "Epoch: 0, Step: 400, Train Loss: 9.0038105668121, Valid Loss: 8.940357813686242\n",
      "Test RMSE Loss for z = 0.1: 9.036390219815342\n",
      "Start training for z = 0.5\n",
      "Epoch: 0, Step: 100, Train Loss: 9.513849302397857, Valid Loss: 9.466625479128684\n",
      "Epoch: 0, Step: 200, Train Loss: 9.18098816882652, Valid Loss: 9.12264825903717\n",
      "Epoch: 0, Step: 300, Train Loss: 9.082056453510274, Valid Loss: 9.020201007640116\n",
      "Epoch: 0, Step: 400, Train Loss: 9.00280948274377, Valid Loss: 8.945507204834517\n",
      "Test RMSE Loss for z = 0.5: 9.047437504089102\n",
      "Start training for z = 0.9\n",
      "Epoch: 0, Step: 100, Train Loss: 9.504086198309748, Valid Loss: 9.460325580183799\n",
      "Epoch: 0, Step: 200, Train Loss: 9.176466484784047, Valid Loss: 9.122635548346166\n",
      "Epoch: 0, Step: 300, Train Loss: 9.090701135028656, Valid Loss: 9.035765497359634\n",
      "Epoch: 0, Step: 400, Train Loss: 8.981443976488075, Valid Loss: 8.922785494701277\n",
      "Test RMSE Loss for z = 0.9: 9.025136051038725\n",
      "Start training for z = 1.0\n",
      "Epoch: 0, Step: 100, Train Loss: 9.478529066945121, Valid Loss: 9.43108759187883\n",
      "Epoch: 0, Step: 200, Train Loss: 9.1896187391394, Valid Loss: 9.139668887217253\n",
      "Epoch: 0, Step: 300, Train Loss: 9.054464772178466, Valid Loss: 8.998416907989114\n",
      "Epoch: 0, Step: 400, Train Loss: 9.006126249082651, Valid Loss: 8.956348898640297\n",
      "Test RMSE Loss for z = 1.0: 9.036078366715229\n"
     ]
    }
   ],
   "source": [
    "q8_z_list = [0.1, 0.5, 0.9, 1.0]\n",
    "test_rmse_list = []\n",
    "for z in q8_z_list:\n",
    "    print(f\"Start training for z = {z}\")\n",
    "    mlp = MyMLP(\n",
    "        X_subtrain=X_subtrain,\n",
    "        Y_subtrain=Y_subtrain,\n",
    "        X_valid=X_valid,\n",
    "        Y_valid=Y_valid,\n",
    "        H=90,\n",
    "        lr=0.001,\n",
    "        wd=0,\n",
    "        mom=0,\n",
    "        loss_type=2,\n",
    "        optimizer_type=1,\n",
    "        use_dropout=True,\n",
    "        dropout_rate=0.5,\n",
    "        loss_z=z\n",
    "    )\n",
    "    mlp.fit(\n",
    "        max_epoch=100,\n",
    "        verbose=True,\n",
    "        patience_batch_num=5000,\n",
    "        model_path=f'q8_mlp_z_{z}.ckpt'\n",
    "    )\n",
    "    best_model = torch.load(f'q8_mlp_z_{z}.ckpt')\n",
    "    test_rmse_loss = calculate_test_rmse(best_model, X_test, Y_test)\n",
    "    test_rmse_list.append(test_rmse_loss)\n",
    "    print(f\"Test RMSE Loss for z = {z}: {test_rmse_loss}\")"
   ]
  },
  {
   "cell_type": "code",
   "execution_count": 86,
   "metadata": {},
   "outputs": [
    {
     "name": "stdout",
     "output_type": "stream",
     "text": [
      "Test RMSE Loss for z = 0.1: 9.036390219815342\n",
      "Test RMSE Loss for z = 0.5: 9.047437504089102\n",
      "Test RMSE Loss for z = 0.9: 9.025136051038725\n",
      "Test RMSE Loss for z = 1.0: 9.036078366715229\n"
     ]
    }
   ],
   "source": [
    "# print rmse according to different z\n",
    "for z, rmse in zip(q8_z_list, test_rmse_list):\n",
    "    print(f\"Test RMSE Loss for z = {z}: {rmse}\")"
   ]
  },
  {
   "cell_type": "markdown",
   "metadata": {},
   "source": [
    "TODO: 討論上面不同 z 的 Test RMSE"
   ]
  },
  {
   "cell_type": "code",
   "execution_count": null,
   "metadata": {},
   "outputs": [],
   "source": []
  }
 ],
 "metadata": {
  "kernelspec": {
   "display_name": "Python 3.9.12 ('python39')",
   "language": "python",
   "name": "python3"
  },
  "language_info": {
   "codemirror_mode": {
    "name": "ipython",
    "version": 3
   },
   "file_extension": ".py",
   "mimetype": "text/x-python",
   "name": "python",
   "nbconvert_exporter": "python",
   "pygments_lexer": "ipython3",
   "version": "3.9.12"
  },
  "vscode": {
   "interpreter": {
    "hash": "f1f0ca08df83ebe1228368c35aef2dd5bdef6efbf7330e5bb8a931893862d7fc"
   }
  }
 },
 "nbformat": 4,
 "nbformat_minor": 4
}
