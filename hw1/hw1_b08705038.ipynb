{
 "cells": [
  {
   "cell_type": "markdown",
   "metadata": {},
   "source": [
    "# Homework1\n",
    "### B08705038 資管四 郭子麟"
   ]
  },
  {
   "cell_type": "markdown",
   "metadata": {},
   "source": [
    "## Question1 - myknn_regressor"
   ]
  },
  {
   "cell_type": "markdown",
   "metadata": {},
   "source": [
    "### Q1.1 Create your myknn_regressor based on the skeleton"
   ]
  },
  {
   "cell_type": "code",
   "execution_count": 13,
   "metadata": {},
   "outputs": [],
   "source": [
    "# loading basic packages\n",
    "import pickle\n",
    "from sklearn import preprocessing\n",
    "import numpy as np"
   ]
  },
  {
   "cell_type": "code",
   "execution_count": 2,
   "metadata": {},
   "outputs": [],
   "source": [
    "# implement my_knn class\n",
    "class my_knn_regressor:\n",
    "  def __init__(self, n_neighbors = 10, mean_type = \"equal_weight\"):\n",
    "    \"\"\"\n",
    "    mean_type can be equal_weight or remove_outliers.\n",
    "    equal_weight use the same weight for all neighbors.\n",
    "    remove_outliers remove neighbors out in [Q1 - 1.5 IQR, Q3 + 1.5IQR].\n",
    "    \"\"\"\n",
    "    self.n_neighbors = n_neighbors\n",
    "    self.mean_type = mean_type\n",
    "    # if n_neighbors is less than 10, use equal_weight anyway\n",
    "    if n_neighbors < 10:\n",
    "      self.mean_type = \"equal_weight\"\n",
    "    \n",
    "  def fit(self, x_train, y_train):\n",
    "    \"\"\"\n",
    "    x_train: numpy array of shape (n_samples, n_features)\n",
    "    y_train: numpy array of shape (n_samples, )\n",
    "    \"\"\"\n",
    "    self.x_train = x_train\n",
    "    self.y_train = y_train\n",
    "  def predict(self, x_test):\n",
    "    \"\"\"\n",
    "    x_test: numpy array of shape (n_samples, n_features)\n",
    "    return: numpy array of shape (n_samples, )\n",
    "    \"\"\"\n",
    "    # get the number of samples\n",
    "    n_samples = x_test.shape[0]\n",
    "    # initialize the prediction array\n",
    "    y_pred = np.zeros(n_samples)\n",
    "    # for each sample in x_test\n",
    "    for i in range(n_samples):\n",
    "      # get the distance between x_test[i] and all samples in x_train\n",
    "      # 因為每個 sample 都會跟全部的 x_train 計算距離，所以這邊用 broadcasting\n",
    "      dist = np.sqrt(np.sum((x_test[i] - self.x_train)**2, axis = 1))\n",
    "      # get the index of the n_neighbors smallest distance\n",
    "      # kind = \"stable\" 代表當距離相同時，會保留原本的順序\n",
    "      idx = np.argsort(dist, kind='stable')[:self.n_neighbors]\n",
    "      # get the corresponding y_train\n",
    "      y = self.y_train[idx]\n",
    "      # if mean_type is equal_weight\n",
    "      if self.mean_type == \"equal_weight\":\n",
    "        # get the mean of y\n",
    "        y_pred[i] = np.mean(y)\n",
    "      # if mean_type is remove_outlier\n",
    "      else:\n",
    "        # get the Q1 and Q3\n",
    "        Q1 = np.percentile(y, 25)\n",
    "        Q3 = np.percentile(y, 75)\n",
    "        # get the IQR\n",
    "        IQR = Q3 - Q1\n",
    "        # get the index of y in [Q1 - 1.5 IQR, Q3 + 1.5IQR]\n",
    "        idx = np.where((y >= Q1 - 1.5 * IQR) & (y <= Q3 + 1.5 * IQR))\n",
    "        # get the corresponding y_train\n",
    "        y = y[idx]\n",
    "        # get the mean of y\n",
    "        y_pred[i] = np.mean(y)\n",
    "    return y_pred"
   ]
  },
  {
   "cell_type": "markdown",
   "metadata": {},
   "source": [
    "### Q1.2 Load data, fit, predict and list the RMSE and the first 20 predictions in the test data"
   ]
  },
  {
   "cell_type": "markdown",
   "metadata": {},
   "source": [
    "#### Load data"
   ]
  },
  {
   "cell_type": "code",
   "execution_count": 3,
   "metadata": {},
   "outputs": [],
   "source": [
    "# Load data\n",
    "with open('msd_data1.pickle', 'rb') as fh1:\n",
    "    msd_data = pickle.load(fh1)\n",
    "\n",
    "doscaling = 1\n",
    "\n",
    "if (doscaling == 1):\n",
    "    xscaler = preprocessing.StandardScaler().fit(msd_data['X_train'])\n",
    "    #standardize feature values\n",
    "    X_train = xscaler.transform(msd_data['X_train'])\n",
    "    X_test = xscaler.transform(msd_data['X_test'])\n",
    "else:\n",
    "    X_train = msd_data['X_train']\n",
    "    X_test = msd_data['X_test']\n",
    "\n",
    "Y_train = msd_data['Y_train']\n",
    "Y_test = msd_data['Y_test']"
   ]
  },
  {
   "cell_type": "markdown",
   "metadata": {},
   "source": [
    "#### Initialize my_knn_regressor, fit the model and predict the outcome"
   ]
  },
  {
   "cell_type": "code",
   "execution_count": 4,
   "metadata": {},
   "outputs": [
    {
     "data": {
      "text/plain": [
       "array([1993.35, 1993.8 , 2000.65, ..., 1998.95, 2002.6 , 1994.25])"
      ]
     },
     "execution_count": 4,
     "metadata": {},
     "output_type": "execute_result"
    }
   ],
   "source": [
    "my_knn = my_knn_regressor(n_neighbors = 20, mean_type = \"equal_weight\")\n",
    "my_knn.fit(X_train, Y_train)\n",
    "Y_pred = my_knn.predict(X_test)\n",
    "Y_pred"
   ]
  },
  {
   "cell_type": "markdown",
   "metadata": {},
   "source": [
    "#### List the RMSE and first 20 predictions in the testing data"
   ]
  },
  {
   "cell_type": "code",
   "execution_count": 5,
   "metadata": {},
   "outputs": [
    {
     "name": "stdout",
     "output_type": "stream",
     "text": [
      "RMSE is 10.25126451549596\n",
      "The first 20 predictions are [1993.35 1993.8  2000.65 1991.5  1992.8  1998.5  1988.1  1991.65 2002.25\n",
      " 2003.   2000.5  1998.65 1995.55 1997.2  1995.05 1997.4  1992.15 2000.45\n",
      " 2003.2  1995.75]\n"
     ]
    }
   ],
   "source": [
    "from sklearn.metrics import mean_squared_error\n",
    "from math import sqrt\n",
    "\n",
    "rmse = sqrt(mean_squared_error(Y_test, Y_pred))\n",
    "print(f\"RMSE is {rmse}\")\n",
    "print(f\"The first 20 predictions are {Y_pred[:20]}\")"
   ]
  },
  {
   "cell_type": "markdown",
   "metadata": {},
   "source": [
    "### Q1.3 Use remove_outlier to get the prediction and calculate the RMSE and list the first 20 predictions."
   ]
  },
  {
   "cell_type": "markdown",
   "metadata": {},
   "source": [
    "#### Initialize my_knn_regressor, fit the model and predict the outcome"
   ]
  },
  {
   "cell_type": "code",
   "execution_count": 6,
   "metadata": {},
   "outputs": [
    {
     "data": {
      "text/plain": [
       "array([1993.35      , 1993.8       , 2000.65      , ..., 2002.94117647,\n",
       "       2002.6       , 1994.25      ])"
      ]
     },
     "execution_count": 6,
     "metadata": {},
     "output_type": "execute_result"
    }
   ],
   "source": [
    "my_knn = my_knn_regressor(n_neighbors = 20, mean_type = \"remove_outlier\")\n",
    "my_knn.fit(X_train, Y_train)\n",
    "Y_pred_with_remove_outlier = my_knn.predict(X_test)\n",
    "Y_pred_with_remove_outlier"
   ]
  },
  {
   "cell_type": "markdown",
   "metadata": {},
   "source": [
    "#### List the RMSE and first 20 predictions in the testing data"
   ]
  },
  {
   "cell_type": "code",
   "execution_count": 7,
   "metadata": {},
   "outputs": [
    {
     "name": "stdout",
     "output_type": "stream",
     "text": [
      "RMSE with remove outlier method is 10.212572466080376\n",
      "The first 20 predictions are [1993.35       1993.8        2000.65       1992.73684211 1992.8\n",
      " 2000.         1988.1        1991.65       2002.25       2003.94736842\n",
      " 2000.5        2000.94444444 1995.55       1997.2        1998.61111111\n",
      " 1997.4        1992.15       2003.83333333 2003.2        1995.75      ]\n"
     ]
    }
   ],
   "source": [
    "rmse = sqrt(mean_squared_error(Y_test, Y_pred_with_remove_outlier))\n",
    "print(f\"RMSE with remove outlier method is {rmse}\")\n",
    "print(f\"The first 20 predictions are {Y_pred_with_remove_outlier[:20]}\")"
   ]
  },
  {
   "cell_type": "markdown",
   "metadata": {},
   "source": [
    "## Question2 - Tuning the Hyper-Parameter"
   ]
  },
  {
   "cell_type": "code",
   "execution_count": 9,
   "metadata": {},
   "outputs": [],
   "source": [
    "from sklearn.neighbors import KNeighborsRegressor\n",
    "\n",
    "# define candidate neighbors list\n",
    "candidate_k_list = [1,2,3,4,5,10,15,20,25,30,35,40,45,50,55,60,80,100,120,140,160,180,200]\n",
    "\n",
    "# rmse list for three settings\n",
    "first_rmse_list = []\n",
    "second_rmse_list = []\n",
    "third_rmse_list = []\n",
    "\n",
    "# setup data with / without feature scaling\n",
    "# Load data\n",
    "with open('msd_data1.pickle', 'rb') as fh1:\n",
    "    msd_data = pickle.load(fh1)\n",
    "\n",
    "xscaler = preprocessing.StandardScaler().fit(msd_data['X_train'])\n",
    "# standardize feature values\n",
    "X_train_feature_scaling = xscaler.transform(msd_data['X_train'])\n",
    "X_test_feature_scaling = xscaler.transform(msd_data['X_test'])\n",
    "\n",
    "\n",
    "X_train = msd_data['X_train']\n",
    "X_test = msd_data['X_test']\n",
    "\n",
    "Y_train = msd_data['Y_train']\n",
    "Y_test = msd_data['Y_test']\n",
    "\n",
    "\n",
    "# for each candidate k, train the model and get the rmse\n",
    "for k in candidate_k_list:\n",
    "  # setting 1: use KNeighbors with feature scaling data\n",
    "  knn_1 = KNeighborsRegressor(n_neighbors = k)\n",
    "  knn_1.fit(X_train_feature_scaling, Y_train)\n",
    "  Y_pred_1 = knn_1.predict(X_test_feature_scaling)\n",
    "  first_rmse_list.append(sqrt(mean_squared_error(Y_test, Y_pred_1)))\n",
    "\n",
    "  # setting 2: use KNeighbors with original data\n",
    "  knn_2 = KNeighborsRegressor(n_neighbors = k)\n",
    "  knn_2.fit(X_train, Y_train)\n",
    "  Y_pred_2 = knn_2.predict(X_test)\n",
    "  second_rmse_list.append(sqrt(mean_squared_error(Y_test, Y_pred_2)))\n",
    "\n",
    "  # setting 3: use my_knn_regressor with feature scaling data\n",
    "  knn_3 = my_knn_regressor(n_neighbors = k, mean_type = \"remove_outlier\")\n",
    "  knn_3.fit(X_train_feature_scaling, Y_train)\n",
    "  Y_pred_3 = knn_3.predict(X_test_feature_scaling)\n",
    "  third_rmse_list.append(sqrt(mean_squared_error(Y_test, Y_pred_3)))"
   ]
  },
  {
   "cell_type": "markdown",
   "metadata": {},
   "source": [
    "#### For each setting, plot a curve that shows the relations between k (x-axis) and RMSE (y-axis)"
   ]
  },
  {
   "cell_type": "code",
   "execution_count": 12,
   "metadata": {},
   "outputs": [
    {
     "data": {
      "text/plain": [
       "Text(0, 0.5, 'RMSE')"
      ]
     },
     "execution_count": 12,
     "metadata": {},
     "output_type": "execute_result"
    },
    {
     "data": {
      "image/png": "[encoded data removed]",
      "text/plain": [
       "<Figure size 1008x576 with 1 Axes>"
      ]
     },
     "metadata": {
      "needs_background": "light"
     },
     "output_type": "display_data"
    }
   ],
   "source": [
    "import matplotlib.pyplot as plt\n",
    "\n",
    "plt.rcParams['figure.figsize'] = [14, 8]\n",
    "plt.plot(candidate_k_list, first_rmse_list, label = \"first setting\")\n",
    "plt.plot(candidate_k_list, second_rmse_list, label = \"second setting\")\n",
    "plt.plot(candidate_k_list, third_rmse_list, label = \"third setting\")\n",
    "plt.legend()\n",
    "plt.xlabel(\"k\")\n",
    "plt.ylabel(\"RMSE\")\n"
   ]
  },
  {
   "cell_type": "markdown",
   "metadata": {},
   "source": [
    "#### Observations"
   ]
  },
  {
   "cell_type": "markdown",
   "metadata": {},
   "source": [
    "## Question 3 - Lasso Regression"
   ]
  },
  {
   "cell_type": "markdown",
   "metadata": {},
   "source": [
    "### Q3-1 基於本題給的 L，推導新的 Coordinate Descent with Soft Thresholding 公式"
   ]
  },
  {
   "cell_type": "markdown",
   "metadata": {},
   "source": [
    "### Q3-2 使用給定個骨架建構你的 mylasso。"
   ]
  },
  {
   "cell_type": "code",
   "execution_count": 23,
   "metadata": {},
   "outputs": [],
   "source": [
    "import numpy as np\n",
    "\n",
    "class mylasso():\n",
    "  def __init__(self, lamcoef = 0.1, max_iter=1000, tol=1e-6, const_regu = False):\n",
    "    \"\"\"lamcoef: the regularization coefficient\n",
    "        max_iter: maximum number of iteration for model training\n",
    "        tol: tolerance for the stopping criteria for model training\n",
    "        const_regu: whether the constant term should be regularized, default to False\n",
    "        \"\"\"\n",
    "    self.lamcoef = lamcoef\n",
    "    self.max_iter = max_iter\n",
    "    self.tol = tol\n",
    "    self.const_regu = const_regu\n",
    "\n",
    "  def fit(self, x_train, y_train, winit = \"ridge\", keep_traindata = True, verbose = False):\n",
    "    \"\"\"\n",
    "    Fit a Lasso model\n",
    "      x_train: a numpy matrix that contains training features. n (number of data points) * M (features)\n",
    "      y_train: a numpy matrix that contains the label\n",
    "      winit: how weights are initialized, default to \"ridge\", ridge regression\n",
    "      keep_traindata: whether the object is going to keep training data after the training process completed\n",
    "      verbose: output a lot of message\n",
    "    \"\"\"\n",
    "        \n",
    "    if keep_traindata:\n",
    "      self.x_train = x_train\n",
    "      self.y_train = y_train\n",
    "    \n",
    "    # adding a constant column to x_train\n",
    "    x_train_with_const = np.concatenate((np.ones((x_train.shape[0], 1)), x_train), axis = 1)\n",
    "\n",
    "    # initialize weights\n",
    "    if winit == \"ridge\":\n",
    "      # use ridge regression to initialize weights\n",
    "      w_init = np.linalg.inv(x_train_with_const.T.dot(x_train_with_const)).dot(x_train_with_const.T).dot(y_train)\n",
    "    else:\n",
    "      # use random initialization\n",
    "      w_init = np.random.rand(x_train_with_const.shape[1], 1)\n",
    "    \n",
    "    self.w = w_init\n",
    "\n",
    "    #TODO: 確認 const_regu = False 時，w0 的初始值要怎麼設定\n",
    "    w_update_start_index = 0 if self.const_regu else 1\n",
    "\n",
    "    # initialize loss\n",
    "    last_loss = np.inf\n",
    "\n",
    "    for iter_count in range(1, self.max_iter + 1):\n",
    "      # update weights\n",
    "      for j in range(w_update_start_index, x_train_with_const.shape[1]):\n",
    "        # coordinate descent\n",
    "        self.__update_w(x_train_with_const, y_train, j)\n",
    "\n",
    "      # calculate loss\n",
    "      loss = self.__calculate_loss(x_train_with_const, y_train)\n",
    "      if verbose:\n",
    "        print(f\"iter {iter_count}, loss {loss}\")\n",
    "\n",
    "      if (abs(loss - last_loss) < self.tol):\n",
    "        print(f\"Converged at iteration {iter_count}\")\n",
    "        break\n",
    "      last_loss = loss\n",
    "        # check stopping criteria\n",
    "    \n",
    "    # store basic information\n",
    "    self.training_loss = loss\n",
    "    self.intercept_ = self.w[0]\n",
    "    self.features = self.w[1:]\n",
    "  \n",
    "  def __update_w(self, x_train, y_train, j):\n",
    "    \"\"\"update weights\"\"\"\n",
    "    w_without_j = np.delete(self.w, j, axis = 0)\n",
    "    x_train_without_j = np.delete(x_train, j, axis = 1)\n",
    "\n",
    "    # TODO: 確認要不要減 w0\n",
    "    w_j_star = np.sum((y_train - x_train_without_j.dot(w_without_j) - self.w[0]).dot(x_train[:, j])) / np.sum(x_train[:, j]**2)\n",
    "    threshold = x_train.shape[0] * self.lamcoef / np.sum(x_train[:, j]**2)\n",
    "\n",
    "    if w_j_star - threshold > 0:\n",
    "      self.w[j] = w_j_star - threshold\n",
    "    elif w_j_star + threshold < 0:\n",
    "      self.w[j] = w_j_star + threshold\n",
    "    else:\n",
    "      self.w[j] = 0\n",
    "\n",
    "  def __calculate_loss(self, x_train, y_train):\n",
    "    \"\"\"calculate loss\"\"\"\n",
    "    return np.sum((y_train - x_train.dot(self.w))**2) / (2 * x_train.shape[0]) + self.lamcoef * np.sum(np.abs(self.w[1:]))\n",
    "\n",
    "  def predict(self, x_test):\n",
    "    \"\"\"Make prediction using trained model\"\"\"\n",
    "    x_test_with_const = np.concatenate((np.ones((x_test.shape[0], 1)), x_test), axis = 1)\n",
    "    return x_test_with_const.dot(self.w)"
   ]
  },
  {
   "cell_type": "markdown",
   "metadata": {},
   "source": [
    "### Q3-3\n",
    "載入資料集，並且使用訓練資料計算Lasso Regression的權重，設定lamcoef = 0.1，其他參數使用預設值。列出\n",
    "* Training Loss\n",
    "* Root Mean Squared Error (RMSE) in Training Data\n",
    "* Mean Absolute Error (MAE) in Training Data\n",
    "* Intercept (截距項)\n",
    "* Feature Weights (除了截距項的所有權重)\n",
    "* 非零權重的個數。\n",
    "\n",
    "為了讓結果容易閱讀，請使用np.set_printoptions(suppress=True)關閉Scientific Notation。"
   ]
  },
  {
   "cell_type": "code",
   "execution_count": 29,
   "metadata": {},
   "outputs": [],
   "source": [
    "#load the dataset, and create normalized and raw features. \n",
    "import pickle\n",
    "from sklearn import preprocessing\n",
    "import numpy as np\n",
    "np.set_printoptions(suppress=True)\n",
    "\n",
    "#Load data\n",
    "with open('msd_data1.pickle', 'rb') as fh1:\n",
    "    msd_data = pickle.load(fh1)\n",
    "\n",
    "xscaler = preprocessing.StandardScaler().fit(msd_data['X_train'])\n",
    "#standardize feature values\n",
    "X_train_sd = xscaler.transform(msd_data['X_train'])\n",
    "X_test_sd = xscaler.transform(msd_data['X_test'])\n",
    "\n",
    "#outcome values\n",
    "Y_train = msd_data['Y_train']\n",
    "Y_test = msd_data['Y_test']"
   ]
  },
  {
   "cell_type": "code",
   "execution_count": 30,
   "metadata": {},
   "outputs": [
    {
     "name": "stdout",
     "output_type": "stream",
     "text": [
      "Converged at iteration 48\n"
     ]
    }
   ],
   "source": [
    "# create my_lasso instance and fit the model\n",
    "my_lasso = mylasso(lamcoef=0.1)\n",
    "my_lasso.fit(X_train_sd, Y_train, winit = \"ridge\")\n",
    "train_pred = my_lasso.predict(X_train_sd)"
   ]
  },
  {
   "cell_type": "code",
   "execution_count": 31,
   "metadata": {},
   "outputs": [
    {
     "name": "stdout",
     "output_type": "stream",
     "text": [
      "training loss: 49.888404112521535\n",
      "RMSE in training data: 9.719499050830489\n",
      "MAE in training data: 6.980897993419738\n",
      "intercept: 1998.2660000000005\n",
      "features:\n",
      "[ 4.65185495 -2.45673135 -1.06195813  0.         -0.34275079 -2.94854434\n",
      "  0.         -0.39970284 -0.4265387   0.         -0.23498646 -0.39491054\n",
      "  0.50307701  0.         -0.34207993  0.61674567  0.15722735  0.43490134\n",
      "  0.43595387  1.12941736  0.40663478  0.          1.77743614  0.\n",
      " -0.16842729  0.07833532  0.66391236  0.01297956  0.15350702  0.\n",
      " -0.21762066 -0.2218911   0.         -0.00275479 -0.01707661 -0.259946\n",
      "  0.          0.28969364  0.34893387  0.         -0.2611257  -0.14488714\n",
      " -0.00995262  0.03497715 -0.03984335  0.          0.00299378 -0.17804317\n",
      "  0.          0.06494386  0.27076496  0.          0.          0.\n",
      "  0.          0.         -0.63813242  0.23761421 -0.19016395  0.\n",
      " -0.18875526  0.         -0.13590668  0.0612754  -0.2661902   0.\n",
      "  0.          0.         -0.03099171  0.         -0.19276505  0.01221347\n",
      "  0.20735198  0.25118242  0.12313511  0.          0.         -0.52945658\n",
      "  0.          0.          0.17859196  0.02408556  0.25291059  0.19360187\n",
      "  0.37064847  0.          0.         -0.29169774  0.          0.        ]\n"
     ]
    }
   ],
   "source": [
    "# print basic information\n",
    "print(f\"training loss: {my_lasso.training_loss}\")\n",
    "print(f\"RMSE in training data: {np.sqrt(np.sum((train_pred - Y_train)**2) / Y_train.shape[0])}\")\n",
    "print(f\"MAE in training data: {np.sum(np.abs(train_pred - Y_train)) / Y_train.shape[0]}\")\n",
    "print(f\"intercept: {my_lasso.intercept_}\")\n",
    "print(f\"features:\")\n",
    "print(my_lasso.features)"
   ]
  },
  {
   "cell_type": "markdown",
   "metadata": {},
   "source": [
    "### Q3-4 \n",
    "使用上一小題的模型計算測試資料的預測值。列出前五筆資料的預測年分、Test RMSE、Test MAE。"
   ]
  },
  {
   "cell_type": "code",
   "execution_count": 28,
   "metadata": {},
   "outputs": [
    {
     "name": "stdout",
     "output_type": "stream",
     "text": [
      "first 5 predictions: [1991.93191104 1999.07198604 2001.76293943 1991.30316996 1994.42658027]\n",
      "Test RMSE: 9.648414812863313\n",
      "Test MAE: 6.921386006548626\n"
     ]
    }
   ],
   "source": [
    "Y_pred = my_lasso.predict(X_test_sd)\n",
    "print(f\"first 5 predictions: {Y_pred[:5]}\")\n",
    "print(f\"Test RMSE: {np.sqrt(np.sum((Y_pred - Y_test)**2) / Y_test.shape[0])}\")\n",
    "print(f\"Test MAE: {np.sum(np.abs(Y_pred - Y_test)) / Y_test.shape[0]}\")"
   ]
  },
  {
   "cell_type": "markdown",
   "metadata": {},
   "source": [
    "### Q3-5 \n",
    "使用下面的 λ 訓練模型: 0.0001, 0.0005, 0.001, 0.005, 0.01, 0.05, 0.1, 0.5, 1, 2。記錄每一個 λ 的 \n",
    "* Training Loss\n",
    "* Number of Nonzero Weights\n",
    "* Average Weight Size (Mean of Absolute Weight)\n",
    "* Training RMSE、Test RMSE\n",
    "\n",
    "將所有的結果列表、畫折線圖、並寫下你對結果的觀察。"
   ]
  },
  {
   "cell_type": "markdown",
   "metadata": {},
   "source": [
    "#### 紀錄各 lambda 結果並存入 dataframe 展示"
   ]
  },
  {
   "cell_type": "code",
   "execution_count": 47,
   "metadata": {},
   "outputs": [
    {
     "name": "stdout",
     "output_type": "stream",
     "text": [
      "Converged at iteration 2\n",
      "Converged at iteration 7\n",
      "Converged at iteration 14\n",
      "Converged at iteration 31\n",
      "Converged at iteration 35\n",
      "Converged at iteration 33\n",
      "Converged at iteration 48\n",
      "Converged at iteration 26\n",
      "Converged at iteration 14\n",
      "Converged at iteration 5\n"
     ]
    },
    {
     "data": {
      "text/html": [
       "<div>\n",
       "<style scoped>\n",
       "    .dataframe tbody tr th:only-of-type {\n",
       "        vertical-align: middle;\n",
       "    }\n",
       "\n",
       "    .dataframe tbody tr th {\n",
       "        vertical-align: top;\n",
       "    }\n",
       "\n",
       "    .dataframe thead th {\n",
       "        text-align: right;\n",
       "    }\n",
       "</style>\n",
       "<table border=\"1\" class=\"dataframe\">\n",
       "  <thead>\n",
       "    <tr style=\"text-align: right;\">\n",
       "      <th></th>\n",
       "      <th>lambda</th>\n",
       "      <th>Training Loss</th>\n",
       "      <th>Nonzero Weights</th>\n",
       "      <th>Avg Weight Size</th>\n",
       "      <th>Training RMSE</th>\n",
       "      <th>Test RMSE</th>\n",
       "    </tr>\n",
       "  </thead>\n",
       "  <tbody>\n",
       "    <tr>\n",
       "      <th>0</th>\n",
       "      <td>0.0001</td>\n",
       "      <td>46.570461</td>\n",
       "      <td>90</td>\n",
       "      <td>0.470606</td>\n",
       "      <td>9.650516</td>\n",
       "      <td>9.644363</td>\n",
       "    </tr>\n",
       "    <tr>\n",
       "      <th>1</th>\n",
       "      <td>0.0005</td>\n",
       "      <td>46.587379</td>\n",
       "      <td>90</td>\n",
       "      <td>0.469507</td>\n",
       "      <td>9.650518</td>\n",
       "      <td>9.644092</td>\n",
       "    </tr>\n",
       "    <tr>\n",
       "      <th>2</th>\n",
       "      <td>0.001</td>\n",
       "      <td>46.608461</td>\n",
       "      <td>90</td>\n",
       "      <td>0.467906</td>\n",
       "      <td>9.650528</td>\n",
       "      <td>9.643539</td>\n",
       "    </tr>\n",
       "    <tr>\n",
       "      <th>3</th>\n",
       "      <td>0.005</td>\n",
       "      <td>46.774657</td>\n",
       "      <td>89</td>\n",
       "      <td>0.455754</td>\n",
       "      <td>9.650862</td>\n",
       "      <td>9.640063</td>\n",
       "    </tr>\n",
       "    <tr>\n",
       "      <th>4</th>\n",
       "      <td>0.01</td>\n",
       "      <td>46.976826</td>\n",
       "      <td>87</td>\n",
       "      <td>0.442903</td>\n",
       "      <td>9.651758</td>\n",
       "      <td>9.636408</td>\n",
       "    </tr>\n",
       "    <tr>\n",
       "      <th>5</th>\n",
       "      <td>0.05</td>\n",
       "      <td>48.41739</td>\n",
       "      <td>76</td>\n",
       "      <td>0.363977</td>\n",
       "      <td>9.672589</td>\n",
       "      <td>9.626433</td>\n",
       "    </tr>\n",
       "    <tr>\n",
       "      <th>6</th>\n",
       "      <td>0.1</td>\n",
       "      <td>49.888404</td>\n",
       "      <td>59</td>\n",
       "      <td>0.294897</td>\n",
       "      <td>9.719499</td>\n",
       "      <td>9.648415</td>\n",
       "    </tr>\n",
       "    <tr>\n",
       "      <th>7</th>\n",
       "      <td>0.5</td>\n",
       "      <td>56.375688</td>\n",
       "      <td>16</td>\n",
       "      <td>0.120031</td>\n",
       "      <td>10.096958</td>\n",
       "      <td>9.999131</td>\n",
       "    </tr>\n",
       "    <tr>\n",
       "      <th>8</th>\n",
       "      <td>1.0</td>\n",
       "      <td>59.889324</td>\n",
       "      <td>4</td>\n",
       "      <td>0.042175</td>\n",
       "      <td>10.591844</td>\n",
       "      <td>10.474621</td>\n",
       "    </tr>\n",
       "    <tr>\n",
       "      <th>9</th>\n",
       "      <td>2.0</td>\n",
       "      <td>61.492131</td>\n",
       "      <td>1</td>\n",
       "      <td>0.004266</td>\n",
       "      <td>11.020374</td>\n",
       "      <td>10.902614</td>\n",
       "    </tr>\n",
       "  </tbody>\n",
       "</table>\n",
       "</div>"
      ],
      "text/plain": [
       "   lambda Training Loss Nonzero Weights Avg Weight Size Training RMSE  \\\n",
       "0  0.0001     46.570461              90        0.470606      9.650516   \n",
       "1  0.0005     46.587379              90        0.469507      9.650518   \n",
       "2   0.001     46.608461              90        0.467906      9.650528   \n",
       "3   0.005     46.774657              89        0.455754      9.650862   \n",
       "4    0.01     46.976826              87        0.442903      9.651758   \n",
       "5    0.05      48.41739              76        0.363977      9.672589   \n",
       "6     0.1     49.888404              59        0.294897      9.719499   \n",
       "7     0.5     56.375688              16        0.120031     10.096958   \n",
       "8     1.0     59.889324               4        0.042175     10.591844   \n",
       "9     2.0     61.492131               1        0.004266     11.020374   \n",
       "\n",
       "   Test RMSE  \n",
       "0   9.644363  \n",
       "1   9.644092  \n",
       "2   9.643539  \n",
       "3   9.640063  \n",
       "4   9.636408  \n",
       "5   9.626433  \n",
       "6   9.648415  \n",
       "7   9.999131  \n",
       "8  10.474621  \n",
       "9  10.902614  "
      ]
     },
     "execution_count": 47,
     "metadata": {},
     "output_type": "execute_result"
    }
   ],
   "source": [
    "import pandas as pd\n",
    "lambda_list = [0.0001, 0.0005, 0.001, 0.005, 0.01, 0.05, 0.1, 0.5, 1, 2]\n",
    "columns = [\"lambda\", \"Training Loss\", \"Nonzero Weights\", \"Avg Weight Size\", \"Training RMSE\", \"Test RMSE\"]\n",
    "result = pd.DataFrame(columns = columns)\n",
    "data_list = []\n",
    "\n",
    "for lam in lambda_list:\n",
    "  my_lasso = mylasso(lamcoef=lam)\n",
    "  my_lasso.fit(X_train_sd, Y_train, winit = \"ridge\")\n",
    "  Y_pred = my_lasso.predict(X_test_sd)\n",
    "  data_list.append({\n",
    "    \"lambda\": lam, \n",
    "    \"Training Loss\": my_lasso.training_loss, \n",
    "    \"Nonzero Weights\": np.sum(my_lasso.features != 0),\n",
    "    \"Avg Weight Size\": np.sum(np.abs(my_lasso.features)) / my_lasso.features.shape[0],\n",
    "    \"Training RMSE\": np.sqrt(np.sum((my_lasso.predict(X_train_sd) - Y_train)**2) / Y_train.shape[0]), \n",
    "    \"Test RMSE\": np.sqrt(np.sum((Y_pred - Y_test)**2) / Y_test.shape[0])})\n",
    "\n",
    "result = pd.concat([result, pd.DataFrame(data_list)], ignore_index = True)\n",
    "result"
   ]
  },
  {
   "cell_type": "markdown",
   "metadata": {},
   "source": [
    "#### 根據各指標繪製折線圖"
   ]
  },
  {
   "cell_type": "code",
   "execution_count": 59,
   "metadata": {},
   "outputs": [
    {
     "name": "stderr",
     "output_type": "stream",
     "text": [
      "c:\\Users\\user\\Anaconda3\\envs\\python39\\lib\\site-packages\\pandas\\core\\indexes\\base.py:6982: FutureWarning: In a future version, the Index constructor will not infer numeric dtypes when passed object-dtype sequences (matching Series behavior)\n",
      "  return Index(sequences[0], name=names)\n"
     ]
    },
    {
     "data": {
      "text/plain": [
       "array([[<AxesSubplot:title={'center':'Training Loss'}, xlabel='lambda'>,\n",
       "        <AxesSubplot:title={'center':'Nonzero Weights'}, xlabel='lambda'>],\n",
       "       [<AxesSubplot:title={'center':'Avg Weight Size'}, xlabel='lambda'>,\n",
       "        <AxesSubplot:title={'center':'Training RMSE'}, xlabel='lambda'>],\n",
       "       [<AxesSubplot:title={'center':'Test RMSE'}, xlabel='lambda'>,\n",
       "        <AxesSubplot:xlabel='lambda'>]], dtype=object)"
      ]
     },
     "execution_count": 59,
     "metadata": {},
     "output_type": "execute_result"
    },
    {
     "data": {
      "image/png": "[encoded data removed]",
      "text/plain": [
       "<Figure size 1296x1152 with 6 Axes>"
      ]
     },
     "metadata": {
      "needs_background": "light"
     },
     "output_type": "display_data"
    }
   ],
   "source": [
    "result.plot(\n",
    "  x = \"lambda\", \n",
    "  y = [\"Training Loss\", \"Nonzero Weights\", \"Avg Weight Size\", \"Training RMSE\", \"Test RMSE\"],\n",
    "  title=[\"Training Loss\", \"Nonzero Weights\", \"Avg Weight Size\", \"Training RMSE\", \"Test RMSE\"],\n",
    "  sharex=False,\n",
    "  kind=\"line\",\n",
    "  figsize = (18, 16),\n",
    "  subplots=True, # make seperate plots for each column\n",
    "  layout=(3, 2),\n",
    "  legend=False,\n",
    "  style=[\"-o\", \"-o\", \"-o\", \"-o\", \"-o\"],\n",
    ")"
   ]
  },
  {
   "cell_type": "markdown",
   "metadata": {},
   "source": [
    "#### Observations"
   ]
  },
  {
   "cell_type": "code",
   "execution_count": null,
   "metadata": {},
   "outputs": [],
   "source": [
    "#TODO: observations for Q3"
   ]
  }
 ],
 "metadata": {
  "kernelspec": {
   "display_name": "Python 3.9.12 ('python39')",
   "language": "python",
   "name": "python3"
  },
  "language_info": {
   "codemirror_mode": {
    "name": "ipython",
    "version": 3
   },
   "file_extension": ".py",
   "mimetype": "text/x-python",
   "name": "python",
   "nbconvert_exporter": "python",
   "pygments_lexer": "ipython3",
   "version": "3.9.12"
  },
  "orig_nbformat": 4,
  "vscode": {
   "interpreter": {
    "hash": "f1f0ca08df83ebe1228368c35aef2dd5bdef6efbf7330e5bb8a931893862d7fc"
   }
  }
 },
 "nbformat": 4,
 "nbformat_minor": 2
}
