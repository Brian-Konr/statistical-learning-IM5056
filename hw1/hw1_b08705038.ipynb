{
 "cells": [
  {
   "cell_type": "code",
   "execution_count": 1,
   "metadata": {},
   "outputs": [],
   "source": []
  },
  {
   "cell_type": "markdown",
   "metadata": {},
   "source": [
    "# Homework1\n",
    "### B08705038 資管四 郭子麟"
   ]
  },
  {
   "cell_type": "markdown",
   "metadata": {},
   "source": [
    "## Question1 - myknn_regressor"
   ]
  },
  {
   "cell_type": "markdown",
   "metadata": {},
   "source": [
    "### Q1.1 Create your myknn_regressor based on the skeleton"
   ]
  },
  {
   "cell_type": "code",
   "execution_count": 3,
   "metadata": {},
   "outputs": [],
   "source": [
    "# loading basic packages\n",
    "import pickle\n",
    "from sklearn import preprocessing\n",
    "import numpy as np"
   ]
  },
  {
   "cell_type": "code",
   "execution_count": 9,
   "metadata": {},
   "outputs": [],
   "source": [
    "# implement my_knn class\n",
    "class my_knn_regressor:\n",
    "  def __init__(self, n_neighbors = 10, mean_type = \"equal_weight\"):\n",
    "    \"\"\"\n",
    "    mean_type can be equal_weight or remove_outliers.\n",
    "    equal_weight use the same weight for all neighbors.\n",
    "    remove_outliers remove neighbors out in [Q1 - 1.5 IQR, Q3 + 1.5IQR].\n",
    "    \"\"\"\n",
    "    self.n_neighbors = n_neighbors\n",
    "    self.mean_type = mean_type\n",
    "    # if n_neighbors is less than 10, use equal_weight anyway\n",
    "    if n_neighbors < 10:\n",
    "      self.mean_type = \"equal_weight\"\n",
    "    \n",
    "  def fit(self, x_train, y_train):\n",
    "    \"\"\"\n",
    "    x_train: numpy array of shape (n_samples, n_features)\n",
    "    y_train: numpy array of shape (n_samples, )\n",
    "    \"\"\"\n",
    "    self.x_train = x_train\n",
    "    self.y_train = y_train\n",
    "  def predict(self, x_test):\n",
    "    \"\"\"\n",
    "    x_test: numpy array of shape (n_samples, n_features)\n",
    "    return: numpy array of shape (n_samples, )\n",
    "    \"\"\"\n",
    "    # get the number of samples\n",
    "    n_samples = x_test.shape[0]\n",
    "    # initialize the prediction array\n",
    "    y_pred = np.zeros(n_samples)\n",
    "    # for each sample in x_test\n",
    "    for i in range(n_samples):\n",
    "      # get the distance between x_test[i] and all samples in x_train\n",
    "      # 因為每個 sample 都會跟全部的 x_train 計算距離，所以這邊用 broadcasting\n",
    "      dist = np.sqrt(np.sum((x_test[i] - self.x_train)**2, axis = 1))\n",
    "      # get the index of the n_neighbors smallest distance\n",
    "      idx = np.argsort(dist)[:self.n_neighbors]\n",
    "      # get the corresponding y_train\n",
    "      y = self.y_train[idx]\n",
    "      # if mean_type is equal_weight\n",
    "      if self.mean_type == \"equal_weight\":\n",
    "        # get the mean of y\n",
    "        y_pred[i] = np.mean(y)\n",
    "      # if mean_type is remove_outlier\n",
    "      else:\n",
    "        # get the Q1 and Q3\n",
    "        Q1 = np.percentile(y, 25)\n",
    "        Q3 = np.percentile(y, 75)\n",
    "        # get the IQR\n",
    "        IQR = Q3 - Q1\n",
    "        # get the index of y in [Q1 - 1.5 IQR, Q3 + 1.5IQR]\n",
    "        idx = np.where((y >= Q1 - 1.5 * IQR) & (y <= Q3 + 1.5 * IQR))\n",
    "        # get the corresponding y_train\n",
    "        y = y[idx]\n",
    "        # get the mean of y\n",
    "        y_pred[i] = np.mean(y)\n",
    "    return y_pred"
   ]
  },
  {
   "cell_type": "markdown",
   "metadata": {},
   "source": [
    "### Q1.2 Load data, fit, predict and list the RMSE and the first 20 predictions in the test data"
   ]
  },
  {
   "cell_type": "markdown",
   "metadata": {},
   "source": [
    "#### Load data"
   ]
  },
  {
   "cell_type": "code",
   "execution_count": 10,
   "metadata": {},
   "outputs": [],
   "source": [
    "# Load data\n",
    "with open('msd_data1.pickle', 'rb') as fh1:\n",
    "    msd_data = pickle.load(fh1)\n",
    "\n",
    "doscaling = 1\n",
    "\n",
    "if (doscaling == 1):\n",
    "    xscaler = preprocessing.StandardScaler().fit(msd_data['X_train'])\n",
    "    #standardize feature values\n",
    "    X_train = xscaler.transform(msd_data['X_train'])\n",
    "    X_test = xscaler.transform(msd_data['X_test'])\n",
    "else:\n",
    "    X_train = msd_data['X_train']\n",
    "    X_test = msd_data['X_test']\n",
    "\n",
    "Y_train = msd_data['Y_train']\n",
    "Y_test = msd_data['Y_test']"
   ]
  },
  {
   "cell_type": "markdown",
   "metadata": {},
   "source": [
    "#### Initialize my_knn_regressor, fit the model and predict the outcome"
   ]
  },
  {
   "cell_type": "code",
   "execution_count": 11,
   "metadata": {},
   "outputs": [
    {
     "data": {
      "text/plain": [
       "array([1993.35, 1993.8 , 2000.65, ..., 1998.95, 2002.6 , 1994.25])"
      ]
     },
     "execution_count": 11,
     "metadata": {},
     "output_type": "execute_result"
    }
   ],
   "source": [
    "my_knn = my_knn_regressor(n_neighbors = 20, mean_type = \"equal_weight\")\n",
    "my_knn.fit(X_train, Y_train)\n",
    "Y_pred = my_knn.predict(X_test)\n",
    "Y_pred"
   ]
  },
  {
   "cell_type": "markdown",
   "metadata": {},
   "source": [
    "#### List the RMSE and first 20 predictions in the testing data"
   ]
  },
  {
   "cell_type": "code",
   "execution_count": 12,
   "metadata": {},
   "outputs": [
    {
     "name": "stdout",
     "output_type": "stream",
     "text": [
      "RMSE is 10.25126451549596\n",
      "The first 20 predictions are [1993.35 1993.8  2000.65 1991.5  1992.8  1998.5  1988.1  1991.65 2002.25\n",
      " 2003.   2000.5  1998.65 1995.55 1997.2  1995.05 1997.4  1992.15 2000.45\n",
      " 2003.2  1995.75]\n"
     ]
    }
   ],
   "source": [
    "from sklearn.metrics import mean_squared_error\n",
    "from math import sqrt\n",
    "\n",
    "rmse = sqrt(mean_squared_error(Y_test, Y_pred))\n",
    "print(f\"RMSE is {rmse}\")\n",
    "print(f\"The first 20 predictions are {Y_pred[:20]}\")"
   ]
  },
  {
   "cell_type": "markdown",
   "metadata": {},
   "source": [
    "### Q1.3 Use remove_outlier to get the prediction and calculate the RMSE and list the first 20 predictions."
   ]
  },
  {
   "cell_type": "markdown",
   "metadata": {},
   "source": [
    "#### Initialize my_knn_regressor, fit the model and predict the outcome"
   ]
  },
  {
   "cell_type": "code",
   "execution_count": 13,
   "metadata": {},
   "outputs": [
    {
     "data": {
      "text/plain": [
       "array([1993.35      , 1993.8       , 2000.65      , ..., 2002.94117647,\n",
       "       2002.6       , 1994.25      ])"
      ]
     },
     "execution_count": 13,
     "metadata": {},
     "output_type": "execute_result"
    }
   ],
   "source": [
    "my_knn = my_knn_regressor(n_neighbors = 20, mean_type = \"remove_outlier\")\n",
    "my_knn.fit(X_train, Y_train)\n",
    "Y_pred_with_remove_outlier = my_knn.predict(X_test)\n",
    "Y_pred_with_remove_outlier"
   ]
  },
  {
   "cell_type": "markdown",
   "metadata": {},
   "source": [
    "#### List the RMSE and first 20 predictions in the testing data"
   ]
  },
  {
   "cell_type": "code",
   "execution_count": 14,
   "metadata": {},
   "outputs": [
    {
     "name": "stdout",
     "output_type": "stream",
     "text": [
      "RMSE with remove outlier method is 10.212572466080376\n",
      "The first 20 predictions are [1993.35       1993.8        2000.65       1992.73684211 1992.8\n",
      " 2000.         1988.1        1991.65       2002.25       2003.94736842\n",
      " 2000.5        2000.94444444 1995.55       1997.2        1998.61111111\n",
      " 1997.4        1992.15       2003.83333333 2003.2        1995.75      ]\n"
     ]
    }
   ],
   "source": [
    "rmse = sqrt(mean_squared_error(Y_test, Y_pred_with_remove_outlier))\n",
    "print(f\"RMSE with remove outlier method is {rmse}\")\n",
    "print(f\"The first 20 predictions are {Y_pred_with_remove_outlier[:20]}\")"
   ]
  },
  {
   "cell_type": "markdown",
   "metadata": {},
   "source": [
    "## Question2 - Tuning the Hyper-Parameter"
   ]
  },
  {
   "cell_type": "code",
   "execution_count": 21,
   "metadata": {},
   "outputs": [],
   "source": [
    "from sklearn.neighbors import KNeighborsRegressor\n",
    "\n",
    "# define candidate neighbors list\n",
    "candidate_k_list = [1,2,3,4,5,10,15,20,25,30,35,40,45,50,55,60,80,100,120,140,160,180,200]\n",
    "\n",
    "# rmse list for three settings\n",
    "first_rmse_list = []\n",
    "second_rmse_list = []\n",
    "third_rmse_list = []\n",
    "\n",
    "# setup data with / without feature scaling\n",
    "# Load data\n",
    "with open('msd_data1.pickle', 'rb') as fh1:\n",
    "    msd_data = pickle.load(fh1)\n",
    "\n",
    "xscaler = preprocessing.StandardScaler().fit(msd_data['X_train'])\n",
    "# standardize feature values\n",
    "X_train_feature_scaling = xscaler.transform(msd_data['X_train'])\n",
    "X_test_feature_scaling = xscaler.transform(msd_data['X_test'])\n",
    "\n",
    "\n",
    "X_train = msd_data['X_train']\n",
    "X_test = msd_data['X_test']\n",
    "\n",
    "Y_train = msd_data['Y_train']\n",
    "Y_test = msd_data['Y_test']\n",
    "\n",
    "\n",
    "# for each candidate k, train the model and get the rmse\n",
    "for k in candidate_k_list:\n",
    "  # setting 1: use KNeighbors with feature scaling data\n",
    "  knn_1 = KNeighborsRegressor(n_neighbors = k)\n",
    "  knn_1.fit(X_train_feature_scaling, Y_train)\n",
    "  Y_pred_1 = knn_1.predict(X_test_feature_scaling)\n",
    "  first_rmse_list.append(sqrt(mean_squared_error(Y_test, Y_pred_1)))\n",
    "\n",
    "  # setting 2: use KNeighbors with original data\n",
    "  knn_2 = KNeighborsRegressor(n_neighbors = k)\n",
    "  knn_2.fit(X_train, Y_train)\n",
    "  Y_pred_2 = knn_2.predict(X_test)\n",
    "  second_rmse_list.append(sqrt(mean_squared_error(Y_test, Y_pred_2)))\n",
    "\n",
    "  # setting 3: use my_knn_regressor with feature scaling data\n",
    "  knn_3 = my_knn_regressor(n_neighbors = k, mean_type = \"remove_outlier\")\n",
    "  knn_3.fit(X_train_feature_scaling, Y_train)\n",
    "  Y_pred_3 = knn_3.predict(X_test_feature_scaling)\n",
    "  third_rmse_list.append(sqrt(mean_squared_error(Y_test, Y_pred_3)))"
   ]
  },
  {
   "cell_type": "markdown",
   "metadata": {},
   "source": [
    "#### For each setting, plot a curve that shows the relations between k (x-axis) and RMSE (y-axis)"
   ]
  },
  {
   "cell_type": "code",
   "execution_count": 25,
   "metadata": {},
   "outputs": [
    {
     "data": {
      "text/plain": [
       "Text(0, 0.5, 'RMSE')"
      ]
     },
     "execution_count": 25,
     "metadata": {},
     "output_type": "execute_result"
    },
    {
     "data": {
      "image/png": "[encoded data removed]",
      "text/plain": [
       "<Figure size 432x288 with 1 Axes>"
      ]
     },
     "metadata": {
      "needs_background": "light"
     },
     "output_type": "display_data"
    }
   ],
   "source": [
    "import matplotlib.pyplot as plt\n",
    "\n",
    "plt.plot(candidate_k_list, first_rmse_list, label = \"first setting\")\n",
    "plt.plot(candidate_k_list, second_rmse_list, label = \"second setting\")\n",
    "plt.plot(candidate_k_list, third_rmse_list, label = \"third setting\")\n",
    "plt.legend()\n",
    "plt.xlabel(\"k\")\n",
    "plt.ylabel(\"RMSE\")\n"
   ]
  },
  {
   "cell_type": "markdown",
   "metadata": {},
   "source": [
    "#### Observations\n",
    "Cool! Copilot is awesome..."
   ]
  },
  {
   "cell_type": "code",
   "execution_count": null,
   "metadata": {},
   "outputs": [],
   "source": [
    "# Load data\n",
    "with open('msd_data1.pickle', 'rb') as fh1:\n",
    "    msd_data = pickle.load(fh1)\n",
    "\n",
    "doscaling = 1\n",
    "\n",
    "if (doscaling == 1):\n",
    "    xscaler = preprocessing.StandardScaler().fit(msd_data['X_train'])\n",
    "    #standardize feature values\n",
    "    X_train = xscaler.transform(msd_data['X_train'])\n",
    "    X_test = xscaler.transform(msd_data['X_test'])\n",
    "else:\n",
    "    X_train = msd_data['X_train']\n",
    "    X_test = msd_data['X_test']\n",
    "\n",
    "Y_train = msd_data['Y_train']\n",
    "Y_test = msd_data['Y_test']"
   ]
  }
 ],
 "metadata": {
  "kernelspec": {
   "display_name": "Python 3.9.12 ('python39')",
   "language": "python",
   "name": "python3"
  },
  "language_info": {
   "codemirror_mode": {
    "name": "ipython",
    "version": 3
   },
   "file_extension": ".py",
   "mimetype": "text/x-python",
   "name": "python",
   "nbconvert_exporter": "python",
   "pygments_lexer": "ipython3",
   "version": "3.9.12"
  },
  "orig_nbformat": 4,
  "vscode": {
   "interpreter": {
    "hash": "f1f0ca08df83ebe1228368c35aef2dd5bdef6efbf7330e5bb8a931893862d7fc"
   }
  }
 },
 "nbformat": 4,
 "nbformat_minor": 2
}
