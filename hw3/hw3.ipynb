{
 "cells": [
  {
   "cell_type": "markdown",
   "metadata": {},
   "source": [
    "### 統計學習與深度學習\n",
    "### Homework 3\n",
    "\n",
    "\n",
    "請將IPYNB檔與IPYNB Export之HTML檔上傳至COOL作業區。回答作業時建議使用 \"三明治\" 答題法。也就是說，先說明要做什麼，然後列出程式碼與結果，最後說明這些結果的意義。作業自己做。嚴禁抄襲。不接受紙本繳交，不接受遲交。請以英文或中文作答。\n"
   ]
  },
  {
   "cell_type": "markdown",
   "metadata": {},
   "source": [
    "### 第一題 [分類器、特徵建構、與Stacking]\n",
    "\n",
    "(50%) 建構分類器時常會透過特徵選擇與Ensemble增強預測能力。本題的目的是讓大家練習這些技巧。本題使用一個中文姓名分類的資料集。這個資料集收集了10730個中文名(不含姓)，以及這些名子對應到的性別。本資料集的資料檔是**namesex_data_v2.csv**，共有三個欄位，gname, sex, fold:\n",
    "* gname: 不含姓的中文名。\n",
    "* sex: 1為男性，0為女性。\n",
    "* fold: 為0 - 9的整數，做為後續切割資料集使用。\n",
    "\n",
    "我們先將這個資料集讀入Numpy Array，並列印前十筆資料。"
   ]
  },
  {
   "cell_type": "code",
   "execution_count": 1,
   "metadata": {},
   "outputs": [
    {
     "name": "stdout",
     "output_type": "stream",
     "text": [
      "{'gname': '承憲', 'sex': '1', 'fold': '9'}\n",
      "{'gname': '均平', 'sex': '1', 'fold': '7'}\n",
      "{'gname': '思安', 'sex': '0', 'fold': '6'}\n",
      "{'gname': '佑誠', 'sex': '1', 'fold': '3'}\n",
      "{'gname': '乃馨', 'sex': '0', 'fold': '0'}\n",
      "{'gname': '婕', 'sex': '0', 'fold': '0'}\n",
      "{'gname': '冠瑜', 'sex': '0', 'fold': '1'}\n",
      "{'gname': '冠學', 'sex': '1', 'fold': '0'}\n",
      "{'gname': '立翰', 'sex': '1', 'fold': '2'}\n",
      "{'gname': '以柔', 'sex': '0', 'fold': '6'}\n"
     ]
    }
   ],
   "source": [
    "%matplotlib inline\n",
    "import matplotlib.pyplot as plt\n",
    "import csv\n",
    "import numpy as np\n",
    "\n",
    "f = open('ds/namesex_data_v2.csv', 'r', encoding='utf8')\n",
    "mydata = csv.DictReader(f)\n",
    "sexlist = []\n",
    "namelist = []\n",
    "foldlist = []\n",
    "for i, arow in enumerate(mydata):\n",
    "    if i < 10:\n",
    "        print(arow)\n",
    "    sexlist.append(int(arow['sex'].strip()))\n",
    "    gname = arow['gname'].strip()\n",
    "    namelist.append(gname)\n",
    "    foldlist.append(int(arow['fold'].strip()))\n",
    "\n",
    "sexlist = np.asarray(sexlist)\n",
    "namelist = np.asarray(namelist)\n",
    "foldlist = np.asarray(foldlist)\n",
    "f.close()"
   ]
  },
  {
   "cell_type": "markdown",
   "metadata": {},
   "source": [
    "接下來看一些統計數字:"
   ]
  },
  {
   "cell_type": "code",
   "execution_count": 2,
   "metadata": {},
   "outputs": [
    {
     "name": "stdout",
     "output_type": "stream",
     "text": [
      "資料筆數 =  10730\n"
     ]
    }
   ],
   "source": [
    "nobs = namelist.shape[0]\n",
    "print(\"資料筆數 = \", nobs)"
   ]
  },
  {
   "cell_type": "code",
   "execution_count": 3,
   "metadata": {},
   "outputs": [
    {
     "name": "stdout",
     "output_type": "stream",
     "text": [
      "男性比率 0.47940354147250697\n"
     ]
    }
   ],
   "source": [
    "avg_sex = np.mean(sexlist)\n",
    "print(\"男性比率\", avg_sex)"
   ]
  },
  {
   "cell_type": "markdown",
   "metadata": {},
   "source": [
    "這個資料集的男女比率還算是平均，男性佔了47.94%。\n",
    "\n",
    "我們用了比較迂迴的方式讀檔案，Pandas其實可以直接讀csv檔。接下來做一些基本的資料分析。我們關心幾件事:\n",
    "* 最常見的名子\n",
    "* 共有多少個不重複的名子\n",
    "* 有多少難判斷男女的名子\n",
    "\n",
    "要回答這些問題，首先對名子加總，計算數量與男性比率，排序之後列出前20個名子:"
   ]
  },
  {
   "cell_type": "code",
   "execution_count": 3,
   "metadata": {},
   "outputs": [
    {
     "name": "stdout",
     "output_type": "stream",
     "text": [
      "最常見的20個名子:\n"
     ]
    },
    {
     "data": {
      "text/html": [
       "<div>\n",
       "<style scoped>\n",
       "    .dataframe tbody tr th:only-of-type {\n",
       "        vertical-align: middle;\n",
       "    }\n",
       "\n",
       "    .dataframe tbody tr th {\n",
       "        vertical-align: top;\n",
       "    }\n",
       "\n",
       "    .dataframe thead th {\n",
       "        text-align: right;\n",
       "    }\n",
       "</style>\n",
       "<table border=\"1\" class=\"dataframe\">\n",
       "  <thead>\n",
       "    <tr style=\"text-align: right;\">\n",
       "      <th></th>\n",
       "      <th>name-</th>\n",
       "      <th>sex-mean</th>\n",
       "      <th>sex-count</th>\n",
       "    </tr>\n",
       "  </thead>\n",
       "  <tbody>\n",
       "    <tr>\n",
       "      <th>3738</th>\n",
       "      <td>承恩</td>\n",
       "      <td>1.000000</td>\n",
       "      <td>20</td>\n",
       "    </tr>\n",
       "    <tr>\n",
       "      <th>918</th>\n",
       "      <td>冠廷</td>\n",
       "      <td>1.000000</td>\n",
       "      <td>20</td>\n",
       "    </tr>\n",
       "    <tr>\n",
       "      <th>2506</th>\n",
       "      <td>宜蓁</td>\n",
       "      <td>0.000000</td>\n",
       "      <td>18</td>\n",
       "    </tr>\n",
       "    <tr>\n",
       "      <th>545</th>\n",
       "      <td>佳穎</td>\n",
       "      <td>0.000000</td>\n",
       "      <td>16</td>\n",
       "    </tr>\n",
       "    <tr>\n",
       "      <th>3196</th>\n",
       "      <td>彥廷</td>\n",
       "      <td>0.923077</td>\n",
       "      <td>13</td>\n",
       "    </tr>\n",
       "    <tr>\n",
       "      <th>913</th>\n",
       "      <td>冠宇</td>\n",
       "      <td>1.000000</td>\n",
       "      <td>13</td>\n",
       "    </tr>\n",
       "    <tr>\n",
       "      <th>3390</th>\n",
       "      <td>思妤</td>\n",
       "      <td>0.000000</td>\n",
       "      <td>13</td>\n",
       "    </tr>\n",
       "    <tr>\n",
       "      <th>1019</th>\n",
       "      <td>凱翔</td>\n",
       "      <td>1.000000</td>\n",
       "      <td>13</td>\n",
       "    </tr>\n",
       "    <tr>\n",
       "      <th>3769</th>\n",
       "      <td>承翰</td>\n",
       "      <td>1.000000</td>\n",
       "      <td>13</td>\n",
       "    </tr>\n",
       "    <tr>\n",
       "      <th>3477</th>\n",
       "      <td>怡萱</td>\n",
       "      <td>0.000000</td>\n",
       "      <td>13</td>\n",
       "    </tr>\n",
       "    <tr>\n",
       "      <th>497</th>\n",
       "      <td>佳妤</td>\n",
       "      <td>0.000000</td>\n",
       "      <td>12</td>\n",
       "    </tr>\n",
       "    <tr>\n",
       "      <th>4683</th>\n",
       "      <td>柏翰</td>\n",
       "      <td>1.000000</td>\n",
       "      <td>12</td>\n",
       "    </tr>\n",
       "    <tr>\n",
       "      <th>2114</th>\n",
       "      <td>子瑜</td>\n",
       "      <td>0.090909</td>\n",
       "      <td>11</td>\n",
       "    </tr>\n",
       "    <tr>\n",
       "      <th>4907</th>\n",
       "      <td>欣妤</td>\n",
       "      <td>0.000000</td>\n",
       "      <td>11</td>\n",
       "    </tr>\n",
       "    <tr>\n",
       "      <th>1351</th>\n",
       "      <td>品妤</td>\n",
       "      <td>0.000000</td>\n",
       "      <td>10</td>\n",
       "    </tr>\n",
       "    <tr>\n",
       "      <th>7889</th>\n",
       "      <td>鈺婷</td>\n",
       "      <td>0.000000</td>\n",
       "      <td>10</td>\n",
       "    </tr>\n",
       "    <tr>\n",
       "      <th>2499</th>\n",
       "      <td>宜臻</td>\n",
       "      <td>0.000000</td>\n",
       "      <td>9</td>\n",
       "    </tr>\n",
       "    <tr>\n",
       "      <th>1441</th>\n",
       "      <td>哲瑋</td>\n",
       "      <td>1.000000</td>\n",
       "      <td>9</td>\n",
       "    </tr>\n",
       "    <tr>\n",
       "      <th>7024</th>\n",
       "      <td>芳瑜</td>\n",
       "      <td>0.000000</td>\n",
       "      <td>9</td>\n",
       "    </tr>\n",
       "    <tr>\n",
       "      <th>2140</th>\n",
       "      <td>子芸</td>\n",
       "      <td>0.000000</td>\n",
       "      <td>9</td>\n",
       "    </tr>\n",
       "  </tbody>\n",
       "</table>\n",
       "</div>"
      ],
      "text/plain": [
       "     name-  sex-mean  sex-count\n",
       "3738    承恩  1.000000         20\n",
       "918     冠廷  1.000000         20\n",
       "2506    宜蓁  0.000000         18\n",
       "545     佳穎  0.000000         16\n",
       "3196    彥廷  0.923077         13\n",
       "913     冠宇  1.000000         13\n",
       "3390    思妤  0.000000         13\n",
       "1019    凱翔  1.000000         13\n",
       "3769    承翰  1.000000         13\n",
       "3477    怡萱  0.000000         13\n",
       "497     佳妤  0.000000         12\n",
       "4683    柏翰  1.000000         12\n",
       "2114    子瑜  0.090909         11\n",
       "4907    欣妤  0.000000         11\n",
       "1351    品妤  0.000000         10\n",
       "7889    鈺婷  0.000000         10\n",
       "2499    宜臻  0.000000          9\n",
       "1441    哲瑋  1.000000          9\n",
       "7024    芳瑜  0.000000          9\n",
       "2140    子芸  0.000000          9"
      ]
     },
     "execution_count": 3,
     "metadata": {},
     "output_type": "execute_result"
    }
   ],
   "source": [
    "import pandas as pd\n",
    "name_df = pd.DataFrame({'sex': sexlist, 'name': namelist, 'fold': foldlist})\n",
    "sex_tend = name_df[['name', 'sex']].groupby([\"name\"]).agg(['mean', 'count']).reset_index()\n",
    "sex_tend.columns = ['-'.join(col).strip() for col in sex_tend.columns.values]\n",
    "sex_tend = sex_tend.sort_values(['sex-count'], ascending=False)\n",
    "\n",
    "print(\"最常見的20個名子:\")\n",
    "sex_tend.head(20)"
   ]
  },
  {
   "cell_type": "markdown",
   "metadata": {},
   "source": [
    "由上面的列表看來，最常見的男性名子是承恩與冠廷，最常見的女性名子是宜蓁與佳穎。而這些常見的名子男性比率都非常接近0或1，表示這些名子沒有性別混淆的問題。\n",
    "\n",
    "另外一個問題是有多少名子只出現一次:"
   ]
  },
  {
   "cell_type": "code",
   "execution_count": 5,
   "metadata": {},
   "outputs": [
    {
     "name": "stdout",
     "output_type": "stream",
     "text": [
      "出現一次名子個數:  7067 比率: 0.6586206896551724\n"
     ]
    }
   ],
   "source": [
    "single_name = np.sum(sex_tend['sex-count'] <= 1)\n",
    "print(\"出現一次名子個數: \", single_name, \"比率:\", single_name / nobs)"
   ]
  },
  {
   "cell_type": "markdown",
   "metadata": {},
   "source": [
    "由結果看來，名子在資料集中只出現一次的比率很高，有65%。也就是說，如果單純的使用訓練資料中出現的名子做為特徵，模型應該會有很差的預測能力。\n",
    "\n",
    "#### <font color=#800000>為了處理這個問題，我們在接下來的任務中，會使用\"Unigram + Full Name\"的特徵表示，比如說，\"芳瑜\"的特徵表示為\"芳\"、\"瑜\"，以及原始的名子\"芳瑜\"。</font>\n",
    "\n",
    "最後我們來看看性別混淆的名子:"
   ]
  },
  {
   "cell_type": "code",
   "execution_count": 6,
   "metadata": {},
   "outputs": [
    {
     "name": "stdout",
     "output_type": "stream",
     "text": [
      "難區分性別姓名數量:  136 比率: 0.012674743709226468\n"
     ]
    }
   ],
   "source": [
    "ind1 = (sex_tend['sex-mean'] > 0.4) & (sex_tend['sex-mean'] < 0.6)\n",
    "sex_amb = sex_tend[ind1]\n",
    "amb_count = sex_amb['sex-count'].sum()\n",
    "print(\"難區分性別姓名數量: \", amb_count, \"比率:\", amb_count/ nobs)"
   ]
  },
  {
   "cell_type": "markdown",
   "metadata": {},
   "source": [
    "難以區分性別的名子總數並不高，所占總體資料的比率也很低，只有1.26%，因此不用擔心這個因素會影響預測準確率。\n",
    "\n",
    "下面來看看幾個容易混淆性別的名子:"
   ]
  },
  {
   "cell_type": "code",
   "execution_count": 7,
   "metadata": {},
   "outputs": [
    {
     "data": {
      "text/html": [
       "<div>\n",
       "<style scoped>\n",
       "    .dataframe tbody tr th:only-of-type {\n",
       "        vertical-align: middle;\n",
       "    }\n",
       "\n",
       "    .dataframe tbody tr th {\n",
       "        vertical-align: top;\n",
       "    }\n",
       "\n",
       "    .dataframe thead th {\n",
       "        text-align: right;\n",
       "    }\n",
       "</style>\n",
       "<table border=\"1\" class=\"dataframe\">\n",
       "  <thead>\n",
       "    <tr style=\"text-align: right;\">\n",
       "      <th></th>\n",
       "      <th>name-</th>\n",
       "      <th>sex-mean</th>\n",
       "      <th>sex-count</th>\n",
       "    </tr>\n",
       "  </thead>\n",
       "  <tbody>\n",
       "    <tr>\n",
       "      <th>6777</th>\n",
       "      <td>育瑋</td>\n",
       "      <td>0.5</td>\n",
       "      <td>4</td>\n",
       "    </tr>\n",
       "    <tr>\n",
       "      <th>338</th>\n",
       "      <td>以恩</td>\n",
       "      <td>0.5</td>\n",
       "      <td>4</td>\n",
       "    </tr>\n",
       "    <tr>\n",
       "      <th>7783</th>\n",
       "      <td>郁軒</td>\n",
       "      <td>0.5</td>\n",
       "      <td>4</td>\n",
       "    </tr>\n",
       "    <tr>\n",
       "      <th>2513</th>\n",
       "      <td>宜謙</td>\n",
       "      <td>0.5</td>\n",
       "      <td>4</td>\n",
       "    </tr>\n",
       "    <tr>\n",
       "      <th>5920</th>\n",
       "      <td>祐嘉</td>\n",
       "      <td>0.5</td>\n",
       "      <td>4</td>\n",
       "    </tr>\n",
       "  </tbody>\n",
       "</table>\n",
       "</div>"
      ],
      "text/plain": [
       "     name-  sex-mean  sex-count\n",
       "6777    育瑋       0.5          4\n",
       "338     以恩       0.5          4\n",
       "7783    郁軒       0.5          4\n",
       "2513    宜謙       0.5          4\n",
       "5920    祐嘉       0.5          4"
      ]
     },
     "execution_count": 7,
     "metadata": {},
     "output_type": "execute_result"
    }
   ],
   "source": [
    "sex_amb.head()"
   ]
  },
  {
   "cell_type": "markdown",
   "metadata": {},
   "source": [
    "#### 實做限制\n",
    "為了確保可以確實練習到重要技巧，禁用Pycaret (<https://pycaret.org/>) 這類可以自動化調教參數與Ensemble模型的工具。另外也禁止使用`sklearn.ensemble.Stacking.*`。你可以使用sklearn中Pre-processing工具函數與現成的分類器，但參數調教請自行處理。\n",
    "\n",
    "\n",
    "\n",
    "#### 回答下面問題\n",
    "#### Q1.1 (10%): \n",
    "使用One-hot Encoding建構資料變數。所有資料變數都要是Numpy Array。依照每筆資料其fold值切割為Training (fold <=6)、Validation (fold == 7)、Stacking (fold == 8)、Test (fold == 9)。每個資料集應有特徵Array(二維)以及Label Array(一維)。如前面提到的，每個名子應該要對應到全名以及單字的One-hot Encoding。比如說，\"芳瑜\"的特徵表示為\"芳\"、\"瑜\"，以及原始的名子\"芳瑜\"。建構特徵表示時應依照個特徵出現的頻率篩選。特徵在訓練資料出現兩次或以上才納入。如果一個特徵被排除，這個特徵出現時應被歸為\"\\_Other_Feature_\"。任何名子只要有出現未被納入的特徵，則其\"\\_Other_Feature_\"的欄位值為1。\n",
    "\n",
    "舉例而言，假設訓練資料集中有下面三個名子: 承恩、承德、恩賜。在經過特徵頻率篩選之後，只剩下以下特徵: 承、恩。其他特徵，如承恩、承德、恩賜、德、賜皆被排除。因此最後的特徵表示為:\n",
    "\n",
    "Input | 承 | 恩 | \\_Other_Feature_ |\n",
    "------|----|----|-----------------|\n",
    "承恩  | 1  | 1   |  1    |\n",
    "承德  | 1  | 0   |  1  |\n",
    "恩賜  | 0  | 1   |  1 |\n",
    "\n",
    "最後應產生以下Numpy Array:\n",
    "* x_train: Training Features\n",
    "* y_train: Training Labels\n",
    "* x_valid: Validation Features\n",
    "* y_valid: Validation Labels\n",
    "* x_stack: Stack Features\n",
    "* y_stack: Stack Labels\n",
    "* x_test: Test Features\n",
    "* y_test: Test Labels\n",
    "\n",
    "請列出每個Numpy Array的Shape以資查驗。"
   ]
  },
  {
   "cell_type": "markdown",
   "metadata": {},
   "source": [
    "##### construct dataframe to store name, sex, fold information"
   ]
  },
  {
   "cell_type": "code",
   "execution_count": 4,
   "metadata": {},
   "outputs": [
    {
     "data": {
      "text/html": [
       "<div>\n",
       "<style scoped>\n",
       "    .dataframe tbody tr th:only-of-type {\n",
       "        vertical-align: middle;\n",
       "    }\n",
       "\n",
       "    .dataframe tbody tr th {\n",
       "        vertical-align: top;\n",
       "    }\n",
       "\n",
       "    .dataframe thead th {\n",
       "        text-align: right;\n",
       "    }\n",
       "</style>\n",
       "<table border=\"1\" class=\"dataframe\">\n",
       "  <thead>\n",
       "    <tr style=\"text-align: right;\">\n",
       "      <th></th>\n",
       "      <th>name</th>\n",
       "      <th>sex</th>\n",
       "      <th>fold</th>\n",
       "    </tr>\n",
       "  </thead>\n",
       "  <tbody>\n",
       "    <tr>\n",
       "      <th>0</th>\n",
       "      <td>承憲</td>\n",
       "      <td>1</td>\n",
       "      <td>9</td>\n",
       "    </tr>\n",
       "    <tr>\n",
       "      <th>1</th>\n",
       "      <td>均平</td>\n",
       "      <td>1</td>\n",
       "      <td>7</td>\n",
       "    </tr>\n",
       "    <tr>\n",
       "      <th>2</th>\n",
       "      <td>思安</td>\n",
       "      <td>0</td>\n",
       "      <td>6</td>\n",
       "    </tr>\n",
       "    <tr>\n",
       "      <th>3</th>\n",
       "      <td>佑誠</td>\n",
       "      <td>1</td>\n",
       "      <td>3</td>\n",
       "    </tr>\n",
       "    <tr>\n",
       "      <th>4</th>\n",
       "      <td>乃馨</td>\n",
       "      <td>0</td>\n",
       "      <td>0</td>\n",
       "    </tr>\n",
       "  </tbody>\n",
       "</table>\n",
       "</div>"
      ],
      "text/plain": [
       "  name  sex  fold\n",
       "0   承憲    1     9\n",
       "1   均平    1     7\n",
       "2   思安    0     6\n",
       "3   佑誠    1     3\n",
       "4   乃馨    0     0"
      ]
     },
     "metadata": {},
     "output_type": "display_data"
    },
    {
     "data": {
      "text/html": [
       "<div>\n",
       "<style scoped>\n",
       "    .dataframe tbody tr th:only-of-type {\n",
       "        vertical-align: middle;\n",
       "    }\n",
       "\n",
       "    .dataframe tbody tr th {\n",
       "        vertical-align: top;\n",
       "    }\n",
       "\n",
       "    .dataframe thead th {\n",
       "        text-align: right;\n",
       "    }\n",
       "</style>\n",
       "<table border=\"1\" class=\"dataframe\">\n",
       "  <thead>\n",
       "    <tr style=\"text-align: right;\">\n",
       "      <th></th>\n",
       "      <th>name</th>\n",
       "      <th>sex</th>\n",
       "      <th>fold</th>\n",
       "    </tr>\n",
       "  </thead>\n",
       "  <tbody>\n",
       "    <tr>\n",
       "      <th>10725</th>\n",
       "      <td>嘉銘</td>\n",
       "      <td>1</td>\n",
       "      <td>3</td>\n",
       "    </tr>\n",
       "    <tr>\n",
       "      <th>10726</th>\n",
       "      <td>佳芸</td>\n",
       "      <td>0</td>\n",
       "      <td>8</td>\n",
       "    </tr>\n",
       "    <tr>\n",
       "      <th>10727</th>\n",
       "      <td>又華</td>\n",
       "      <td>0</td>\n",
       "      <td>3</td>\n",
       "    </tr>\n",
       "    <tr>\n",
       "      <th>10728</th>\n",
       "      <td>子晉</td>\n",
       "      <td>1</td>\n",
       "      <td>0</td>\n",
       "    </tr>\n",
       "    <tr>\n",
       "      <th>10729</th>\n",
       "      <td>芸靜</td>\n",
       "      <td>0</td>\n",
       "      <td>2</td>\n",
       "    </tr>\n",
       "  </tbody>\n",
       "</table>\n",
       "</div>"
      ],
      "text/plain": [
       "      name  sex  fold\n",
       "10725   嘉銘    1     3\n",
       "10726   佳芸    0     8\n",
       "10727   又華    0     3\n",
       "10728   子晉    1     0\n",
       "10729   芸靜    0     2"
      ]
     },
     "metadata": {},
     "output_type": "display_data"
    },
    {
     "name": "stdout",
     "output_type": "stream",
     "text": [
      "資料筆數 = 10730\n"
     ]
    }
   ],
   "source": [
    "data = pd.DataFrame({'name': namelist, 'sex': sexlist, 'fold': foldlist})\n",
    "display(data.head())\n",
    "display(data.tail())\n",
    "# print data shape\n",
    "print(\"資料筆數 =\", data.shape[0])"
   ]
  },
  {
   "cell_type": "markdown",
   "metadata": {},
   "source": [
    "##### use fold to split data into training, validation, stacking, and testing"
   ]
  },
  {
   "cell_type": "code",
   "execution_count": 5,
   "metadata": {},
   "outputs": [],
   "source": [
    "train_set = data[data['fold'] <= 6]\n",
    "validataion_set = data[data['fold'] == 7]\n",
    "stacking_set = data[data['fold'] == 8]\n",
    "test_set = data[data['fold'] == 9]"
   ]
  },
  {
   "cell_type": "markdown",
   "metadata": {},
   "source": [
    "##### generate available feature list by counting feature frequency in training data "
   ]
  },
  {
   "cell_type": "code",
   "execution_count": 6,
   "metadata": {},
   "outputs": [
    {
     "name": "stdout",
     "output_type": "stream",
     "text": [
      "出現多於一次的特徵字詞數量: 1629\n"
     ]
    }
   ],
   "source": [
    "# for every name, we first split it into characters and use set to remove duplicates\n",
    "token_counting_dict = {}\n",
    "feature_token_list = []\n",
    "for name in train_set['name']:\n",
    "    tokens = []\n",
    "    if len(name) > 1:\n",
    "        tokens = list(name)\n",
    "    tokens.append(name)\n",
    "    for token in tokens:\n",
    "        if token not in token_counting_dict:\n",
    "            token_counting_dict[token] = 1\n",
    "        else:\n",
    "            token_counting_dict[token] += 1\n",
    "\n",
    "# we only keep tokens that appear more than 1 times\n",
    "for key, value in token_counting_dict.items():\n",
    "    if value > 1:\n",
    "        feature_token_list.append(key)\n",
    "print(f\"出現多於一次的特徵字詞數量: {len(feature_token_list)}\")\n",
    "\n",
    "# feaute list should also add a feature called \"_Other_Feature_\"\n",
    "feature_token_list.append(\"_Other_Feature_\")"
   ]
  },
  {
   "cell_type": "code",
   "execution_count": 7,
   "metadata": {},
   "outputs": [
    {
     "name": "stdout",
     "output_type": "stream",
     "text": [
      "前 10 個特徵字詞: ['思', '安', '佑', '誠', '乃', '馨', '婕', '冠', '瑜', '學']\n"
     ]
    }
   ],
   "source": [
    "print(f\"前 10 個特徵字詞: {list(feature_token_list)[:10]}\")"
   ]
  },
  {
   "cell_type": "markdown",
   "metadata": {},
   "source": [
    "##### generate one-hot encoding of each feautre for data"
   ]
  },
  {
   "cell_type": "code",
   "execution_count": 8,
   "metadata": {},
   "outputs": [
    {
     "name": "stdout",
     "output_type": "stream",
     "text": [
      "10730\n"
     ]
    }
   ],
   "source": [
    "one_hot_values_for_each_name = []\n",
    "for name in data['name']:\n",
    "    tokens = []\n",
    "    if len(name) > 1:\n",
    "        tokens = list(name)\n",
    "    tokens.append(name)\n",
    "    one_hot_values = []\n",
    "    meet_count = 0\n",
    "    for feature in feature_token_list:\n",
    "        if feature in tokens:\n",
    "            one_hot_values.append(1)\n",
    "            meet_count += 1\n",
    "        else:\n",
    "            one_hot_values.append(0)\n",
    "    if meet_count < len(tokens):\n",
    "        one_hot_values[-1] = 1\n",
    "    one_hot_values_for_each_name.append(one_hot_values)\n",
    "print(len(one_hot_values_for_each_name))"
   ]
  },
  {
   "cell_type": "code",
   "execution_count": 9,
   "metadata": {},
   "outputs": [
    {
     "name": "stdout",
     "output_type": "stream",
     "text": [
      "(10730, 1630)\n"
     ]
    }
   ],
   "source": [
    "# construct a dataframe for one hot values for each name\n",
    "one_hot_df = pd.DataFrame(one_hot_values_for_each_name, columns=feature_token_list)\n",
    "print(one_hot_df.shape)"
   ]
  },
  {
   "cell_type": "code",
   "execution_count": 10,
   "metadata": {},
   "outputs": [],
   "source": [
    "# merge one hot values with original data\n",
    "data_with_features = pd.concat([data, one_hot_df], axis=1)"
   ]
  },
  {
   "cell_type": "code",
   "execution_count": 11,
   "metadata": {},
   "outputs": [
    {
     "data": {
      "text/html": [
       "<div>\n",
       "<style scoped>\n",
       "    .dataframe tbody tr th:only-of-type {\n",
       "        vertical-align: middle;\n",
       "    }\n",
       "\n",
       "    .dataframe tbody tr th {\n",
       "        vertical-align: top;\n",
       "    }\n",
       "\n",
       "    .dataframe thead th {\n",
       "        text-align: right;\n",
       "    }\n",
       "</style>\n",
       "<table border=\"1\" class=\"dataframe\">\n",
       "  <thead>\n",
       "    <tr style=\"text-align: right;\">\n",
       "      <th></th>\n",
       "      <th>name</th>\n",
       "      <th>sex</th>\n",
       "      <th>fold</th>\n",
       "      <th>思</th>\n",
       "      <th>安</th>\n",
       "      <th>佑</th>\n",
       "      <th>誠</th>\n",
       "      <th>乃</th>\n",
       "      <th>馨</th>\n",
       "      <th>婕</th>\n",
       "      <th>...</th>\n",
       "      <th>冠俞</th>\n",
       "      <th>聲</th>\n",
       "      <th>珮庭</th>\n",
       "      <th>翌瑄</th>\n",
       "      <th>迦</th>\n",
       "      <th>勒</th>\n",
       "      <th>迦勒</th>\n",
       "      <th>品嘉</th>\n",
       "      <th>芷妘</th>\n",
       "      <th>_Other_Feature_</th>\n",
       "    </tr>\n",
       "  </thead>\n",
       "  <tbody>\n",
       "    <tr>\n",
       "      <th>0</th>\n",
       "      <td>承憲</td>\n",
       "      <td>1</td>\n",
       "      <td>9</td>\n",
       "      <td>0</td>\n",
       "      <td>0</td>\n",
       "      <td>0</td>\n",
       "      <td>0</td>\n",
       "      <td>0</td>\n",
       "      <td>0</td>\n",
       "      <td>0</td>\n",
       "      <td>...</td>\n",
       "      <td>0</td>\n",
       "      <td>0</td>\n",
       "      <td>0</td>\n",
       "      <td>0</td>\n",
       "      <td>0</td>\n",
       "      <td>0</td>\n",
       "      <td>0</td>\n",
       "      <td>0</td>\n",
       "      <td>0</td>\n",
       "      <td>0</td>\n",
       "    </tr>\n",
       "    <tr>\n",
       "      <th>1</th>\n",
       "      <td>均平</td>\n",
       "      <td>1</td>\n",
       "      <td>7</td>\n",
       "      <td>0</td>\n",
       "      <td>0</td>\n",
       "      <td>0</td>\n",
       "      <td>0</td>\n",
       "      <td>0</td>\n",
       "      <td>0</td>\n",
       "      <td>0</td>\n",
       "      <td>...</td>\n",
       "      <td>0</td>\n",
       "      <td>0</td>\n",
       "      <td>0</td>\n",
       "      <td>0</td>\n",
       "      <td>0</td>\n",
       "      <td>0</td>\n",
       "      <td>0</td>\n",
       "      <td>0</td>\n",
       "      <td>0</td>\n",
       "      <td>1</td>\n",
       "    </tr>\n",
       "    <tr>\n",
       "      <th>2</th>\n",
       "      <td>思安</td>\n",
       "      <td>0</td>\n",
       "      <td>6</td>\n",
       "      <td>1</td>\n",
       "      <td>1</td>\n",
       "      <td>0</td>\n",
       "      <td>0</td>\n",
       "      <td>0</td>\n",
       "      <td>0</td>\n",
       "      <td>0</td>\n",
       "      <td>...</td>\n",
       "      <td>0</td>\n",
       "      <td>0</td>\n",
       "      <td>0</td>\n",
       "      <td>0</td>\n",
       "      <td>0</td>\n",
       "      <td>0</td>\n",
       "      <td>0</td>\n",
       "      <td>0</td>\n",
       "      <td>0</td>\n",
       "      <td>1</td>\n",
       "    </tr>\n",
       "    <tr>\n",
       "      <th>3</th>\n",
       "      <td>佑誠</td>\n",
       "      <td>1</td>\n",
       "      <td>3</td>\n",
       "      <td>0</td>\n",
       "      <td>0</td>\n",
       "      <td>1</td>\n",
       "      <td>1</td>\n",
       "      <td>0</td>\n",
       "      <td>0</td>\n",
       "      <td>0</td>\n",
       "      <td>...</td>\n",
       "      <td>0</td>\n",
       "      <td>0</td>\n",
       "      <td>0</td>\n",
       "      <td>0</td>\n",
       "      <td>0</td>\n",
       "      <td>0</td>\n",
       "      <td>0</td>\n",
       "      <td>0</td>\n",
       "      <td>0</td>\n",
       "      <td>1</td>\n",
       "    </tr>\n",
       "    <tr>\n",
       "      <th>4</th>\n",
       "      <td>乃馨</td>\n",
       "      <td>0</td>\n",
       "      <td>0</td>\n",
       "      <td>0</td>\n",
       "      <td>0</td>\n",
       "      <td>0</td>\n",
       "      <td>0</td>\n",
       "      <td>1</td>\n",
       "      <td>1</td>\n",
       "      <td>0</td>\n",
       "      <td>...</td>\n",
       "      <td>0</td>\n",
       "      <td>0</td>\n",
       "      <td>0</td>\n",
       "      <td>0</td>\n",
       "      <td>0</td>\n",
       "      <td>0</td>\n",
       "      <td>0</td>\n",
       "      <td>0</td>\n",
       "      <td>0</td>\n",
       "      <td>1</td>\n",
       "    </tr>\n",
       "  </tbody>\n",
       "</table>\n",
       "<p>5 rows × 1633 columns</p>\n",
       "</div>"
      ],
      "text/plain": [
       "  name  sex  fold  思  安  佑  誠  乃  馨  婕  ...  冠俞  聲  珮庭  翌瑄  迦  勒  迦勒  品嘉  芷妘  \\\n",
       "0   承憲    1     9  0  0  0  0  0  0  0  ...   0  0   0   0  0  0   0   0   0   \n",
       "1   均平    1     7  0  0  0  0  0  0  0  ...   0  0   0   0  0  0   0   0   0   \n",
       "2   思安    0     6  1  1  0  0  0  0  0  ...   0  0   0   0  0  0   0   0   0   \n",
       "3   佑誠    1     3  0  0  1  1  0  0  0  ...   0  0   0   0  0  0   0   0   0   \n",
       "4   乃馨    0     0  0  0  0  0  1  1  0  ...   0  0   0   0  0  0   0   0   0   \n",
       "\n",
       "   _Other_Feature_  \n",
       "0                0  \n",
       "1                1  \n",
       "2                1  \n",
       "3                1  \n",
       "4                1  \n",
       "\n",
       "[5 rows x 1633 columns]"
      ]
     },
     "execution_count": 11,
     "metadata": {},
     "output_type": "execute_result"
    }
   ],
   "source": [
    "data_with_features.head()"
   ]
  },
  {
   "cell_type": "code",
   "execution_count": 12,
   "metadata": {},
   "outputs": [
    {
     "name": "stdout",
     "output_type": "stream",
     "text": [
      "擁有不在特徵 list 內的 data count: 7948\n"
     ]
    }
   ],
   "source": [
    "print(f\"擁有不在特徵 list 內的 data count: {data_with_features['_Other_Feature_'].sum()}\")"
   ]
  },
  {
   "cell_type": "code",
   "execution_count": 13,
   "metadata": {},
   "outputs": [
    {
     "name": "stdout",
     "output_type": "stream",
     "text": [
      "資料筆數 = 10730\n",
      "X_train shape: (7483, 1630), Y_train shape: (7483,)\n",
      "X_validation shape: (1110, 1630), Y_validation shape: (1110,)\n",
      "X_stacking shape: (1073, 1630), Y_stacking shape: (1073,)\n",
      "X_test shape: (1064, 1630), Y_test shape: (1064,)\n"
     ]
    }
   ],
   "source": [
    "##### split data into train, validation, stacking and test set, and for each set, split data into X and y\n",
    "train_set = data_with_features[data_with_features['fold'] <= 6]\n",
    "validation_set = data_with_features[data_with_features['fold'] == 7]\n",
    "stacking_set = data_with_features[data_with_features['fold'] == 8]\n",
    "test_set = data_with_features[data_with_features['fold'] == 9]\n",
    "\n",
    "# x is feature set, y is sex\n",
    "Y_train = train_set[\"sex\"].to_numpy()\n",
    "X_train = train_set.drop(columns={'sex', 'name', 'fold'}).to_numpy()\n",
    "\n",
    "Y_validation = validation_set[\"sex\"].to_numpy()\n",
    "X_validation = validation_set.drop(columns = {'sex', 'name', 'fold'}).to_numpy()\n",
    "\n",
    "Y_stacking = stacking_set[\"sex\"].to_numpy()\n",
    "X_stacking = stacking_set.drop(columns = {'sex', 'name', 'fold'}).to_numpy()\n",
    "\n",
    "Y_test = test_set[\"sex\"].to_numpy()\n",
    "X_test = test_set.drop(columns = {'sex', 'name', 'fold'}).to_numpy()\n",
    "\n",
    "# print data shape\n",
    "print(\"資料筆數 =\", data_with_features.shape[0])\n",
    "print(f\"X_train shape: {X_train.shape}, Y_train shape: {Y_train.shape}\")\n",
    "print(f\"X_validation shape: {X_validation.shape}, Y_validation shape: {Y_validation.shape}\")\n",
    "print(f\"X_stacking shape: {X_stacking.shape}, Y_stacking shape: {Y_stacking.shape}\")\n",
    "print(f\"X_test shape: {X_test.shape}, Y_test shape: {Y_test.shape}\")"
   ]
  },
  {
   "cell_type": "markdown",
   "metadata": {},
   "source": [
    "#### Q1.2 (10%):\n",
    "使用`sklearn.linear_model.LogisticRegression()`建構Logistic Regression分類模型。利用Training與Validation調教Regularization Coefficient $c$。Grid Search的小值為$10^{-4}$，最大值是$1,000$，總共取20個點，使用等比級數間隔。取F-1 Score最大之Regularization Coefficient，印出此數值(以下稱bestc)。將Training與Validation合併後，令Regularizaiton Coefficient為bestc，訓練最終模型，並報告Test Data的Accuracy, Precision, Recall, 與F-1 Score。另外列出係數絕對值最大的20個特徵。注意應列出未取絕對值的係數數值，方知特徵的性別傾向。討論Prediction Performance與重要特徵的合理性。\n"
   ]
  },
  {
   "cell_type": "markdown",
   "metadata": {},
   "source": [
    "##### use np.logspace to generate regularization coefficient list"
   ]
  },
  {
   "cell_type": "code",
   "execution_count": 14,
   "metadata": {},
   "outputs": [
    {
     "name": "stdout",
     "output_type": "stream",
     "text": [
      "grids length: 20\n",
      "grids are listed below:\n",
      "[1.00000000e-04 2.33572147e-04 5.45559478e-04 1.27427499e-03\n",
      " 2.97635144e-03 6.95192796e-03 1.62377674e-02 3.79269019e-02\n",
      " 8.85866790e-02 2.06913808e-01 4.83293024e-01 1.12883789e+00\n",
      " 2.63665090e+00 6.15848211e+00 1.43844989e+01 3.35981829e+01\n",
      " 7.84759970e+01 1.83298071e+02 4.28133240e+02 1.00000000e+03]\n"
     ]
    }
   ],
   "source": [
    "grids = np.logspace(-4, 3, 20)\n",
    "print(f\"grids length: {len(grids)}\")\n",
    "print(\"grids are listed below:\")\n",
    "print(grids)"
   ]
  },
  {
   "cell_type": "markdown",
   "metadata": {},
   "source": [
    "##### construct logistic regression model and use training data and validation data to tune regularization coefficient"
   ]
  },
  {
   "cell_type": "code",
   "execution_count": 23,
   "metadata": {},
   "outputs": [
    {
     "name": "stdout",
     "output_type": "stream",
     "text": [
      "for C = 0.0001, f1 score = 0.8968779564806055\n",
      "for C = 0.00023357214690901214, f1 score = 0.8968779564806055\n",
      "for C = 0.000545559478116852, f1 score = 0.8968779564806055\n",
      "for C = 0.0012742749857031334, f1 score = 0.8968779564806055\n",
      "for C = 0.002976351441631319, f1 score = 0.8960302457466919\n",
      "for C = 0.0069519279617756054, f1 score = 0.8962264150943396\n",
      "for C = 0.01623776739188721, f1 score = 0.8970727101038716\n",
      "for C = 0.0379269019073225, f1 score = 0.8972667295004714\n",
      "for C = 0.08858667904100823, f1 score = 0.8932955618508026\n",
      "for C = 0.2069138081114788, f1 score = 0.8941398865784499\n",
      "for C = 0.4832930238571752, f1 score = 0.8953817153628653\n",
      "for C = 1.1288378916846884, f1 score = 0.8955785512699905\n",
      "for C = 2.6366508987303554, f1 score = 0.8895184135977338\n",
      "for C = 6.1584821106602545, f1 score = 0.8903591682419659\n",
      "for C = 14.38449888287663, f1 score = 0.8811320754716981\n",
      "for C = 33.59818286283781, f1 score = 0.8748824082784572\n",
      "for C = 78.47599703514607, f1 score = 0.8606635071090047\n",
      "for C = 183.29807108324337, f1 score = 0.8477206595538312\n",
      "for C = 428.1332398719387, f1 score = 0.7825159914712152\n",
      "for C = 1000.0, f1 score = 0.6017925736235595\n",
      "best C = 0.0379269019073225, best f1 score = 0.8972667295004714\n"
     ]
    }
   ],
   "source": [
    "from sklearn.linear_model import LogisticRegression\n",
    "from sklearn.metrics import f1_score\n",
    "\n",
    "# use grid search to find the best C\n",
    "best_score = 0\n",
    "best_C = 0\n",
    "for C in grids:\n",
    "    lr = LogisticRegression(C= 1/C, solver='liblinear')\n",
    "    lr.fit(X_train, Y_train)\n",
    "    # use validation set to evaluate the model, and the score is f1 score\n",
    "    score = f1_score(Y_validation, lr.predict(X_validation))\n",
    "    print(f\"for C = {C}, f1 score = {score}\")\n",
    "    if score > best_score:\n",
    "        best_score = score\n",
    "        best_C = C\n",
    "\n",
    "print(f\"best C = {best_C}, best f1 score = {best_score}\")"
   ]
  },
  {
   "cell_type": "markdown",
   "metadata": {},
   "source": [
    "##### combine training and validation data and use best coefficient to train final model"
   ]
  },
  {
   "cell_type": "code",
   "execution_count": 24,
   "metadata": {},
   "outputs": [
    {
     "data": {
      "text/plain": [
       "LogisticRegression(C=26.36650898730358, solver='liblinear')"
      ]
     },
     "execution_count": 24,
     "metadata": {},
     "output_type": "execute_result"
    }
   ],
   "source": [
    "combine_X = np.concatenate((X_train, X_validation), axis=0)\n",
    "combine_Y = np.concatenate((Y_train, Y_validation), axis=0)\n",
    "\n",
    "final_lr = LogisticRegression(C= 1/best_C, solver='liblinear')\n",
    "final_lr.fit(combine_X, combine_Y)"
   ]
  },
  {
   "cell_type": "markdown",
   "metadata": {},
   "source": [
    "##### report test data accuracy, precision, recall, and f1 score"
   ]
  },
  {
   "cell_type": "code",
   "execution_count": 25,
   "metadata": {},
   "outputs": [
    {
     "name": "stdout",
     "output_type": "stream",
     "text": [
      "test set accuracy = 0.8872180451127819\n",
      "test set precision = 0.8590998043052838\n",
      "test set recall = 0.9014373716632443\n",
      "test set f1 score = 0.8797595190380761\n"
     ]
    }
   ],
   "source": [
    "from sklearn.metrics import accuracy_score, precision_score, recall_score, f1_score\n",
    "\n",
    "# evaluate the test set performance\n",
    "print(f\"test set accuracy = {accuracy_score(Y_test, final_lr.predict(X_test))}\")\n",
    "print(f\"test set precision = {precision_score(Y_test, final_lr.predict(X_test))}\")\n",
    "print(f\"test set recall = {recall_score(Y_test, final_lr.predict(X_test))}\")\n",
    "print(f\"test set f1 score = {f1_score(Y_test, final_lr.predict(X_test))}\")"
   ]
  },
  {
   "cell_type": "markdown",
   "metadata": {},
   "source": [
    "##### comment on prediction performance\n",
    "1. accuracy 約為 0.89 大於 precision，代表模型對於女性的預測可能比男性的預測更準確。\n",
    "2. precision, recall, and f1 score 都有到 0.85 以上，代表這是一個不錯的模型。"
   ]
  },
  {
   "cell_type": "markdown",
   "metadata": {},
   "source": [
    "##### report top 20 important features in order of absolute value and comment on their reasonability"
   ]
  },
  {
   "cell_type": "code",
   "execution_count": 26,
   "metadata": {},
   "outputs": [
    {
     "name": "stdout",
     "output_type": "stream",
     "text": [
      "top 20 features are listed below:\n",
      "傑: 7.1420373162815105\n",
      "妤: -7.067556364556289\n",
      "雯: -6.827482607034987\n",
      "婷: -6.74943791566934\n",
      "萱: -6.7234671602925165\n",
      "潔: -6.609080599788148\n",
      "美: -6.4719437843344005\n",
      "凌: -6.4662938610061955\n",
      "玲: -6.39609222174472\n",
      "森: 6.381644682706813\n",
      "婕: -6.33722703191063\n",
      "靜: -6.335250075094466\n",
      "薇: -6.293572763941084\n",
      "蓉: -6.275507943695144\n",
      "綾: -6.23110250469657\n",
      "姿: -6.2033253294791395\n",
      "琳: -6.104716066404483\n",
      "鋒: 5.94567445151858\n",
      "綺: -5.909817917994277\n",
      "絃: -5.889571853813482\n"
     ]
    }
   ],
   "source": [
    "top20_features = np.abs(final_lr.coef_[0]).argsort()[-20:][::-1]\n",
    "print(f\"top 20 features are listed below:\")\n",
    "for i in top20_features:\n",
    "    print(f\"{feature_token_list[i]}: {final_lr.coef_[0][i]}\")"
   ]
  },
  {
   "cell_type": "markdown",
   "metadata": {},
   "source": [
    "係數為負代表針對擁有這個特徵的名字，模型偏向預測其為女生；係數為正代表針對擁有這個特徵的名字，模型偏向預測其為男生。\n",
    "而根據過往的經驗，擁有負係數的字詞確實很容易判別其為女性；而擁有正係數的字詞則很容易判別其為男性。因此，這些特徵的係數絕對值大小與其性別傾向是相符的。"
   ]
  },
  {
   "cell_type": "markdown",
   "metadata": {},
   "source": [
    "#### Q1.3 (10%):\n",
    "使用`sklearn.ensemble.RandomForestClassifier()`建構Random Forest分類模型。利用Training與Validation調教Number of Tress (i.e., n_estimators)。Grid Search的小值為$5$，最大值是$1,000$，總共取10個點，使用等比級數間隔。取F-1 Score最大之n_estimators，印出此數值(best_nest)。將Training與Validation合併後，令n_estimators為best_nest，訓練最終模型，並報告Test Data的Accuracy, Precision, Recall, 與F-1 Score。另外列出最重要的20個特徵。討論Prediction Performance與重要特徵的合理性。"
   ]
  },
  {
   "cell_type": "markdown",
   "metadata": {},
   "source": [
    "##### use np.logspace to generate n_estimators list"
   ]
  },
  {
   "cell_type": "code",
   "execution_count": 28,
   "metadata": {},
   "outputs": [
    {
     "name": "stdout",
     "output_type": "stream",
     "text": [
      "n_estimators length: 10\n",
      "n_estimators are listed below:\n",
      "[   5    9   16   29   52   94  170  308  555 1000]\n"
     ]
    }
   ],
   "source": [
    "n_estimators = np.logspace(start = np.log10(5), stop = 3, num = 10, base = 10).astype(int)\n",
    "print(f\"n_estimators length: {len(n_estimators)}\")\n",
    "print(\"n_estimators are listed below:\")\n",
    "print(n_estimators)"
   ]
  },
  {
   "cell_type": "markdown",
   "metadata": {},
   "source": [
    "##### construct random forest model and use training data and validation data to tune number of trees"
   ]
  },
  {
   "cell_type": "code",
   "execution_count": 29,
   "metadata": {},
   "outputs": [
    {
     "name": "stdout",
     "output_type": "stream",
     "text": [
      "for n_estimators = 5, f1 score = 0.859047619047619\n",
      "for n_estimators = 9, f1 score = 0.8601532567049809\n",
      "for n_estimators = 16, f1 score = 0.8593301435406698\n",
      "for n_estimators = 29, f1 score = 0.8648648648648649\n",
      "for n_estimators = 52, f1 score = 0.8705656759348035\n",
      "for n_estimators = 94, f1 score = 0.8698955365622033\n",
      "for n_estimators = 170, f1 score = 0.8721374045801528\n",
      "for n_estimators = 308, f1 score = 0.8727272727272727\n",
      "for n_estimators = 555, f1 score = 0.8716475095785441\n",
      "for n_estimators = 1000, f1 score = 0.8669856459330143\n",
      "best n_estimators = 308, best f1 score = 0.8727272727272727\n"
     ]
    }
   ],
   "source": [
    "from sklearn.ensemble import RandomForestClassifier\n",
    "from sklearn.metrics import f1_score\n",
    "# use grid search to find the best n_estimators\n",
    "best_score = 0\n",
    "best_n_estimators = 0\n",
    "for n in n_estimators:\n",
    "    rf = RandomForestClassifier(n_estimators = n)\n",
    "    rf.fit(X_train, Y_train)\n",
    "    # use validation set to evaluate the model, and the score is f1 score\n",
    "    score = f1_score(Y_validation, rf.predict(X_validation))\n",
    "    print(f\"for n_estimators = {n}, f1 score = {score}\")\n",
    "    if score > best_score:\n",
    "        best_score = score\n",
    "        best_n_estimators = n\n",
    "\n",
    "print(f\"best n_estimators = {best_n_estimators}, best f1 score = {best_score}\")\n"
   ]
  },
  {
   "cell_type": "markdown",
   "metadata": {},
   "source": [
    "##### combine training and validation data and use best number of trees to train final model"
   ]
  },
  {
   "cell_type": "code",
   "execution_count": 30,
   "metadata": {},
   "outputs": [
    {
     "data": {
      "text/plain": [
       "RandomForestClassifier(n_estimators=308)"
      ]
     },
     "execution_count": 30,
     "metadata": {},
     "output_type": "execute_result"
    }
   ],
   "source": [
    "final_rf = RandomForestClassifier(n_estimators = best_n_estimators)\n",
    "final_rf.fit(combine_X, combine_Y)"
   ]
  },
  {
   "cell_type": "markdown",
   "metadata": {},
   "source": [
    "##### report test data accuracy, precision, recall, and f1 score and comment on their performance"
   ]
  },
  {
   "cell_type": "code",
   "execution_count": 31,
   "metadata": {},
   "outputs": [
    {
     "name": "stdout",
     "output_type": "stream",
     "text": [
      "test set accuracy = 0.8468045112781954\n",
      "test set precision = 0.8188976377952756\n",
      "test set recall = 0.8542094455852156\n",
      "test set f1 score = 0.8361809045226131\n"
     ]
    }
   ],
   "source": [
    "# evaluate the test set performance\n",
    "print(f\"test set accuracy = {accuracy_score(Y_test, final_rf.predict(X_test))}\")\n",
    "print(f\"test set precision = {precision_score(Y_test, final_rf.predict(X_test))}\")\n",
    "print(f\"test set recall = {recall_score(Y_test, final_rf.predict(X_test))}\")\n",
    "print(f\"test set f1 score = {f1_score(Y_test, final_rf.predict(X_test))}\")"
   ]
  },
  {
   "cell_type": "markdown",
   "metadata": {},
   "source": [
    "1. accuracy 比 precision 高，代表模型對於女性的預測可能比男性的預測更準確。\n",
    "2. f1 score 相較於 logistic regression 的 f1 score 稍微下降，且 precision, recall 也都下降了，代表這個模型的預測能力比 logistic regression 的模型稍微差一些。"
   ]
  },
  {
   "cell_type": "markdown",
   "metadata": {},
   "source": [
    "##### report top 20 important features in order of absolute value and comment on their reasonability"
   ]
  },
  {
   "cell_type": "code",
   "execution_count": 32,
   "metadata": {},
   "outputs": [
    {
     "name": "stdout",
     "output_type": "stream",
     "text": [
      "top 20 features are listed below:\n",
      "妤: 0.018895679061967183\n",
      "翔: 0.015004446655767079\n",
      "萱: 0.014106637029580732\n",
      "柏: 0.013363128664754625\n",
      "婷: 0.012980146949444651\n",
      "怡: 0.009430010094688374\n",
      "哲: 0.008990250669079056\n",
      "雅: 0.008800676496068433\n",
      "蓁: 0.008794504329507265\n",
      "承: 0.00873503152372397\n",
      "佳: 0.008543828503078924\n",
      "芸: 0.008312775017500905\n",
      "_Other_Feature_: 0.00825034636728131\n",
      "晴: 0.008236809262633966\n",
      "芷: 0.008225774303217602\n",
      "柔: 0.008155522624151975\n",
      "宜: 0.008068044086717937\n",
      "庭: 0.007925928246958128\n",
      "涵: 0.007877982172555009\n",
      "瑄: 0.007734829217961242\n"
     ]
    }
   ],
   "source": [
    "top20_features_for_rf = final_rf.feature_importances_.argsort()[-20:][::-1]\n",
    "print(f\"top 20 features are listed below:\")\n",
    "for i in top20_features_for_rf:\n",
    "    print(f\"{feature_token_list[i]}: {final_rf.feature_importances_[i]}\")"
   ]
  },
  {
   "cell_type": "markdown",
   "metadata": {},
   "source": [
    "Random Forest 的 importance score 代表這個特徵對於模型預測能力的重要程度。所以我們會預期 importance 越高的特徵，其在現實世界用於判別性別的能力越強。而這些特徵的 importance score 確實與其在現實世界用於判別性別的能力相符，也就是很容易根據 score 高的特徵來區分男女。"
   ]
  },
  {
   "cell_type": "markdown",
   "metadata": {},
   "source": [
    "#### Q1.4 (10%):\n",
    "使用`sklearn.ensemble.GradientBoostingClassifier()`建構Gradient Boosting Decision Tree (GBDT)分類模型。利用Training與Validation調教learning_rate與n_estimators。考慮以下Learning Rate: 0.1, 0.5, 1。每一個Learning Rate設n_estimator為1,500並估計一個GBDT分類器，計算1,500個Stages下Validation F-1 Score值，繪圖，並找出讓F-1 Score最大的Stage與F-1 Score最大值。對所有Learning Rate重複同樣程序，找出最佳的Learning Rate (稱best_lr) 與其對應的Number of Stages(best_nstg)。將Training與Validation合併後，令learning_rate為best_lr, n_estimators為best_nstg，訓練最終模型，並報告Test Data的Accuracy, Precision, Recall, 與F-1 Score。另外列出最重要的20個特徵。討論Prediction Performance與重要特徵的合理性。"
   ]
  },
  {
   "cell_type": "markdown",
   "metadata": {},
   "source": [
    "##### construct gradient boosting model and use training data and validation data to tune learning rate and number of trees"
   ]
  },
  {
   "cell_type": "code",
   "execution_count": 17,
   "metadata": {},
   "outputs": [
    {
     "name": "stdout",
     "output_type": "stream",
     "text": [
      "for learning rate = 0.1, best stage = 868, best f1 score = 0.904717853839038\n",
      "for learning rate = 0.5, best stage = 231, best f1 score = 0.907563025210084\n",
      "for learning rate = 1, best stage = 134, best f1 score = 0.896551724137931\n",
      "global best learning rate = 0.5, global best stage = 231, global best f1 score = 0.907563025210084\n"
     ]
    }
   ],
   "source": [
    "from sklearn.ensemble import GradientBoostingClassifier\n",
    "\n",
    "learning_rate = [0.1, 0.5, 1]\n",
    "\n",
    "lr_f1_list_dict = {\n",
    "    0.1: [],\n",
    "    0.5: [],\n",
    "    1: []\n",
    "}\n",
    "# for every learning rate, we set n_estimators = 1500 \n",
    "\n",
    "# use grid search to find the best learning rate\n",
    "global_best_score = 0\n",
    "global_best_stage = 0\n",
    "global_best_learning_rate = 0\n",
    "for lr in learning_rate:\n",
    "    best_score_for_current_lr = 0\n",
    "    best_stage_for_current_lr = 0\n",
    "    gb = GradientBoostingClassifier(learning_rate = lr, n_estimators = 1500)\n",
    "    gb.fit(X_train, Y_train)\n",
    "    \n",
    "    # find best stage for each learning rate\n",
    "    for index, y_valid_pred in enumerate(gb.staged_predict(X_validation)):\n",
    "        score = f1_score(Y_validation, y_valid_pred)\n",
    "        lr_f1_list_dict[lr].append(score)\n",
    "        if score > best_score_for_current_lr:\n",
    "            best_score_for_current_lr = score\n",
    "            best_stage_for_current_lr = index\n",
    "        if score > global_best_score:\n",
    "            global_best_score = score\n",
    "            global_best_learning_rate = lr\n",
    "            global_best_stage = best_stage_for_current_lr\n",
    "    print(f\"for learning rate = {lr}, best stage = {best_stage_for_current_lr}, best f1 score = {best_score_for_current_lr}\")\n",
    "\n",
    "print(f\"global best learning rate = {global_best_learning_rate}, global best stage = {global_best_stage}, global best f1 score = {global_best_score}\")"
   ]
  },
  {
   "cell_type": "markdown",
   "metadata": {},
   "source": [
    "##### draw the f1-score curve of validation data for each learning rate"
   ]
  },
  {
   "cell_type": "code",
   "execution_count": 19,
   "metadata": {},
   "outputs": [
    {
     "data": {
      "image/png": "[encoded data removed]",
      "text/plain": [
       "<Figure size 864x576 with 1 Axes>"
      ]
     },
     "metadata": {
      "needs_background": "light"
     },
     "output_type": "display_data"
    }
   ],
   "source": [
    "import matplotlib.pyplot as plt\n",
    "plt.figure(figsize=(12, 8))\n",
    "plt.plot(lr_f1_list_dict[0.1], label = \"learning rate = 0.1\")\n",
    "plt.plot(lr_f1_list_dict[0.5], label = \"learning rate = 0.5\")\n",
    "plt.plot(lr_f1_list_dict[1], label = \"learning rate = 1\")\n",
    "plt.legend()\n",
    "plt.xlabel(\"stage\")\n",
    "plt.ylabel(\"f1 score\")\n",
    "plt.show()"
   ]
  },
  {
   "cell_type": "markdown",
   "metadata": {},
   "source": [
    "best learning rate is 0.5, best stage is 231, and the best f1-score is 0.907563025210084"
   ]
  },
  {
   "cell_type": "markdown",
   "metadata": {},
   "source": [
    "##### combine training and validation data and use best learning rate and number of trees to train final model. Show the performance of test data and comment on it."
   ]
  },
  {
   "cell_type": "code",
   "execution_count": 21,
   "metadata": {},
   "outputs": [
    {
     "name": "stdout",
     "output_type": "stream",
     "text": [
      "test set accuracy = 0.8768796992481203\n",
      "test set precision = 0.8345864661654135\n",
      "test set recall = 0.9117043121149897\n",
      "test set f1 score = 0.8714425907752698\n"
     ]
    }
   ],
   "source": [
    "# combine train and validation set and train the model with the best learning rate and stage\n",
    "from sklearn.metrics import accuracy_score, precision_score, recall_score, f1_score\n",
    "\n",
    "final_gb = GradientBoostingClassifier(learning_rate = global_best_learning_rate, n_estimators = global_best_stage)\n",
    "final_gb.fit(combine_X, combine_Y)\n",
    "\n",
    "# evaluate the test set performance\n",
    "print(f\"test set accuracy = {accuracy_score(Y_test, final_gb.predict(X_test))}\")\n",
    "print(f\"test set precision = {precision_score(Y_test, final_gb.predict(X_test))}\")\n",
    "print(f\"test set recall = {recall_score(Y_test, final_gb.predict(X_test))}\")\n",
    "print(f\"test set f1 score = {f1_score(Y_test, final_gb.predict(X_test))}\")"
   ]
  },
  {
   "cell_type": "markdown",
   "metadata": {},
   "source": [
    "1. accuracy 比 precision 高，代表模型對於女性的預測可能比男性的預測更準確。\n",
    "2. f1 score 與 logistic regression 的 f1 score 幾乎相同，且 precision, recall 也都非常接近，代表這個模型的預測能力與 logistic regression 的模型相當，是個不錯的模型。"
   ]
  },
  {
   "cell_type": "markdown",
   "metadata": {},
   "source": [
    "##### report top 20 important features in order of absolute value and comment on their reasonability"
   ]
  },
  {
   "cell_type": "code",
   "execution_count": 22,
   "metadata": {},
   "outputs": [
    {
     "name": "stdout",
     "output_type": "stream",
     "text": [
      "top 20 features are listed below:\n",
      "妤: 0.02980714761736388\n",
      "翔: 0.021888350121447613\n",
      "萱: 0.02005030135776806\n",
      "柏: 0.01980237959735347\n",
      "婷: 0.01904786130561412\n",
      "哲: 0.013056596270472093\n",
      "承: 0.012688309149128914\n",
      "蓁: 0.012516104907777397\n",
      "怡: 0.01190112550020197\n",
      "晴: 0.011745650094158675\n",
      "柔: 0.011369850093555437\n",
      "雅: 0.011095470265687291\n",
      "涵: 0.010840828618756543\n",
      "宜: 0.0108368716884609\n",
      "佳: 0.010830077040059578\n",
      "芷: 0.010693016530669085\n",
      "芸: 0.01063903477484346\n",
      "慈: 0.010370633278762975\n",
      "瑄: 0.009869143158338893\n",
      "婕: 0.00971326876559622\n"
     ]
    }
   ],
   "source": [
    "# find the top 20 features for gradient boosting model\n",
    "top20_features_for_gb = final_gb.feature_importances_.argsort()[-20:][::-1]\n",
    "print(f\"top 20 features are listed below:\")\n",
    "for i in top20_features_for_gb:\n",
    "    print(f\"{feature_token_list[i]}: {final_gb.feature_importances_[i]}\")\n",
    "    "
   ]
  },
  {
   "cell_type": "markdown",
   "metadata": {},
   "source": [
    "與 Random Forest 概念類似，Gradient Boosting 的 importance score 也反映這個特徵對於模型預測能力的重要程度。所以我們會預期 importance 越高的特徵，其在現實世界用於判別性別的能力越強。而透過上方條列的這些特徵，其 importance score 確實與其在現實世界用於判別性別的能力相符，也就是很容易根據 score 高的特徵來區分男女。"
   ]
  },
  {
   "cell_type": "markdown",
   "metadata": {},
   "source": [
    "#### Q1.5 (10%):\n",
    "取用前面所建構的Logistic Regression, Random Forest, 與Gradient Boosting Decision Tree, 組合(Stacking)成一個新的分類器。我們使用Logistic Regression without Penalty建構這個Stacking分類器。訓練資料為Stacking資料集。各分類器輸入的特徵為男生預測機率(注意: 不是分類結果)。列出Stacking分類器的係數，討論係數的意義，並計算這個Stacking分類器在Test資料集的預測能力。"
   ]
  },
  {
   "cell_type": "markdown",
   "metadata": {},
   "source": [
    "##### construct a stacking model using logistic regression without penalty. Show the coefficients of logistic regression stacking classifier and comment on it."
   ]
  },
  {
   "cell_type": "code",
   "execution_count": 40,
   "metadata": {},
   "outputs": [
    {
     "name": "stdout",
     "output_type": "stream",
     "text": [
      "coefficient of the logistic regression model = [[ 2.55639626 -0.07958292  5.56376362]]\n"
     ]
    }
   ],
   "source": [
    "# use previous learned models to construct a stacking model, and do not use ensemble.StackingClassifier\n",
    "# input contains three columns, each column is the output of the class 1 probability of  previous learned models (lr, rf, gb)\n",
    "# output is the class 1 probability of the stacking model\n",
    "\n",
    "stacking_input = np.concatenate((\n",
    "    final_lr.predict_proba(X_stacking)[:, 1].reshape(-1, 1), \n",
    "    final_rf.predict_proba(X_stacking)[:, 1].reshape(-1, 1), \n",
    "    final_gb.predict_proba(X_stacking)[:, 1].reshape(-1, 1)), \n",
    "    axis = 1\n",
    ")\n",
    "stack_classifier = LogisticRegression(penalty = \"none\")\n",
    "stack_classifier.fit(stacking_input, Y_stacking)\n",
    "\n",
    "# coefficient of the logistic regression model\n",
    "print(f\"coefficient of the logistic regression model = {stack_classifier.coef_}\")"
   ]
  },
  {
   "cell_type": "markdown",
   "metadata": {},
   "source": [
    "從 stacking classifier 的係數可以看出， gradient boosting 的係數最大，代表 gradient boosting 預測能力對於 output 的影響最大。而 random forest 的係數最小，代表 random forest 預測能力對於 output 的影響最小。"
   ]
  },
  {
   "cell_type": "code",
   "execution_count": 41,
   "metadata": {},
   "outputs": [
    {
     "name": "stdout",
     "output_type": "stream",
     "text": [
      "test set accuracy = 0.8862781954887218\n",
      "test set precision = 0.8546511627906976\n",
      "test set recall = 0.9055441478439425\n",
      "test set f1 score = 0.8793619142572283\n"
     ]
    }
   ],
   "source": [
    "# evaluate the test set performance\n",
    "x_prob_test = np.concatenate((\n",
    "    final_lr.predict_proba(X_test)[:, 1].reshape(-1, 1), \n",
    "    final_rf.predict_proba(X_test)[:, 1].reshape(-1, 1), \n",
    "    final_gb.predict_proba(X_test)[:, 1].reshape(-1, 1)), \n",
    "    axis = 1\n",
    ")\n",
    "print(f\"test set accuracy = {accuracy_score(Y_test, stack_classifier.predict(x_prob_test))}\")\n",
    "print(f\"test set precision = {precision_score(Y_test, stack_classifier.predict(x_prob_test))}\")\n",
    "print(f\"test set recall = {recall_score(Y_test, stack_classifier.predict(x_prob_test))}\")\n",
    "print(f\"test set f1 score = {f1_score(Y_test, stack_classifier.predict(x_prob_test))}\")\n"
   ]
  },
  {
   "cell_type": "markdown",
   "metadata": {},
   "source": [
    "可以看到 stacking classifier 的 performance 與 logistic regression 的 accuracy 相當，而在 recall 上則是比 logistic regression 高，代表 stacking classifier 的表現是不錯的"
   ]
  },
  {
   "cell_type": "markdown",
   "metadata": {},
   "source": [
    "## 第二題 [Data Visualization via Dimensionality Reduction]\n",
    "\n",
    "Data visualization is a useful technique that can help us understand the characteristics of a dataset. We are going to practice this skill using the  University Offer of Admission Dataset (UDOAD).  \n",
    "\n",
    "#### Dataset: University Department Offer of Admission Dataset (UDOAD; 大學推薦甄選資料集)\n",
    "\n",
    "Many high school students get admitted to universities through an application and screening process that requires each university department to offer admission to applicants first before students can choose where they want to go. Suppose we think of applicants as the customers of an academic department. In that case, the duplications of offered applicants from different departments can be used to understand the competitive relationships between academic departments. We are going to visualize this competition relationship using UDOAD. \n",
    "\n",
    "UDOAD was collected through a popular online offer searching service (https://freshman.tw/; site no longer operational) for the 2017 academic year. We collected the offers received by each applicant as well as the basic information for academic departments. This dataset contains two files\n",
    "* student_admission106.csv: the offers received by each student applicant. \n",
    "* univ_name106short1.csv: the basic information, such as the name and field of academic departments. \n",
    "\n",
    "Below is the first few records of these two files:"
   ]
  },
  {
   "cell_type": "code",
   "execution_count": 133,
   "metadata": {},
   "outputs": [
    {
     "name": "stdout",
     "output_type": "stream",
     "text": [
      "There are 60461 students and 1976 departments in total.\n",
      "offers received by students:\n"
     ]
    },
    {
     "data": {
      "text/html": [
       "<div>\n",
       "<style scoped>\n",
       "    .dataframe tbody tr th:only-of-type {\n",
       "        vertical-align: middle;\n",
       "    }\n",
       "\n",
       "    .dataframe tbody tr th {\n",
       "        vertical-align: top;\n",
       "    }\n",
       "\n",
       "    .dataframe thead th {\n",
       "        text-align: right;\n",
       "    }\n",
       "</style>\n",
       "<table border=\"1\" class=\"dataframe\">\n",
       "  <thead>\n",
       "    <tr style=\"text-align: right;\">\n",
       "      <th></th>\n",
       "      <th>school_id</th>\n",
       "      <th>department_id</th>\n",
       "      <th>student_id</th>\n",
       "      <th>student_name</th>\n",
       "      <th>state</th>\n",
       "      <th>location1</th>\n",
       "      <th>location2</th>\n",
       "    </tr>\n",
       "  </thead>\n",
       "  <tbody>\n",
       "    <tr>\n",
       "      <th>0</th>\n",
       "      <td>001</td>\n",
       "      <td>001012</td>\n",
       "      <td>10246842</td>\n",
       "      <td>黃士玹</td>\n",
       "      <td>正1</td>\n",
       "      <td>南部</td>\n",
       "      <td>台南考區</td>\n",
       "    </tr>\n",
       "    <tr>\n",
       "      <th>1</th>\n",
       "      <td>001</td>\n",
       "      <td>001012</td>\n",
       "      <td>10042237</td>\n",
       "      <td>黃冠婷</td>\n",
       "      <td>正2</td>\n",
       "      <td>北部</td>\n",
       "      <td>台北考區</td>\n",
       "    </tr>\n",
       "    <tr>\n",
       "      <th>2</th>\n",
       "      <td>001</td>\n",
       "      <td>001012</td>\n",
       "      <td>10008031</td>\n",
       "      <td>鍾大方</td>\n",
       "      <td>正3</td>\n",
       "      <td>北部</td>\n",
       "      <td>台北考區</td>\n",
       "    </tr>\n",
       "    <tr>\n",
       "      <th>3</th>\n",
       "      <td>001</td>\n",
       "      <td>001012</td>\n",
       "      <td>10201525</td>\n",
       "      <td>曾信豪</td>\n",
       "      <td>正4</td>\n",
       "      <td>中部</td>\n",
       "      <td>彰化考區</td>\n",
       "    </tr>\n",
       "    <tr>\n",
       "      <th>4</th>\n",
       "      <td>001</td>\n",
       "      <td>001012</td>\n",
       "      <td>10014615</td>\n",
       "      <td>陳品儒</td>\n",
       "      <td>正5</td>\n",
       "      <td>北部</td>\n",
       "      <td>台北考區</td>\n",
       "    </tr>\n",
       "    <tr>\n",
       "      <th>5</th>\n",
       "      <td>001</td>\n",
       "      <td>001012</td>\n",
       "      <td>10294018</td>\n",
       "      <td>侯思筠</td>\n",
       "      <td>正6</td>\n",
       "      <td>東部</td>\n",
       "      <td>宜蘭考區</td>\n",
       "    </tr>\n",
       "    <tr>\n",
       "      <th>6</th>\n",
       "      <td>001</td>\n",
       "      <td>001012</td>\n",
       "      <td>10022810</td>\n",
       "      <td>吳悅慈</td>\n",
       "      <td>正7</td>\n",
       "      <td>北部</td>\n",
       "      <td>台北考區</td>\n",
       "    </tr>\n",
       "    <tr>\n",
       "      <th>7</th>\n",
       "      <td>001</td>\n",
       "      <td>001012</td>\n",
       "      <td>10236223</td>\n",
       "      <td>陳俞潔</td>\n",
       "      <td>正8</td>\n",
       "      <td>南部</td>\n",
       "      <td>台南考區</td>\n",
       "    </tr>\n",
       "    <tr>\n",
       "      <th>8</th>\n",
       "      <td>001</td>\n",
       "      <td>001012</td>\n",
       "      <td>10025909</td>\n",
       "      <td>蕭宇廷</td>\n",
       "      <td>正9</td>\n",
       "      <td>北部</td>\n",
       "      <td>台北考區</td>\n",
       "    </tr>\n",
       "    <tr>\n",
       "      <th>9</th>\n",
       "      <td>001</td>\n",
       "      <td>001012</td>\n",
       "      <td>10123708</td>\n",
       "      <td>吳岱軒</td>\n",
       "      <td>正10</td>\n",
       "      <td>北部</td>\n",
       "      <td>中壢考區</td>\n",
       "    </tr>\n",
       "  </tbody>\n",
       "</table>\n",
       "</div>"
      ],
      "text/plain": [
       "  school_id department_id student_id student_name state location1 location2\n",
       "0       001        001012   10246842          黃士玹    正1        南部      台南考區\n",
       "1       001        001012   10042237          黃冠婷    正2        北部      台北考區\n",
       "2       001        001012   10008031          鍾大方    正3        北部      台北考區\n",
       "3       001        001012   10201525          曾信豪    正4        中部      彰化考區\n",
       "4       001        001012   10014615          陳品儒    正5        北部      台北考區\n",
       "5       001        001012   10294018          侯思筠    正6        東部      宜蘭考區\n",
       "6       001        001012   10022810          吳悅慈    正7        北部      台北考區\n",
       "7       001        001012   10236223          陳俞潔    正8        南部      台南考區\n",
       "8       001        001012   10025909          蕭宇廷    正9        北部      台北考區\n",
       "9       001        001012   10123708          吳岱軒   正10        北部      中壢考區"
      ]
     },
     "execution_count": 133,
     "metadata": {},
     "output_type": "execute_result"
    }
   ],
   "source": [
    "%matplotlib inline\n",
    "import matplotlib.pyplot as plt\n",
    "import numpy as np\n",
    "import pandas as pd\n",
    "\n",
    "stu_adm = pd.read_csv('ds/student_admission106.csv', encoding=\"utf-8\", dtype=str)\n",
    "uname = pd.read_csv('ds/univ_name106short1.csv', encoding=\"utf-8\", dtype=str)\n",
    "\n",
    "all_depid = stu_adm['department_id'].unique()\n",
    "all_stuid = stu_adm['student_id'].unique()\n",
    "\n",
    "ndepid = all_depid.shape[0]\n",
    "nstuid = all_stuid.shape[0]\n",
    "print(\"There are %d students and %d departments in total.\" % (nstuid, ndepid))\n",
    "\n",
    "print(\"offers received by students:\")\n",
    "stu_adm.head(10)"
   ]
  },
  {
   "cell_type": "markdown",
   "metadata": {},
   "source": [
    "The department_id can uniquely identify an academic department. We do not care about the ranking of admission here, and you should ignore the \"state\" column. We only care about the \"co-application\" relations in this dataset. You should use student_id to identify a student applicant uniquely. "
   ]
  },
  {
   "cell_type": "code",
   "execution_count": 134,
   "metadata": {},
   "outputs": [
    {
     "name": "stdout",
     "output_type": "stream",
     "text": [
      "academic department basic information:\n"
     ]
    },
    {
     "data": {
      "text/html": [
       "<div>\n",
       "<style scoped>\n",
       "    .dataframe tbody tr th:only-of-type {\n",
       "        vertical-align: middle;\n",
       "    }\n",
       "\n",
       "    .dataframe tbody tr th {\n",
       "        vertical-align: top;\n",
       "    }\n",
       "\n",
       "    .dataframe thead th {\n",
       "        text-align: right;\n",
       "    }\n",
       "</style>\n",
       "<table border=\"1\" class=\"dataframe\">\n",
       "  <thead>\n",
       "    <tr style=\"text-align: right;\">\n",
       "      <th></th>\n",
       "      <th>year</th>\n",
       "      <th>school_id</th>\n",
       "      <th>department_id</th>\n",
       "      <th>school_name</th>\n",
       "      <th>department_name</th>\n",
       "      <th>category_id</th>\n",
       "      <th>category_name</th>\n",
       "      <th>school_name_abbr</th>\n",
       "      <th>department_name_abbr</th>\n",
       "    </tr>\n",
       "  </thead>\n",
       "  <tbody>\n",
       "    <tr>\n",
       "      <th>0</th>\n",
       "      <td>106</td>\n",
       "      <td>006</td>\n",
       "      <td>006042</td>\n",
       "      <td>國立政治大學</td>\n",
       "      <td>教育學系</td>\n",
       "      <td>1</td>\n",
       "      <td>教育</td>\n",
       "      <td>政大</td>\n",
       "      <td>教育</td>\n",
       "    </tr>\n",
       "    <tr>\n",
       "      <th>1</th>\n",
       "      <td>106</td>\n",
       "      <td>006</td>\n",
       "      <td>006052</td>\n",
       "      <td>國立政治大學</td>\n",
       "      <td>教育學系(公費生)</td>\n",
       "      <td>1</td>\n",
       "      <td>教育</td>\n",
       "      <td>政大</td>\n",
       "      <td>教育(公)</td>\n",
       "    </tr>\n",
       "    <tr>\n",
       "      <th>2</th>\n",
       "      <td>106</td>\n",
       "      <td>006</td>\n",
       "      <td>006062</td>\n",
       "      <td>國立政治大學</td>\n",
       "      <td>教育學系(原住民公費生)</td>\n",
       "      <td>1</td>\n",
       "      <td>教育</td>\n",
       "      <td>政大</td>\n",
       "      <td>教育(原住民)</td>\n",
       "    </tr>\n",
       "    <tr>\n",
       "      <th>3</th>\n",
       "      <td>106</td>\n",
       "      <td>006</td>\n",
       "      <td>006022</td>\n",
       "      <td>國立政治大學</td>\n",
       "      <td>歷史學系</td>\n",
       "      <td>2</td>\n",
       "      <td>藝術及人文</td>\n",
       "      <td>政大</td>\n",
       "      <td>歷史</td>\n",
       "    </tr>\n",
       "    <tr>\n",
       "      <th>4</th>\n",
       "      <td>106</td>\n",
       "      <td>006</td>\n",
       "      <td>006152</td>\n",
       "      <td>國立政治大學</td>\n",
       "      <td>民族學系</td>\n",
       "      <td>2</td>\n",
       "      <td>藝術及人文</td>\n",
       "      <td>政大</td>\n",
       "      <td>民族學</td>\n",
       "    </tr>\n",
       "    <tr>\n",
       "      <th>5</th>\n",
       "      <td>106</td>\n",
       "      <td>006</td>\n",
       "      <td>006032</td>\n",
       "      <td>國立政治大學</td>\n",
       "      <td>哲學系</td>\n",
       "      <td>2</td>\n",
       "      <td>藝術及人文</td>\n",
       "      <td>政大</td>\n",
       "      <td>哲學</td>\n",
       "    </tr>\n",
       "    <tr>\n",
       "      <th>6</th>\n",
       "      <td>106</td>\n",
       "      <td>006</td>\n",
       "      <td>006262</td>\n",
       "      <td>國立政治大學</td>\n",
       "      <td>英國語文學系</td>\n",
       "      <td>2</td>\n",
       "      <td>藝術及人文</td>\n",
       "      <td>政大</td>\n",
       "      <td>英國語文</td>\n",
       "    </tr>\n",
       "    <tr>\n",
       "      <th>7</th>\n",
       "      <td>106</td>\n",
       "      <td>006</td>\n",
       "      <td>006292</td>\n",
       "      <td>國立政治大學</td>\n",
       "      <td>日本語文學系</td>\n",
       "      <td>2</td>\n",
       "      <td>藝術及人文</td>\n",
       "      <td>政大</td>\n",
       "      <td>日本語文</td>\n",
       "    </tr>\n",
       "    <tr>\n",
       "      <th>8</th>\n",
       "      <td>106</td>\n",
       "      <td>006</td>\n",
       "      <td>006272</td>\n",
       "      <td>國立政治大學</td>\n",
       "      <td>阿拉伯語文學系</td>\n",
       "      <td>2</td>\n",
       "      <td>藝術及人文</td>\n",
       "      <td>政大</td>\n",
       "      <td>阿拉伯語文</td>\n",
       "    </tr>\n",
       "    <tr>\n",
       "      <th>9</th>\n",
       "      <td>106</td>\n",
       "      <td>006</td>\n",
       "      <td>006302</td>\n",
       "      <td>國立政治大學</td>\n",
       "      <td>韓國語文學系</td>\n",
       "      <td>2</td>\n",
       "      <td>藝術及人文</td>\n",
       "      <td>政大</td>\n",
       "      <td>韓國語文</td>\n",
       "    </tr>\n",
       "  </tbody>\n",
       "</table>\n",
       "</div>"
      ],
      "text/plain": [
       "  year school_id department_id school_name department_name category_id  \\\n",
       "0  106       006        006042      國立政治大學            教育學系           1   \n",
       "1  106       006        006052      國立政治大學       教育學系(公費生)           1   \n",
       "2  106       006        006062      國立政治大學    教育學系(原住民公費生)           1   \n",
       "3  106       006        006022      國立政治大學            歷史學系           2   \n",
       "4  106       006        006152      國立政治大學            民族學系           2   \n",
       "5  106       006        006032      國立政治大學             哲學系           2   \n",
       "6  106       006        006262      國立政治大學          英國語文學系           2   \n",
       "7  106       006        006292      國立政治大學          日本語文學系           2   \n",
       "8  106       006        006272      國立政治大學         阿拉伯語文學系           2   \n",
       "9  106       006        006302      國立政治大學          韓國語文學系           2   \n",
       "\n",
       "  category_name school_name_abbr department_name_abbr  \n",
       "0            教育               政大                   教育  \n",
       "1            教育               政大                教育(公)  \n",
       "2            教育               政大              教育(原住民)  \n",
       "3         藝術及人文               政大                   歷史  \n",
       "4         藝術及人文               政大                  民族學  \n",
       "5         藝術及人文               政大                   哲學  \n",
       "6         藝術及人文               政大                 英國語文  \n",
       "7         藝術及人文               政大                 日本語文  \n",
       "8         藝術及人文               政大                阿拉伯語文  \n",
       "9         藝術及人文               政大                 韓國語文  "
      ]
     },
     "execution_count": 134,
     "metadata": {},
     "output_type": "execute_result"
    }
   ],
   "source": [
    "print(\"academic department basic information:\")\n",
    "uname.head(10)"
   ]
  },
  {
   "cell_type": "markdown",
   "metadata": {},
   "source": [
    "You can use this dataset to identify the name of a department_id. The school_name and department_name contain the \"full name\" of an academic department. To facilitate visualization, we also provide \"shorter names\" in school_name_abbr and department_name_abbr. The category_name is the field of an academic department. This field is essential in our visualization exercise since you should color each data point according to its category_name. "
   ]
  },
  {
   "cell_type": "markdown",
   "metadata": {},
   "source": [
    "#### Implementation Restrictions\n",
    "You are allowed to use any Python libraries in your solution. "
   ]
  },
  {
   "cell_type": "markdown",
   "metadata": {},
   "source": [
    "### Data Preparation\n",
    "Our focus is on the relationships between departments. To do this, we need to convert the raw data into a \"matrix\" representation. Each row represents an academic department, and each column represents a student applicant. The cell's value is one if a student applied for admission to the corresponding academic department, and 0 otherwise. \n",
    "\n",
    "To avoid potential numerical problems, we only include an academic department if it received ten or more applications. Moreover, we only include a student applicant if he or she applied for more than one academic department. \n",
    "\n",
    "Note that the two conditions should be satisfied \"as is\" in after preprocessing. For example, suppose a student applied for two departments in the original dataset, and one of the departments was removed. In that case, this student should be removed because the student only applied for one department in the processed dataset. \n",
    "\n"
   ]
  },
  {
   "cell_type": "code",
   "execution_count": 135,
   "metadata": {},
   "outputs": [
    {
     "name": "stdout",
     "output_type": "stream",
     "text": [
      "In raw data, there are 60461 students and 1976 departments in total.\n",
      "Number of department too small: 0\n",
      "Number of students applying only one department: 0\n"
     ]
    }
   ],
   "source": [
    "%matplotlib inline\n",
    "import numpy as np\n",
    "import pandas as pd\n",
    "\n",
    "stu_adm = pd.read_csv('ds/student_admission106.csv', encoding=\"utf-8\", dtype=str)\n",
    "uname = pd.read_csv('ds/univ_name106short1.csv', encoding=\"utf-8\", dtype=str)\n",
    "\n",
    "all_depid = stu_adm['department_id'].unique()\n",
    "all_stuid = stu_adm['student_id'].unique()\n",
    "\n",
    "ndepid = all_depid.shape[0]\n",
    "nstuid = all_stuid.shape[0]\n",
    "print(\"In raw data, there are %d students and %d departments in total.\" % (nstuid, ndepid))\n",
    "\n",
    "#construct the department-student matrix (i.e. array). \n",
    "dep_stu = np.zeros((ndepid, nstuid))\n",
    "rowname = all_depid.copy()\n",
    "\n",
    "depid_seq_map = dict()\n",
    "for i in range(ndepid):\n",
    "    depid_seq_map[all_depid[i]] = i\n",
    "\n",
    "stuid_seq_map = dict()\n",
    "for i in range(nstuid):\n",
    "    stuid_seq_map[all_stuid[i]] = i\n",
    "\n",
    "for cindex, row in stu_adm.iterrows():\n",
    "    #print(cindex, row)\n",
    "    dep_seq = depid_seq_map[row['department_id']]\n",
    "    stu_seq = stuid_seq_map[row['student_id']]\n",
    "    #print(dep_seq, stu_seq)\n",
    "    dep_stu[dep_seq, stu_seq] = 1\n",
    "\n",
    "#Remove very small departments.\n",
    "min_stu_per_dep = 10\n",
    "min_apply_dep_per_stu = 2\n",
    "\n",
    "#remove small departments and single-application students. \n",
    "dep_apply_sum = np.sum(dep_stu, axis = 1)\n",
    "keeprow = dep_apply_sum >= min_stu_per_dep\n",
    "rowname = rowname[keeprow]\n",
    "dep_stu2 = dep_stu[keeprow,:]\n",
    "stu_apply_sum = np.sum(dep_stu2, axis = 0)\n",
    "dep_stu2 = dep_stu2[:, stu_apply_sum >= min_apply_dep_per_stu]\n",
    "\n",
    "#another run of filtering\n",
    "dep_apply_sum = np.sum(dep_stu2, axis = 1)\n",
    "dep_stu2 = dep_stu2[dep_apply_sum >= min_stu_per_dep,:]\n",
    "rowname = rowname[dep_apply_sum >= min_stu_per_dep]\n",
    "stu_apply_sum = np.sum(dep_stu2, axis = 0)\n",
    "dep_stu2 = dep_stu2[:, stu_apply_sum >= min_apply_dep_per_stu]\n",
    "\n",
    "#third run of filtering\n",
    "dep_apply_sum = np.sum(dep_stu2, axis = 1)\n",
    "dep_stu2 = dep_stu2[dep_apply_sum >= min_stu_per_dep,:]\n",
    "rowname = rowname[dep_apply_sum >= min_stu_per_dep]\n",
    "\n",
    "stu_apply_sum = np.sum(dep_stu2, axis = 0)\n",
    "dep_stu2 = dep_stu2[:, stu_apply_sum >= min_apply_dep_per_stu]\n",
    "\n",
    "#check to make sure the two conditions are satisfied. \n",
    "dep_apply_sum = np.sum(dep_stu2, axis = 1)\n",
    "print(\"Number of department too small:\", np.sum(dep_apply_sum < min_stu_per_dep))\n",
    "stu_apply_sum = np.sum(dep_stu2, axis = 0)\n",
    "print(\"Number of students applying only one department:\", np.sum(stu_apply_sum <min_apply_dep_per_stu))\n",
    "\n",
    "#now both conditions are satisfied."
   ]
  },
  {
   "cell_type": "markdown",
   "metadata": {},
   "source": [
    "Report the number of academic departments and student applicants in the processed dataset: "
   ]
  },
  {
   "cell_type": "code",
   "execution_count": 136,
   "metadata": {},
   "outputs": [
    {
     "name": "stdout",
     "output_type": "stream",
     "text": [
      "In final dataset, there are 1917 academic departments and 47386 student applicants.\n"
     ]
    }
   ],
   "source": [
    "num_dep, num_stu = dep_stu2.shape\n",
    "print(\"In final dataset, there are\", num_dep, \"academic departments and\", num_stu, \"student applicants.\")"
   ]
  },
  {
   "cell_type": "markdown",
   "metadata": {},
   "source": [
    "Report the top ten departments that received the most applications and the number of applications they received:"
   ]
  },
  {
   "cell_type": "code",
   "execution_count": 137,
   "metadata": {},
   "outputs": [],
   "source": [
    "uname['depname'] = uname.school_name_abbr + uname.department_name_abbr\n",
    "uname2 = uname[['department_id', 'depname', 'category_name']].copy()\n",
    "#this is for later use, to color data points. \n",
    "category_id, category_levels = pd.factorize(uname2.category_name)\n",
    "#uname2['category_id'] = category_id / np.max(category_id)\n",
    "uname2['category_id'] = category_id\n",
    "\n",
    "#create a data frame for column name\n",
    "colname_df = pd.DataFrame({'department_id': rowname})\n",
    "colname_df = colname_df.merge(uname2, how = \"left\", on=\"department_id\")"
   ]
  },
  {
   "cell_type": "code",
   "execution_count": 138,
   "metadata": {},
   "outputs": [
    {
     "data": {
      "text/html": [
       "<div>\n",
       "<style scoped>\n",
       "    .dataframe tbody tr th:only-of-type {\n",
       "        vertical-align: middle;\n",
       "    }\n",
       "\n",
       "    .dataframe tbody tr th {\n",
       "        vertical-align: top;\n",
       "    }\n",
       "\n",
       "    .dataframe thead th {\n",
       "        text-align: right;\n",
       "    }\n",
       "</style>\n",
       "<table border=\"1\" class=\"dataframe\">\n",
       "  <thead>\n",
       "    <tr style=\"text-align: right;\">\n",
       "      <th></th>\n",
       "      <th>department_id</th>\n",
       "      <th>department_name</th>\n",
       "      <th>num_applicant</th>\n",
       "    </tr>\n",
       "  </thead>\n",
       "  <tbody>\n",
       "    <tr>\n",
       "      <th>0</th>\n",
       "      <td>008122</td>\n",
       "      <td>中原機械工程學</td>\n",
       "      <td>386.0</td>\n",
       "    </tr>\n",
       "    <tr>\n",
       "      <th>1</th>\n",
       "      <td>012052</td>\n",
       "      <td>中醫藥學</td>\n",
       "      <td>376.0</td>\n",
       "    </tr>\n",
       "    <tr>\n",
       "      <th>2</th>\n",
       "      <td>046032</td>\n",
       "      <td>銘傳會計（臺北）</td>\n",
       "      <td>367.0</td>\n",
       "    </tr>\n",
       "    <tr>\n",
       "      <th>3</th>\n",
       "      <td>004382</td>\n",
       "      <td>成大電機</td>\n",
       "      <td>357.0</td>\n",
       "    </tr>\n",
       "    <tr>\n",
       "      <th>4</th>\n",
       "      <td>005192</td>\n",
       "      <td>東吳企業管理</td>\n",
       "      <td>353.0</td>\n",
       "    </tr>\n",
       "    <tr>\n",
       "      <th>5</th>\n",
       "      <td>008112</td>\n",
       "      <td>中原土木</td>\n",
       "      <td>353.0</td>\n",
       "    </tr>\n",
       "    <tr>\n",
       "      <th>6</th>\n",
       "      <td>005182</td>\n",
       "      <td>東吳會計</td>\n",
       "      <td>351.0</td>\n",
       "    </tr>\n",
       "    <tr>\n",
       "      <th>7</th>\n",
       "      <td>015342</td>\n",
       "      <td>逢甲財金</td>\n",
       "      <td>340.0</td>\n",
       "    </tr>\n",
       "    <tr>\n",
       "      <th>8</th>\n",
       "      <td>045012</td>\n",
       "      <td>義守電機</td>\n",
       "      <td>339.0</td>\n",
       "    </tr>\n",
       "    <tr>\n",
       "      <th>9</th>\n",
       "      <td>046162</td>\n",
       "      <td>銘傳應用英語（桃園）</td>\n",
       "      <td>329.0</td>\n",
       "    </tr>\n",
       "  </tbody>\n",
       "</table>\n",
       "</div>"
      ],
      "text/plain": [
       "  department_id department_name  num_applicant\n",
       "0        008122         中原機械工程學          386.0\n",
       "1        012052            中醫藥學          376.0\n",
       "2        046032        銘傳會計（臺北）          367.0\n",
       "3        004382            成大電機          357.0\n",
       "4        005192          東吳企業管理          353.0\n",
       "5        008112            中原土木          353.0\n",
       "6        005182            東吳會計          351.0\n",
       "7        015342            逢甲財金          340.0\n",
       "8        045012            義守電機          339.0\n",
       "9        046162      銘傳應用英語（桃園）          329.0"
      ]
     },
     "execution_count": 138,
     "metadata": {},
     "output_type": "execute_result"
    }
   ],
   "source": [
    "topdepid = np.argsort(dep_apply_sum)[::-1]\n",
    "topn = 10\n",
    "topdep = pd.DataFrame({'department_id': rowname[topdepid[0:topn]], \n",
    "                       'department_name': colname_df.depname.values[topdepid[0:topn]],\n",
    "                       'num_applicant': dep_apply_sum[topdepid[0:topn]]\n",
    "                       }) \n",
    "topdep"
   ]
  },
  {
   "cell_type": "markdown",
   "metadata": {},
   "source": [
    "### Answer the following questions\n",
    "Visualize academic departments in the following questions. In all plots, you should color data points according to the academic department's category. Moreover, you should provide a legend or a picture that illustrates the mapping between colors and category names. Visualize the data using two-dimensional plots. Note that it is your responsibility to study the documentation of your choice libraries and make sure that the results are reasonable. \n",
    "* Q2.1 (10%): Visualize academic departments using the first eight principal components. Use your judgment to select multiple pairs of principal components to visualize. Discuss the visual patterns concerning department categories. \n",
    "* Q2.2 (10%): Visualize academic departments using multiple dimensional scaling. Consider both the metric and non-metric settings. Discuss the result. \n",
    "* Q2.3 (10%): Visualize academic departments using Locally Linear Embedding. Consider three variations: (1) Use 20 neighbors to construct the weight matrix; (2) Use 40 neighbors to construct the weight matrix; (3) Perform PCA transformation first, and use the first 100 principal components as the input to LLE (with 20 neighbors). Discuss the result. \n",
    "* Q2.4 (10%): Visualize academic departments using Kernel PCA. You should at least consider the RBF and Cosine kernel. It is your responsibility to select reasonably good kernel parameters. Discuss the result. \n",
    "* Q2.5 (10%): Visualize academic departments using t-SNE. You should consider at least the Euclidian, Cosine, and Jaccard metric. Set numpy random seed so that your results can be repeated. Discuss the result. \n",
    "* Q2.6 (10%) Select the most promising visualization method in the previous question and refine the result. You should color points by department category. Label each data point with its name so that we can quickly identify a data point on the picture. Moreover, you should try to reduce the problem caused by overlapping points and labels. Output an image that is large enough so that a user can easily identify a department and its neighbors. Jupyter Lab has limitations on the largest picture size. To overcome this problem, output the picture to a separate file and submit the file for grading. Your score depends on how useful, readable, and visually pleasing of your visualization results. "
   ]
  },
  {
   "cell_type": "markdown",
   "metadata": {},
   "source": [
    "---\n",
    "### Solution\n",
    "---\n",
    "\n",
    "Add cells below and answer the questions below."
   ]
  },
  {
   "cell_type": "markdown",
   "metadata": {},
   "source": [
    "#### Data Preparation"
   ]
  },
  {
   "cell_type": "markdown",
   "metadata": {},
   "source": [
    "1. We first need to define the category_id-to-category_name mapping"
   ]
  },
  {
   "cell_type": "code",
   "execution_count": 139,
   "metadata": {},
   "outputs": [
    {
     "name": "stdout",
     "output_type": "stream",
     "text": [
      "1 藝術及人文\n",
      "2 社會科學、新聞學及圖書資訊\n",
      "4 自然科學、數學及統計\n",
      "7 醫藥衛生及社會福利\n",
      "6 工程、製造及營建\n",
      "9 農業、林業、漁業及獸醫\n",
      "3 商業、管理及法律\n",
      "5 資訊通訊科技\n",
      "0 教育\n",
      "8 其他\n",
      "10 服務\n"
     ]
    }
   ],
   "source": [
    "category_id_list = colname_df['category_id'].unique().tolist()\n",
    "\n",
    "# for each category_id, find its corresponding category_name\n",
    "category_map = dict()\n",
    "for i in category_id_list:\n",
    "    category_map[i] = uname2[uname2['category_id'] == i]['category_name'].unique()[0]\n",
    "\n",
    "# print category map\n",
    "for i in category_map:\n",
    "    print(i, category_map[i])"
   ]
  },
  {
   "cell_type": "markdown",
   "metadata": {},
   "source": [
    "2. We then need to define the category_id-to-color mapping"
   ]
  },
  {
   "cell_type": "code",
   "execution_count": 140,
   "metadata": {},
   "outputs": [
    {
     "name": "stdout",
     "output_type": "stream",
     "text": [
      "category id: 0, category name: 教育, color: red\n",
      "category id: 1, category name: 藝術及人文, color: blue\n",
      "category id: 2, category name: 社會科學、新聞學及圖書資訊, color: green\n",
      "category id: 3, category name: 商業、管理及法律, color: yellow\n",
      "category id: 4, category name: 自然科學、數學及統計, color: black\n",
      "category id: 5, category name: 資訊通訊科技, color: purple\n",
      "category id: 6, category name: 工程、製造及營建, color: orange\n",
      "category id: 7, category name: 醫藥衛生及社會福利, color: pink\n",
      "category id: 8, category name: 其他, color: brown\n",
      "category id: 9, category name: 農業、林業、漁業及獸醫, color: gray\n",
      "category id: 10, category name: 服務, color: cyan\n"
     ]
    }
   ],
   "source": [
    "color_map = dict()\n",
    "# generate 11 colors\n",
    "color_list = ['red', 'blue', 'green', 'yellow', 'black', 'purple', 'orange', 'pink', 'brown', 'gray', 'cyan']\n",
    "for i in range(len(color_list)):\n",
    "    color_map[i] = color_list[i]\n",
    "\n",
    "# print color map\n",
    "for i in color_map:\n",
    "    print(f\"category id: {i}, category name: {category_map[i]}, color: {color_map[i]}\")"
   ]
  },
  {
   "cell_type": "markdown",
   "metadata": {},
   "source": [
    "#### Q2.1"
   ]
  },
  {
   "cell_type": "code",
   "execution_count": 141,
   "metadata": {},
   "outputs": [],
   "source": [
    "from sklearn.decomposition import PCA\n",
    "import matplotlib.pyplot as plt"
   ]
  },
  {
   "cell_type": "code",
   "execution_count": 142,
   "metadata": {},
   "outputs": [],
   "source": [
    "# use PCA to reduce dimensionality\n",
    "pca = PCA(n_components=8)\n",
    "pca.fit(dep_stu2)\n",
    "dep_stu_pca = pca.transform(dep_stu2)"
   ]
  },
  {
   "cell_type": "code",
   "execution_count": 143,
   "metadata": {},
   "outputs": [
    {
     "data": {
      "text/plain": [
       "(1917, 8)"
      ]
     },
     "execution_count": 143,
     "metadata": {},
     "output_type": "execute_result"
    }
   ],
   "source": [
    "dep_stu_pca.shape"
   ]
  },
  {
   "cell_type": "markdown",
   "metadata": {},
   "source": [
    "接下來將使用 PCA 降維後的前八個主成分 (pc1, pc2, ..., pc8) 來視覺化資料\n",
    "而我們會畫四張圖，分別是 (pc1, pc2), (pc3, pc4), (pc5, pc6), (pc7, pc8) 的 scatter plot 以觀察 category 的分布"
   ]
  },
  {
   "cell_type": "code",
   "execution_count": 144,
   "metadata": {},
   "outputs": [],
   "source": [
    "# for all departments, construct its corresponding color list\n",
    "all_dep_colors = []\n",
    "for index, row in colname_df.iterrows():\n",
    "    all_dep_colors.append(color_map[row['category_id']])"
   ]
  },
  {
   "cell_type": "code",
   "execution_count": 152,
   "metadata": {},
   "outputs": [],
   "source": [
    "import matplotlib.pyplot as plt\n",
    "plt.rcParams['font.family'] = 'sans-serif'\n",
    "plt.rcParams['figure.figsize'] = [8, 6]\n",
    "def plot_pca_scatter(p1, p2, color_map, x_label, y_label):\n",
    "    plt.scatter(p1, p2, c=all_dep_colors, s=60)\n",
    "    markers = [plt.Line2D([0,0], [0,0], color=color, marker='o', linestyle='') for color in color_map.values()]\n",
    "    plt.legend(markers, color_map.keys(), numpoints=1)\n",
    "    # show legend with color_map\n",
    "    plt.xlabel(x_label)\n",
    "    plt.ylabel(y_label)\n",
    "    plt.show()\n"
   ]
  },
  {
   "cell_type": "code",
   "execution_count": 153,
   "metadata": {},
   "outputs": [
    {
     "data": {
      "image/png": "[encoded data removed]",
      "text/plain": [
       "<Figure size 576x432 with 1 Axes>"
      ]
     },
     "metadata": {
      "needs_background": "light"
     },
     "output_type": "display_data"
    }
   ],
   "source": [
    "p1 = dep_stu_pca[:, 0]\n",
    "p2 = dep_stu_pca[:, 1]\n",
    "plot_pca_scatter(p1, p2, color_map, 'p1', 'p2')"
   ]
  },
  {
   "cell_type": "markdown",
   "metadata": {},
   "source": [
    "color_id 為 7 的 category_name 為 \"其他\"，而可以看出其在 p2 上的分布很分散，而在 p1 上則較為集中，表示 p1 在 \"其他\" 的分類能力相較 p2 更好"
   ]
  },
  {
   "cell_type": "code",
   "execution_count": 154,
   "metadata": {},
   "outputs": [
    {
     "data": {
      "image/png": "[encoded data removed]",
      "text/plain": [
       "<Figure size 576x432 with 1 Axes>"
      ]
     },
     "metadata": {
      "needs_background": "light"
     },
     "output_type": "display_data"
    }
   ],
   "source": [
    "p3 = dep_stu_pca[:, 2]\n",
    "p4 = dep_stu_pca[:, 3]\n",
    "plot_pca_scatter(p3, p4, color_map, 'p3', 'p4')"
   ]
  },
  {
   "cell_type": "markdown",
   "metadata": {},
   "source": [
    "p3, p4 所畫出來的圖形在 category_id 為 1 (藝術及人文) 的分布較為集中，而在其他 category 的分布則較為分散，表示 p3, p4 在 \"藝術及人文\" 的分類能力可能較好"
   ]
  },
  {
   "cell_type": "code",
   "execution_count": 155,
   "metadata": {},
   "outputs": [
    {
     "data": {
      "image/png": "[encoded data removed]",
      "text/plain": [
       "<Figure size 576x432 with 1 Axes>"
      ]
     },
     "metadata": {
      "needs_background": "light"
     },
     "output_type": "display_data"
    }
   ],
   "source": [
    "p5 = dep_stu_pca[:, 4]\n",
    "p6 = dep_stu_pca[:, 5]\n",
    "plot_pca_scatter(p5, p6, color_map, 'p5', 'p6')"
   ]
  },
  {
   "cell_type": "markdown",
   "metadata": {},
   "source": [
    "p5, p6 看不出來有明顯的分布"
   ]
  },
  {
   "cell_type": "code",
   "execution_count": 156,
   "metadata": {},
   "outputs": [
    {
     "data": {
      "image/png": "[encoded data removed]",
      "text/plain": [
       "<Figure size 576x432 with 1 Axes>"
      ]
     },
     "metadata": {
      "needs_background": "light"
     },
     "output_type": "display_data"
    }
   ],
   "source": [
    "p7 = dep_stu_pca[:, 6]\n",
    "p8 = dep_stu_pca[:, 7]\n",
    "plot_pca_scatter(p7, p8, color_map, 'p7', 'p8')"
   ]
  },
  {
   "cell_type": "code",
   "execution_count": null,
   "metadata": {},
   "outputs": [],
   "source": []
  }
 ],
 "metadata": {
  "kernelspec": {
   "display_name": "Python 3.9.12 ('python39')",
   "language": "python",
   "name": "python3"
  },
  "language_info": {
   "codemirror_mode": {
    "name": "ipython",
    "version": 3
   },
   "file_extension": ".py",
   "mimetype": "text/x-python",
   "name": "python",
   "nbconvert_exporter": "python",
   "pygments_lexer": "ipython3",
   "version": "3.9.12"
  },
  "vscode": {
   "interpreter": {
    "hash": "f1f0ca08df83ebe1228368c35aef2dd5bdef6efbf7330e5bb8a931893862d7fc"
   }
  }
 },
 "nbformat": 4,
 "nbformat_minor": 4
}
